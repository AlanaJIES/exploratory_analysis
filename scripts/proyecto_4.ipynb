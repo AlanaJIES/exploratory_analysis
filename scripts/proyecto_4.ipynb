{
 "cells": [
  {
   "cell_type": "markdown",
   "metadata": {
    "id": "3rYiDeEH0q0f"
   },
   "source": [
    "# ¿Cuál es la mejor tarifa?\n",
    "\n",
    " La empresa telecomunicaciones Megaline ofrece a sus clientes dos tarifas de prepago, Surf y Ultimate. El departamento comercial quiere saber cuál de las tarifas genera más ingresos para poder ajustar el presupuesto de publicidad.\n",
    "\n",
    "Realizaremos un análisis preliminar de las tarifas basado en una selección de clientes relativamente pequeña. Tendrás los datos de 500 clientes de Megaline: quiénes son los clientes, de dónde son, qué tarifa usan, así como la cantidad de llamadas que hicieron y los mensajes de texto que enviaron en 2018. Analizaremos el comportamiento de los clientes y determinar qué tarifa de prepago genera más ingresos."
   ]
  },
  {
   "cell_type": "markdown",
   "metadata": {
    "id": "MQi4IPy70q0y"
   },
   "source": [
    "## Inicialización"
   ]
  },
  {
   "cell_type": "code",
   "execution_count": 1,
   "metadata": {
    "id": "MtYIuBxu0q0z"
   },
   "outputs": [],
   "source": [
    "# Cargar todas las librerías\n",
    "from scipy import stats as st\n",
    "from matplotlib import pyplot as plt\n",
    "import numpy as np\n",
    "import pandas as pd\n",
    "import seaborn as sns"
   ]
  },
  {
   "cell_type": "markdown",
   "metadata": {
    "id": "4ysWWC5i0q00"
   },
   "source": [
    "## Cargar datos"
   ]
  },
  {
   "cell_type": "code",
   "execution_count": 2,
   "metadata": {
    "id": "CCqPW7rS0q01"
   },
   "outputs": [],
   "source": [
    "# Cargar los archivos de datos en diferentes DataFrames\n",
    "\n",
    "calls = pd.read_csv(\"/datasets/megaline_calls.csv\")\n",
    "internet = pd.read_csv(\"/datasets/megaline_internet.csv\")\n",
    "messages = pd.read_csv(\"/datasets/megaline_messages.csv\")\n",
    "plans = pd.read_csv(\"/datasets/megaline_plans.csv\")\n",
    "users = pd.read_csv(\"/datasets/megaline_users.csv\")"
   ]
  },
  {
   "cell_type": "markdown",
   "metadata": {
    "id": "69qqoJ3r0q01"
   },
   "source": [
    "## Preparar los datos"
   ]
  },
  {
   "cell_type": "markdown",
   "metadata": {},
   "source": [
    "Usando \"info()\", se observará el tipo de datos de los dataframes. Los datos tipo object podrían ser transformados en datetime64, luego de identificar los valores ausentes y determinar la razón de los mismos. Esto podría hacerse con \"pd.to_datetime()\".\n",
    "\n",
    "La identificacion de los valores ausentes se hará principalmente usando \"isna()\" y/o \"fillna()\", dependiendo de las circunstancias.\n",
    "\n",
    "Los valores duplicados se eliminaran si son filas completas y se analizara con mayor detalle si son en determinadas columnas. Se usaran los métodos \"duplicated().sum()\" para buscarlos."
   ]
  },
  {
   "cell_type": "markdown",
   "metadata": {
    "id": "ohBhimvH0q01"
   },
   "source": [
    "## Tarifas"
   ]
  },
  {
   "cell_type": "code",
   "execution_count": 3,
   "metadata": {
    "id": "GptqP3Q40q02"
   },
   "outputs": [
    {
     "name": "stdout",
     "output_type": "stream",
     "text": [
      "<class 'pandas.core.frame.DataFrame'>\n",
      "RangeIndex: 2 entries, 0 to 1\n",
      "Data columns (total 8 columns):\n",
      " #   Column                 Non-Null Count  Dtype  \n",
      "---  ------                 --------------  -----  \n",
      " 0   messages_included      2 non-null      int64  \n",
      " 1   mb_per_month_included  2 non-null      int64  \n",
      " 2   minutes_included       2 non-null      int64  \n",
      " 3   usd_monthly_pay        2 non-null      int64  \n",
      " 4   usd_per_gb             2 non-null      int64  \n",
      " 5   usd_per_message        2 non-null      float64\n",
      " 6   usd_per_minute         2 non-null      float64\n",
      " 7   plan_name              2 non-null      object \n",
      "dtypes: float64(2), int64(5), object(1)\n",
      "memory usage: 256.0+ bytes\n"
     ]
    }
   ],
   "source": [
    "# Imprimir la información general/resumida sobre el DataFrame de las tarifas\n",
    "plans.info()\n",
    "# No hay datos nulos, ni duplicados."
   ]
  },
  {
   "cell_type": "code",
   "execution_count": 4,
   "metadata": {
    "id": "64xzjwL70q02"
   },
   "outputs": [
    {
     "data": {
      "text/html": [
       "<div>\n",
       "<style scoped>\n",
       "    .dataframe tbody tr th:only-of-type {\n",
       "        vertical-align: middle;\n",
       "    }\n",
       "\n",
       "    .dataframe tbody tr th {\n",
       "        vertical-align: top;\n",
       "    }\n",
       "\n",
       "    .dataframe thead th {\n",
       "        text-align: right;\n",
       "    }\n",
       "</style>\n",
       "<table border=\"1\" class=\"dataframe\">\n",
       "  <thead>\n",
       "    <tr style=\"text-align: right;\">\n",
       "      <th></th>\n",
       "      <th>messages_included</th>\n",
       "      <th>mb_per_month_included</th>\n",
       "      <th>minutes_included</th>\n",
       "      <th>usd_monthly_pay</th>\n",
       "      <th>usd_per_gb</th>\n",
       "      <th>usd_per_message</th>\n",
       "      <th>usd_per_minute</th>\n",
       "      <th>plan_name</th>\n",
       "    </tr>\n",
       "  </thead>\n",
       "  <tbody>\n",
       "    <tr>\n",
       "      <th>0</th>\n",
       "      <td>50</td>\n",
       "      <td>15360</td>\n",
       "      <td>500</td>\n",
       "      <td>20</td>\n",
       "      <td>10</td>\n",
       "      <td>0.03</td>\n",
       "      <td>0.03</td>\n",
       "      <td>surf</td>\n",
       "    </tr>\n",
       "    <tr>\n",
       "      <th>1</th>\n",
       "      <td>1000</td>\n",
       "      <td>30720</td>\n",
       "      <td>3000</td>\n",
       "      <td>70</td>\n",
       "      <td>7</td>\n",
       "      <td>0.01</td>\n",
       "      <td>0.01</td>\n",
       "      <td>ultimate</td>\n",
       "    </tr>\n",
       "  </tbody>\n",
       "</table>\n",
       "</div>"
      ],
      "text/plain": [
       "   messages_included  mb_per_month_included  minutes_included  \\\n",
       "0                 50                  15360               500   \n",
       "1               1000                  30720              3000   \n",
       "\n",
       "   usd_monthly_pay  usd_per_gb  usd_per_message  usd_per_minute plan_name  \n",
       "0               20          10             0.03            0.03      surf  \n",
       "1               70           7             0.01            0.01  ultimate  "
      ]
     },
     "metadata": {},
     "output_type": "display_data"
    }
   ],
   "source": [
    "# Imprimir una muestra de los datos para las tarifas\n",
    "display(plans)"
   ]
  },
  {
   "cell_type": "markdown",
   "metadata": {},
   "source": [
    "La tabla de de los datos de las tarifas muestran la informacion de la descripción de los planes. Los tipos de datos son adecuados con respecto a la información que describen. No hay datos ausentes. Se obtendran los GB incluidos en los planes y se guardaran en la columna \"gb_included\"."
   ]
  },
  {
   "cell_type": "markdown",
   "metadata": {
    "id": "R3C05i1l0q03"
   },
   "source": [
    "## Corregir datos"
   ]
  },
  {
   "cell_type": "code",
   "execution_count": 5,
   "metadata": {},
   "outputs": [
    {
     "data": {
      "text/html": [
       "<div>\n",
       "<style scoped>\n",
       "    .dataframe tbody tr th:only-of-type {\n",
       "        vertical-align: middle;\n",
       "    }\n",
       "\n",
       "    .dataframe tbody tr th {\n",
       "        vertical-align: top;\n",
       "    }\n",
       "\n",
       "    .dataframe thead th {\n",
       "        text-align: right;\n",
       "    }\n",
       "</style>\n",
       "<table border=\"1\" class=\"dataframe\">\n",
       "  <thead>\n",
       "    <tr style=\"text-align: right;\">\n",
       "      <th></th>\n",
       "      <th>messages_included</th>\n",
       "      <th>mb_per_month_included</th>\n",
       "      <th>minutes_included</th>\n",
       "      <th>usd_monthly_pay</th>\n",
       "      <th>usd_per_gb</th>\n",
       "      <th>usd_per_message</th>\n",
       "      <th>usd_per_minute</th>\n",
       "      <th>plan_name</th>\n",
       "      <th>gb_included</th>\n",
       "    </tr>\n",
       "  </thead>\n",
       "  <tbody>\n",
       "    <tr>\n",
       "      <th>0</th>\n",
       "      <td>50</td>\n",
       "      <td>15360</td>\n",
       "      <td>500</td>\n",
       "      <td>20</td>\n",
       "      <td>10</td>\n",
       "      <td>0.03</td>\n",
       "      <td>0.03</td>\n",
       "      <td>surf</td>\n",
       "      <td>15.0</td>\n",
       "    </tr>\n",
       "    <tr>\n",
       "      <th>1</th>\n",
       "      <td>1000</td>\n",
       "      <td>30720</td>\n",
       "      <td>3000</td>\n",
       "      <td>70</td>\n",
       "      <td>7</td>\n",
       "      <td>0.01</td>\n",
       "      <td>0.01</td>\n",
       "      <td>ultimate</td>\n",
       "      <td>30.0</td>\n",
       "    </tr>\n",
       "  </tbody>\n",
       "</table>\n",
       "</div>"
      ],
      "text/plain": [
       "   messages_included  mb_per_month_included  minutes_included  \\\n",
       "0                 50                  15360               500   \n",
       "1               1000                  30720              3000   \n",
       "\n",
       "   usd_monthly_pay  usd_per_gb  usd_per_message  usd_per_minute plan_name  \\\n",
       "0               20          10             0.03            0.03      surf   \n",
       "1               70           7             0.01            0.01  ultimate   \n",
       "\n",
       "   gb_included  \n",
       "0         15.0  \n",
       "1         30.0  "
      ]
     },
     "metadata": {},
     "output_type": "display_data"
    }
   ],
   "source": [
    "plans[\"gb_included\"] = plans[\"mb_per_month_included\"]/1024\n",
    "display(plans)"
   ]
  },
  {
   "cell_type": "markdown",
   "metadata": {
    "id": "LJir7bml0q03"
   },
   "source": [
    "## Enriquecer los datos"
   ]
  },
  {
   "cell_type": "code",
   "execution_count": 6,
   "metadata": {
    "id": "gfcIEuXV0q04"
   },
   "outputs": [
    {
     "data": {
      "text/html": [
       "<div>\n",
       "<style scoped>\n",
       "    .dataframe tbody tr th:only-of-type {\n",
       "        vertical-align: middle;\n",
       "    }\n",
       "\n",
       "    .dataframe tbody tr th {\n",
       "        vertical-align: top;\n",
       "    }\n",
       "\n",
       "    .dataframe thead th {\n",
       "        text-align: right;\n",
       "    }\n",
       "</style>\n",
       "<table border=\"1\" class=\"dataframe\">\n",
       "  <thead>\n",
       "    <tr style=\"text-align: right;\">\n",
       "      <th></th>\n",
       "      <th>messages_included</th>\n",
       "      <th>mb_per_month_included</th>\n",
       "      <th>min_included</th>\n",
       "      <th>usd_monthly_pay</th>\n",
       "      <th>usd_per_gb</th>\n",
       "      <th>usd_per_messages</th>\n",
       "      <th>usd_per_min</th>\n",
       "      <th>plan</th>\n",
       "      <th>gb_included</th>\n",
       "    </tr>\n",
       "  </thead>\n",
       "  <tbody>\n",
       "    <tr>\n",
       "      <th>0</th>\n",
       "      <td>50</td>\n",
       "      <td>15360</td>\n",
       "      <td>500</td>\n",
       "      <td>20</td>\n",
       "      <td>10</td>\n",
       "      <td>0.03</td>\n",
       "      <td>0.03</td>\n",
       "      <td>surf</td>\n",
       "      <td>15.0</td>\n",
       "    </tr>\n",
       "    <tr>\n",
       "      <th>1</th>\n",
       "      <td>1000</td>\n",
       "      <td>30720</td>\n",
       "      <td>3000</td>\n",
       "      <td>70</td>\n",
       "      <td>7</td>\n",
       "      <td>0.01</td>\n",
       "      <td>0.01</td>\n",
       "      <td>ultimate</td>\n",
       "      <td>30.0</td>\n",
       "    </tr>\n",
       "  </tbody>\n",
       "</table>\n",
       "</div>"
      ],
      "text/plain": [
       "   messages_included  mb_per_month_included  min_included  usd_monthly_pay  \\\n",
       "0                 50                  15360           500               20   \n",
       "1               1000                  30720          3000               70   \n",
       "\n",
       "   usd_per_gb  usd_per_messages  usd_per_min      plan  gb_included  \n",
       "0          10              0.03         0.03      surf         15.0  \n",
       "1           7              0.01         0.01  ultimate         30.0  "
      ]
     },
     "metadata": {},
     "output_type": "display_data"
    }
   ],
   "source": [
    "plans = plans.rename(columns={\"plan_name\": \"plan\"})\n",
    "plans = plans.rename(columns={\"usd_per_message\": \"usd_per_messages\"})\n",
    "plans = plans.rename(columns={\"usd_per_minute\": \"usd_per_min\"})\n",
    "plans = plans.rename(columns={\"minutes_included\": \"min_included\"})\n",
    "display(plans)"
   ]
  },
  {
   "cell_type": "markdown",
   "metadata": {
    "id": "1n2X6WXf0q04"
   },
   "source": [
    "## Usuarios/as"
   ]
  },
  {
   "cell_type": "code",
   "execution_count": 7,
   "metadata": {
    "id": "2NgjWFqx0q05"
   },
   "outputs": [
    {
     "name": "stdout",
     "output_type": "stream",
     "text": [
      "<class 'pandas.core.frame.DataFrame'>\n",
      "RangeIndex: 500 entries, 0 to 499\n",
      "Data columns (total 8 columns):\n",
      " #   Column      Non-Null Count  Dtype \n",
      "---  ------      --------------  ----- \n",
      " 0   user_id     500 non-null    int64 \n",
      " 1   first_name  500 non-null    object\n",
      " 2   last_name   500 non-null    object\n",
      " 3   age         500 non-null    int64 \n",
      " 4   city        500 non-null    object\n",
      " 5   reg_date    500 non-null    object\n",
      " 6   plan        500 non-null    object\n",
      " 7   churn_date  34 non-null     object\n",
      "dtypes: int64(2), object(6)\n",
      "memory usage: 31.4+ KB\n"
     ]
    }
   ],
   "source": [
    "# Imprimir la información general/resumida sobre el DataFrame de usuarios\n",
    "users.info()"
   ]
  },
  {
   "cell_type": "code",
   "execution_count": 8,
   "metadata": {
    "id": "1IN1L9uh0q05",
    "scrolled": false
   },
   "outputs": [
    {
     "data": {
      "text/html": [
       "<div>\n",
       "<style scoped>\n",
       "    .dataframe tbody tr th:only-of-type {\n",
       "        vertical-align: middle;\n",
       "    }\n",
       "\n",
       "    .dataframe tbody tr th {\n",
       "        vertical-align: top;\n",
       "    }\n",
       "\n",
       "    .dataframe thead th {\n",
       "        text-align: right;\n",
       "    }\n",
       "</style>\n",
       "<table border=\"1\" class=\"dataframe\">\n",
       "  <thead>\n",
       "    <tr style=\"text-align: right;\">\n",
       "      <th></th>\n",
       "      <th>user_id</th>\n",
       "      <th>first_name</th>\n",
       "      <th>last_name</th>\n",
       "      <th>age</th>\n",
       "      <th>city</th>\n",
       "      <th>reg_date</th>\n",
       "      <th>plan</th>\n",
       "      <th>churn_date</th>\n",
       "    </tr>\n",
       "  </thead>\n",
       "  <tbody>\n",
       "    <tr>\n",
       "      <th>0</th>\n",
       "      <td>1000</td>\n",
       "      <td>Anamaria</td>\n",
       "      <td>Bauer</td>\n",
       "      <td>45</td>\n",
       "      <td>Atlanta-Sandy Springs-Roswell, GA MSA</td>\n",
       "      <td>2018-12-24</td>\n",
       "      <td>ultimate</td>\n",
       "      <td>NaN</td>\n",
       "    </tr>\n",
       "    <tr>\n",
       "      <th>1</th>\n",
       "      <td>1001</td>\n",
       "      <td>Mickey</td>\n",
       "      <td>Wilkerson</td>\n",
       "      <td>28</td>\n",
       "      <td>Seattle-Tacoma-Bellevue, WA MSA</td>\n",
       "      <td>2018-08-13</td>\n",
       "      <td>surf</td>\n",
       "      <td>NaN</td>\n",
       "    </tr>\n",
       "    <tr>\n",
       "      <th>2</th>\n",
       "      <td>1002</td>\n",
       "      <td>Carlee</td>\n",
       "      <td>Hoffman</td>\n",
       "      <td>36</td>\n",
       "      <td>Las Vegas-Henderson-Paradise, NV MSA</td>\n",
       "      <td>2018-10-21</td>\n",
       "      <td>surf</td>\n",
       "      <td>NaN</td>\n",
       "    </tr>\n",
       "    <tr>\n",
       "      <th>3</th>\n",
       "      <td>1003</td>\n",
       "      <td>Reynaldo</td>\n",
       "      <td>Jenkins</td>\n",
       "      <td>52</td>\n",
       "      <td>Tulsa, OK MSA</td>\n",
       "      <td>2018-01-28</td>\n",
       "      <td>surf</td>\n",
       "      <td>NaN</td>\n",
       "    </tr>\n",
       "    <tr>\n",
       "      <th>4</th>\n",
       "      <td>1004</td>\n",
       "      <td>Leonila</td>\n",
       "      <td>Thompson</td>\n",
       "      <td>40</td>\n",
       "      <td>Seattle-Tacoma-Bellevue, WA MSA</td>\n",
       "      <td>2018-05-23</td>\n",
       "      <td>surf</td>\n",
       "      <td>NaN</td>\n",
       "    </tr>\n",
       "    <tr>\n",
       "      <th>...</th>\n",
       "      <td>...</td>\n",
       "      <td>...</td>\n",
       "      <td>...</td>\n",
       "      <td>...</td>\n",
       "      <td>...</td>\n",
       "      <td>...</td>\n",
       "      <td>...</td>\n",
       "      <td>...</td>\n",
       "    </tr>\n",
       "    <tr>\n",
       "      <th>495</th>\n",
       "      <td>1495</td>\n",
       "      <td>Fidel</td>\n",
       "      <td>Sharpe</td>\n",
       "      <td>67</td>\n",
       "      <td>New York-Newark-Jersey City, NY-NJ-PA MSA</td>\n",
       "      <td>2018-09-04</td>\n",
       "      <td>surf</td>\n",
       "      <td>NaN</td>\n",
       "    </tr>\n",
       "    <tr>\n",
       "      <th>496</th>\n",
       "      <td>1496</td>\n",
       "      <td>Ariel</td>\n",
       "      <td>Shepherd</td>\n",
       "      <td>49</td>\n",
       "      <td>New Orleans-Metairie, LA MSA</td>\n",
       "      <td>2018-02-20</td>\n",
       "      <td>surf</td>\n",
       "      <td>NaN</td>\n",
       "    </tr>\n",
       "    <tr>\n",
       "      <th>497</th>\n",
       "      <td>1497</td>\n",
       "      <td>Donte</td>\n",
       "      <td>Barrera</td>\n",
       "      <td>49</td>\n",
       "      <td>Los Angeles-Long Beach-Anaheim, CA MSA</td>\n",
       "      <td>2018-12-10</td>\n",
       "      <td>ultimate</td>\n",
       "      <td>NaN</td>\n",
       "    </tr>\n",
       "    <tr>\n",
       "      <th>498</th>\n",
       "      <td>1498</td>\n",
       "      <td>Scot</td>\n",
       "      <td>Williamson</td>\n",
       "      <td>51</td>\n",
       "      <td>New York-Newark-Jersey City, NY-NJ-PA MSA</td>\n",
       "      <td>2018-02-04</td>\n",
       "      <td>surf</td>\n",
       "      <td>NaN</td>\n",
       "    </tr>\n",
       "    <tr>\n",
       "      <th>499</th>\n",
       "      <td>1499</td>\n",
       "      <td>Shena</td>\n",
       "      <td>Dickson</td>\n",
       "      <td>37</td>\n",
       "      <td>Orlando-Kissimmee-Sanford, FL MSA</td>\n",
       "      <td>2018-05-06</td>\n",
       "      <td>surf</td>\n",
       "      <td>NaN</td>\n",
       "    </tr>\n",
       "  </tbody>\n",
       "</table>\n",
       "<p>500 rows × 8 columns</p>\n",
       "</div>"
      ],
      "text/plain": [
       "     user_id first_name   last_name  age  \\\n",
       "0       1000   Anamaria       Bauer   45   \n",
       "1       1001     Mickey   Wilkerson   28   \n",
       "2       1002     Carlee     Hoffman   36   \n",
       "3       1003   Reynaldo     Jenkins   52   \n",
       "4       1004    Leonila    Thompson   40   \n",
       "..       ...        ...         ...  ...   \n",
       "495     1495      Fidel      Sharpe   67   \n",
       "496     1496      Ariel    Shepherd   49   \n",
       "497     1497      Donte     Barrera   49   \n",
       "498     1498       Scot  Williamson   51   \n",
       "499     1499      Shena     Dickson   37   \n",
       "\n",
       "                                          city    reg_date      plan  \\\n",
       "0        Atlanta-Sandy Springs-Roswell, GA MSA  2018-12-24  ultimate   \n",
       "1              Seattle-Tacoma-Bellevue, WA MSA  2018-08-13      surf   \n",
       "2         Las Vegas-Henderson-Paradise, NV MSA  2018-10-21      surf   \n",
       "3                                Tulsa, OK MSA  2018-01-28      surf   \n",
       "4              Seattle-Tacoma-Bellevue, WA MSA  2018-05-23      surf   \n",
       "..                                         ...         ...       ...   \n",
       "495  New York-Newark-Jersey City, NY-NJ-PA MSA  2018-09-04      surf   \n",
       "496               New Orleans-Metairie, LA MSA  2018-02-20      surf   \n",
       "497     Los Angeles-Long Beach-Anaheim, CA MSA  2018-12-10  ultimate   \n",
       "498  New York-Newark-Jersey City, NY-NJ-PA MSA  2018-02-04      surf   \n",
       "499          Orlando-Kissimmee-Sanford, FL MSA  2018-05-06      surf   \n",
       "\n",
       "    churn_date  \n",
       "0          NaN  \n",
       "1          NaN  \n",
       "2          NaN  \n",
       "3          NaN  \n",
       "4          NaN  \n",
       "..         ...  \n",
       "495        NaN  \n",
       "496        NaN  \n",
       "497        NaN  \n",
       "498        NaN  \n",
       "499        NaN  \n",
       "\n",
       "[500 rows x 8 columns]"
      ]
     },
     "metadata": {},
     "output_type": "display_data"
    },
    {
     "data": {
      "text/html": [
       "<div>\n",
       "<style scoped>\n",
       "    .dataframe tbody tr th:only-of-type {\n",
       "        vertical-align: middle;\n",
       "    }\n",
       "\n",
       "    .dataframe tbody tr th {\n",
       "        vertical-align: top;\n",
       "    }\n",
       "\n",
       "    .dataframe thead th {\n",
       "        text-align: right;\n",
       "    }\n",
       "</style>\n",
       "<table border=\"1\" class=\"dataframe\">\n",
       "  <thead>\n",
       "    <tr style=\"text-align: right;\">\n",
       "      <th></th>\n",
       "      <th>user_id</th>\n",
       "      <th>age</th>\n",
       "    </tr>\n",
       "  </thead>\n",
       "  <tbody>\n",
       "    <tr>\n",
       "      <th>count</th>\n",
       "      <td>500.000000</td>\n",
       "      <td>500.000000</td>\n",
       "    </tr>\n",
       "    <tr>\n",
       "      <th>mean</th>\n",
       "      <td>1249.500000</td>\n",
       "      <td>45.486000</td>\n",
       "    </tr>\n",
       "    <tr>\n",
       "      <th>std</th>\n",
       "      <td>144.481833</td>\n",
       "      <td>16.972269</td>\n",
       "    </tr>\n",
       "    <tr>\n",
       "      <th>min</th>\n",
       "      <td>1000.000000</td>\n",
       "      <td>18.000000</td>\n",
       "    </tr>\n",
       "    <tr>\n",
       "      <th>25%</th>\n",
       "      <td>1124.750000</td>\n",
       "      <td>30.000000</td>\n",
       "    </tr>\n",
       "    <tr>\n",
       "      <th>50%</th>\n",
       "      <td>1249.500000</td>\n",
       "      <td>46.000000</td>\n",
       "    </tr>\n",
       "    <tr>\n",
       "      <th>75%</th>\n",
       "      <td>1374.250000</td>\n",
       "      <td>61.000000</td>\n",
       "    </tr>\n",
       "    <tr>\n",
       "      <th>max</th>\n",
       "      <td>1499.000000</td>\n",
       "      <td>75.000000</td>\n",
       "    </tr>\n",
       "  </tbody>\n",
       "</table>\n",
       "</div>"
      ],
      "text/plain": [
       "           user_id         age\n",
       "count   500.000000  500.000000\n",
       "mean   1249.500000   45.486000\n",
       "std     144.481833   16.972269\n",
       "min    1000.000000   18.000000\n",
       "25%    1124.750000   30.000000\n",
       "50%    1249.500000   46.000000\n",
       "75%    1374.250000   61.000000\n",
       "max    1499.000000   75.000000"
      ]
     },
     "metadata": {},
     "output_type": "display_data"
    },
    {
     "data": {
      "text/plain": [
       "surf        339\n",
       "ultimate    161\n",
       "Name: plan, dtype: int64"
      ]
     },
     "metadata": {},
     "output_type": "display_data"
    },
    {
     "data": {
      "text/plain": [
       "0"
      ]
     },
     "execution_count": 8,
     "metadata": {},
     "output_type": "execute_result"
    }
   ],
   "source": [
    "# Imprimir una muestra de datos para usuarios\n",
    "display(users)\n",
    "display(users.describe())\n",
    "\n",
    "# Para analizar la proporciones de la población que tienen un determinado plan.\n",
    "display(users[\"plan\"].value_counts())\n",
    "\n",
    "# Verificar si hay datos duplicados.\n",
    "users.duplicated().sum()"
   ]
  },
  {
   "cell_type": "markdown",
   "metadata": {},
   "source": [
    "Los nombres estan con mayusculas y minusculas. Normalizaré los nombres volviendo todo a minusculas. \n",
    "Los datos de las fechas necesitan ser pasados a Timestamps o datetime. Luego de hacer esto hay que revisar si hay datos duplicados.\n",
    "\n",
    "Usando el método describe() observamos que todos los usuarios son adultos, entre los 18 a los 75 años. El promedio se encuentra en los 45 años.\n",
    "\n",
    "Se agregaran columnas para diferenciar los meses cuando se suscribieron los clientes y cuando dejaron de usar el servicio.\n",
    "\n",
    "No se observan filas duplicadas en el dataframe. \n",
    "\n",
    "Hay datosa nulos en la columna de \"churn_date\". Esto ocurre porque no hay una fecha establecida de cuando los clientes dejaron de usar los planes. Solo tenemos 34 usuarios que dejaron el plan que usaban en una fecha dentro del 2018."
   ]
  },
  {
   "cell_type": "markdown",
   "metadata": {
    "id": "BX5FQh_I0q06"
   },
   "source": [
    "### Corregir los datos"
   ]
  },
  {
   "cell_type": "code",
   "execution_count": 9,
   "metadata": {
    "id": "yUqX-K0C0q07"
   },
   "outputs": [
    {
     "data": {
      "text/html": [
       "<div>\n",
       "<style scoped>\n",
       "    .dataframe tbody tr th:only-of-type {\n",
       "        vertical-align: middle;\n",
       "    }\n",
       "\n",
       "    .dataframe tbody tr th {\n",
       "        vertical-align: top;\n",
       "    }\n",
       "\n",
       "    .dataframe thead th {\n",
       "        text-align: right;\n",
       "    }\n",
       "</style>\n",
       "<table border=\"1\" class=\"dataframe\">\n",
       "  <thead>\n",
       "    <tr style=\"text-align: right;\">\n",
       "      <th></th>\n",
       "      <th>user_id</th>\n",
       "      <th>first_name</th>\n",
       "      <th>last_name</th>\n",
       "      <th>age</th>\n",
       "      <th>city</th>\n",
       "      <th>reg_date</th>\n",
       "      <th>plan</th>\n",
       "      <th>churn_date</th>\n",
       "    </tr>\n",
       "  </thead>\n",
       "  <tbody>\n",
       "    <tr>\n",
       "      <th>0</th>\n",
       "      <td>1000</td>\n",
       "      <td>anamaria</td>\n",
       "      <td>bauer</td>\n",
       "      <td>45</td>\n",
       "      <td>atlanta-sandy springs-roswell, ga msa</td>\n",
       "      <td>2018-12-24</td>\n",
       "      <td>ultimate</td>\n",
       "      <td>NaT</td>\n",
       "    </tr>\n",
       "    <tr>\n",
       "      <th>1</th>\n",
       "      <td>1001</td>\n",
       "      <td>mickey</td>\n",
       "      <td>wilkerson</td>\n",
       "      <td>28</td>\n",
       "      <td>seattle-tacoma-bellevue, wa msa</td>\n",
       "      <td>2018-08-13</td>\n",
       "      <td>surf</td>\n",
       "      <td>NaT</td>\n",
       "    </tr>\n",
       "    <tr>\n",
       "      <th>2</th>\n",
       "      <td>1002</td>\n",
       "      <td>carlee</td>\n",
       "      <td>hoffman</td>\n",
       "      <td>36</td>\n",
       "      <td>las vegas-henderson-paradise, nv msa</td>\n",
       "      <td>2018-10-21</td>\n",
       "      <td>surf</td>\n",
       "      <td>NaT</td>\n",
       "    </tr>\n",
       "    <tr>\n",
       "      <th>3</th>\n",
       "      <td>1003</td>\n",
       "      <td>reynaldo</td>\n",
       "      <td>jenkins</td>\n",
       "      <td>52</td>\n",
       "      <td>tulsa, ok msa</td>\n",
       "      <td>2018-01-28</td>\n",
       "      <td>surf</td>\n",
       "      <td>NaT</td>\n",
       "    </tr>\n",
       "    <tr>\n",
       "      <th>4</th>\n",
       "      <td>1004</td>\n",
       "      <td>leonila</td>\n",
       "      <td>thompson</td>\n",
       "      <td>40</td>\n",
       "      <td>seattle-tacoma-bellevue, wa msa</td>\n",
       "      <td>2018-05-23</td>\n",
       "      <td>surf</td>\n",
       "      <td>NaT</td>\n",
       "    </tr>\n",
       "    <tr>\n",
       "      <th>...</th>\n",
       "      <td>...</td>\n",
       "      <td>...</td>\n",
       "      <td>...</td>\n",
       "      <td>...</td>\n",
       "      <td>...</td>\n",
       "      <td>...</td>\n",
       "      <td>...</td>\n",
       "      <td>...</td>\n",
       "    </tr>\n",
       "    <tr>\n",
       "      <th>495</th>\n",
       "      <td>1495</td>\n",
       "      <td>fidel</td>\n",
       "      <td>sharpe</td>\n",
       "      <td>67</td>\n",
       "      <td>new york-newark-jersey city, ny-nj-pa msa</td>\n",
       "      <td>2018-09-04</td>\n",
       "      <td>surf</td>\n",
       "      <td>NaT</td>\n",
       "    </tr>\n",
       "    <tr>\n",
       "      <th>496</th>\n",
       "      <td>1496</td>\n",
       "      <td>ariel</td>\n",
       "      <td>shepherd</td>\n",
       "      <td>49</td>\n",
       "      <td>new orleans-metairie, la msa</td>\n",
       "      <td>2018-02-20</td>\n",
       "      <td>surf</td>\n",
       "      <td>NaT</td>\n",
       "    </tr>\n",
       "    <tr>\n",
       "      <th>497</th>\n",
       "      <td>1497</td>\n",
       "      <td>donte</td>\n",
       "      <td>barrera</td>\n",
       "      <td>49</td>\n",
       "      <td>los angeles-long beach-anaheim, ca msa</td>\n",
       "      <td>2018-12-10</td>\n",
       "      <td>ultimate</td>\n",
       "      <td>NaT</td>\n",
       "    </tr>\n",
       "    <tr>\n",
       "      <th>498</th>\n",
       "      <td>1498</td>\n",
       "      <td>scot</td>\n",
       "      <td>williamson</td>\n",
       "      <td>51</td>\n",
       "      <td>new york-newark-jersey city, ny-nj-pa msa</td>\n",
       "      <td>2018-02-04</td>\n",
       "      <td>surf</td>\n",
       "      <td>NaT</td>\n",
       "    </tr>\n",
       "    <tr>\n",
       "      <th>499</th>\n",
       "      <td>1499</td>\n",
       "      <td>shena</td>\n",
       "      <td>dickson</td>\n",
       "      <td>37</td>\n",
       "      <td>orlando-kissimmee-sanford, fl msa</td>\n",
       "      <td>2018-05-06</td>\n",
       "      <td>surf</td>\n",
       "      <td>NaT</td>\n",
       "    </tr>\n",
       "  </tbody>\n",
       "</table>\n",
       "<p>500 rows × 8 columns</p>\n",
       "</div>"
      ],
      "text/plain": [
       "     user_id first_name   last_name  age  \\\n",
       "0       1000   anamaria       bauer   45   \n",
       "1       1001     mickey   wilkerson   28   \n",
       "2       1002     carlee     hoffman   36   \n",
       "3       1003   reynaldo     jenkins   52   \n",
       "4       1004    leonila    thompson   40   \n",
       "..       ...        ...         ...  ...   \n",
       "495     1495      fidel      sharpe   67   \n",
       "496     1496      ariel    shepherd   49   \n",
       "497     1497      donte     barrera   49   \n",
       "498     1498       scot  williamson   51   \n",
       "499     1499      shena     dickson   37   \n",
       "\n",
       "                                          city   reg_date      plan churn_date  \n",
       "0        atlanta-sandy springs-roswell, ga msa 2018-12-24  ultimate        NaT  \n",
       "1              seattle-tacoma-bellevue, wa msa 2018-08-13      surf        NaT  \n",
       "2         las vegas-henderson-paradise, nv msa 2018-10-21      surf        NaT  \n",
       "3                                tulsa, ok msa 2018-01-28      surf        NaT  \n",
       "4              seattle-tacoma-bellevue, wa msa 2018-05-23      surf        NaT  \n",
       "..                                         ...        ...       ...        ...  \n",
       "495  new york-newark-jersey city, ny-nj-pa msa 2018-09-04      surf        NaT  \n",
       "496               new orleans-metairie, la msa 2018-02-20      surf        NaT  \n",
       "497     los angeles-long beach-anaheim, ca msa 2018-12-10  ultimate        NaT  \n",
       "498  new york-newark-jersey city, ny-nj-pa msa 2018-02-04      surf        NaT  \n",
       "499          orlando-kissimmee-sanford, fl msa 2018-05-06      surf        NaT  \n",
       "\n",
       "[500 rows x 8 columns]"
      ]
     },
     "metadata": {},
     "output_type": "display_data"
    },
    {
     "name": "stdout",
     "output_type": "stream",
     "text": [
      "<class 'pandas.core.frame.DataFrame'>\n",
      "RangeIndex: 500 entries, 0 to 499\n",
      "Data columns (total 8 columns):\n",
      " #   Column      Non-Null Count  Dtype         \n",
      "---  ------      --------------  -----         \n",
      " 0   user_id     500 non-null    int64         \n",
      " 1   first_name  500 non-null    object        \n",
      " 2   last_name   500 non-null    object        \n",
      " 3   age         500 non-null    int64         \n",
      " 4   city        500 non-null    object        \n",
      " 5   reg_date    500 non-null    datetime64[ns]\n",
      " 6   plan        500 non-null    object        \n",
      " 7   churn_date  34 non-null     datetime64[ns]\n",
      "dtypes: datetime64[ns](2), int64(2), object(4)\n",
      "memory usage: 31.4+ KB\n"
     ]
    }
   ],
   "source": [
    "users[\"first_name\"] = users[\"first_name\"].str.lower()\n",
    "users[\"last_name\"] = users[\"last_name\"].str.lower()\n",
    "users[\"city\"] = users[\"city\"].str.lower()\n",
    "users[\"reg_date\"] = pd.to_datetime(users[\"reg_date\"], format=\"%Y-%m-%d\")\n",
    "users[\"churn_date\"] = pd.to_datetime(users[\"churn_date\"], format=\"%Y-%m-%d\")\n",
    "\n",
    "display(users)\n",
    "users.info()"
   ]
  },
  {
   "cell_type": "markdown",
   "metadata": {
    "id": "ycwuARJp0q07"
   },
   "source": [
    "### Enriquecer los datos"
   ]
  },
  {
   "cell_type": "code",
   "execution_count": 10,
   "metadata": {
    "id": "iq0AaBS90q08"
   },
   "outputs": [
    {
     "data": {
      "text/html": [
       "<div>\n",
       "<style scoped>\n",
       "    .dataframe tbody tr th:only-of-type {\n",
       "        vertical-align: middle;\n",
       "    }\n",
       "\n",
       "    .dataframe tbody tr th {\n",
       "        vertical-align: top;\n",
       "    }\n",
       "\n",
       "    .dataframe thead th {\n",
       "        text-align: right;\n",
       "    }\n",
       "</style>\n",
       "<table border=\"1\" class=\"dataframe\">\n",
       "  <thead>\n",
       "    <tr style=\"text-align: right;\">\n",
       "      <th></th>\n",
       "      <th>user_id</th>\n",
       "      <th>first_name</th>\n",
       "      <th>last_name</th>\n",
       "      <th>age</th>\n",
       "      <th>city</th>\n",
       "      <th>reg_date</th>\n",
       "      <th>plan</th>\n",
       "      <th>churn_date</th>\n",
       "      <th>reg_date_month</th>\n",
       "      <th>churn_date_month</th>\n",
       "    </tr>\n",
       "  </thead>\n",
       "  <tbody>\n",
       "    <tr>\n",
       "      <th>0</th>\n",
       "      <td>1000</td>\n",
       "      <td>anamaria</td>\n",
       "      <td>bauer</td>\n",
       "      <td>45</td>\n",
       "      <td>atlanta-sandy springs-roswell, ga msa</td>\n",
       "      <td>2018-12-24</td>\n",
       "      <td>ultimate</td>\n",
       "      <td>NaT</td>\n",
       "      <td>12</td>\n",
       "      <td>NaN</td>\n",
       "    </tr>\n",
       "    <tr>\n",
       "      <th>1</th>\n",
       "      <td>1001</td>\n",
       "      <td>mickey</td>\n",
       "      <td>wilkerson</td>\n",
       "      <td>28</td>\n",
       "      <td>seattle-tacoma-bellevue, wa msa</td>\n",
       "      <td>2018-08-13</td>\n",
       "      <td>surf</td>\n",
       "      <td>NaT</td>\n",
       "      <td>8</td>\n",
       "      <td>NaN</td>\n",
       "    </tr>\n",
       "    <tr>\n",
       "      <th>2</th>\n",
       "      <td>1002</td>\n",
       "      <td>carlee</td>\n",
       "      <td>hoffman</td>\n",
       "      <td>36</td>\n",
       "      <td>las vegas-henderson-paradise, nv msa</td>\n",
       "      <td>2018-10-21</td>\n",
       "      <td>surf</td>\n",
       "      <td>NaT</td>\n",
       "      <td>10</td>\n",
       "      <td>NaN</td>\n",
       "    </tr>\n",
       "    <tr>\n",
       "      <th>3</th>\n",
       "      <td>1003</td>\n",
       "      <td>reynaldo</td>\n",
       "      <td>jenkins</td>\n",
       "      <td>52</td>\n",
       "      <td>tulsa, ok msa</td>\n",
       "      <td>2018-01-28</td>\n",
       "      <td>surf</td>\n",
       "      <td>NaT</td>\n",
       "      <td>1</td>\n",
       "      <td>NaN</td>\n",
       "    </tr>\n",
       "    <tr>\n",
       "      <th>4</th>\n",
       "      <td>1004</td>\n",
       "      <td>leonila</td>\n",
       "      <td>thompson</td>\n",
       "      <td>40</td>\n",
       "      <td>seattle-tacoma-bellevue, wa msa</td>\n",
       "      <td>2018-05-23</td>\n",
       "      <td>surf</td>\n",
       "      <td>NaT</td>\n",
       "      <td>5</td>\n",
       "      <td>NaN</td>\n",
       "    </tr>\n",
       "    <tr>\n",
       "      <th>...</th>\n",
       "      <td>...</td>\n",
       "      <td>...</td>\n",
       "      <td>...</td>\n",
       "      <td>...</td>\n",
       "      <td>...</td>\n",
       "      <td>...</td>\n",
       "      <td>...</td>\n",
       "      <td>...</td>\n",
       "      <td>...</td>\n",
       "      <td>...</td>\n",
       "    </tr>\n",
       "    <tr>\n",
       "      <th>495</th>\n",
       "      <td>1495</td>\n",
       "      <td>fidel</td>\n",
       "      <td>sharpe</td>\n",
       "      <td>67</td>\n",
       "      <td>new york-newark-jersey city, ny-nj-pa msa</td>\n",
       "      <td>2018-09-04</td>\n",
       "      <td>surf</td>\n",
       "      <td>NaT</td>\n",
       "      <td>9</td>\n",
       "      <td>NaN</td>\n",
       "    </tr>\n",
       "    <tr>\n",
       "      <th>496</th>\n",
       "      <td>1496</td>\n",
       "      <td>ariel</td>\n",
       "      <td>shepherd</td>\n",
       "      <td>49</td>\n",
       "      <td>new orleans-metairie, la msa</td>\n",
       "      <td>2018-02-20</td>\n",
       "      <td>surf</td>\n",
       "      <td>NaT</td>\n",
       "      <td>2</td>\n",
       "      <td>NaN</td>\n",
       "    </tr>\n",
       "    <tr>\n",
       "      <th>497</th>\n",
       "      <td>1497</td>\n",
       "      <td>donte</td>\n",
       "      <td>barrera</td>\n",
       "      <td>49</td>\n",
       "      <td>los angeles-long beach-anaheim, ca msa</td>\n",
       "      <td>2018-12-10</td>\n",
       "      <td>ultimate</td>\n",
       "      <td>NaT</td>\n",
       "      <td>12</td>\n",
       "      <td>NaN</td>\n",
       "    </tr>\n",
       "    <tr>\n",
       "      <th>498</th>\n",
       "      <td>1498</td>\n",
       "      <td>scot</td>\n",
       "      <td>williamson</td>\n",
       "      <td>51</td>\n",
       "      <td>new york-newark-jersey city, ny-nj-pa msa</td>\n",
       "      <td>2018-02-04</td>\n",
       "      <td>surf</td>\n",
       "      <td>NaT</td>\n",
       "      <td>2</td>\n",
       "      <td>NaN</td>\n",
       "    </tr>\n",
       "    <tr>\n",
       "      <th>499</th>\n",
       "      <td>1499</td>\n",
       "      <td>shena</td>\n",
       "      <td>dickson</td>\n",
       "      <td>37</td>\n",
       "      <td>orlando-kissimmee-sanford, fl msa</td>\n",
       "      <td>2018-05-06</td>\n",
       "      <td>surf</td>\n",
       "      <td>NaT</td>\n",
       "      <td>5</td>\n",
       "      <td>NaN</td>\n",
       "    </tr>\n",
       "  </tbody>\n",
       "</table>\n",
       "<p>500 rows × 10 columns</p>\n",
       "</div>"
      ],
      "text/plain": [
       "     user_id first_name   last_name  age  \\\n",
       "0       1000   anamaria       bauer   45   \n",
       "1       1001     mickey   wilkerson   28   \n",
       "2       1002     carlee     hoffman   36   \n",
       "3       1003   reynaldo     jenkins   52   \n",
       "4       1004    leonila    thompson   40   \n",
       "..       ...        ...         ...  ...   \n",
       "495     1495      fidel      sharpe   67   \n",
       "496     1496      ariel    shepherd   49   \n",
       "497     1497      donte     barrera   49   \n",
       "498     1498       scot  williamson   51   \n",
       "499     1499      shena     dickson   37   \n",
       "\n",
       "                                          city   reg_date      plan  \\\n",
       "0        atlanta-sandy springs-roswell, ga msa 2018-12-24  ultimate   \n",
       "1              seattle-tacoma-bellevue, wa msa 2018-08-13      surf   \n",
       "2         las vegas-henderson-paradise, nv msa 2018-10-21      surf   \n",
       "3                                tulsa, ok msa 2018-01-28      surf   \n",
       "4              seattle-tacoma-bellevue, wa msa 2018-05-23      surf   \n",
       "..                                         ...        ...       ...   \n",
       "495  new york-newark-jersey city, ny-nj-pa msa 2018-09-04      surf   \n",
       "496               new orleans-metairie, la msa 2018-02-20      surf   \n",
       "497     los angeles-long beach-anaheim, ca msa 2018-12-10  ultimate   \n",
       "498  new york-newark-jersey city, ny-nj-pa msa 2018-02-04      surf   \n",
       "499          orlando-kissimmee-sanford, fl msa 2018-05-06      surf   \n",
       "\n",
       "    churn_date  reg_date_month  churn_date_month  \n",
       "0          NaT              12               NaN  \n",
       "1          NaT               8               NaN  \n",
       "2          NaT              10               NaN  \n",
       "3          NaT               1               NaN  \n",
       "4          NaT               5               NaN  \n",
       "..         ...             ...               ...  \n",
       "495        NaT               9               NaN  \n",
       "496        NaT               2               NaN  \n",
       "497        NaT              12               NaN  \n",
       "498        NaT               2               NaN  \n",
       "499        NaT               5               NaN  \n",
       "\n",
       "[500 rows x 10 columns]"
      ]
     },
     "metadata": {},
     "output_type": "display_data"
    },
    {
     "name": "stdout",
     "output_type": "stream",
     "text": [
      "<class 'pandas.core.frame.DataFrame'>\n",
      "RangeIndex: 500 entries, 0 to 499\n",
      "Data columns (total 10 columns):\n",
      " #   Column            Non-Null Count  Dtype         \n",
      "---  ------            --------------  -----         \n",
      " 0   user_id           500 non-null    int64         \n",
      " 1   first_name        500 non-null    object        \n",
      " 2   last_name         500 non-null    object        \n",
      " 3   age               500 non-null    int64         \n",
      " 4   city              500 non-null    object        \n",
      " 5   reg_date          500 non-null    datetime64[ns]\n",
      " 6   plan              500 non-null    object        \n",
      " 7   churn_date        34 non-null     datetime64[ns]\n",
      " 8   reg_date_month    500 non-null    int64         \n",
      " 9   churn_date_month  34 non-null     float64       \n",
      "dtypes: datetime64[ns](2), float64(1), int64(3), object(4)\n",
      "memory usage: 39.2+ KB\n"
     ]
    }
   ],
   "source": [
    "users[\"reg_date_month\"] = users[\"reg_date\"].dt.month\n",
    "users[\"churn_date_month\"] = users[\"churn_date\"].dt.month\n",
    "display(users)\n",
    "users.info()"
   ]
  },
  {
   "cell_type": "markdown",
   "metadata": {
    "id": "o7MeKCid0q08"
   },
   "source": [
    "## Llamadas"
   ]
  },
  {
   "cell_type": "code",
   "execution_count": 11,
   "metadata": {
    "id": "6dDlnoDm0q08"
   },
   "outputs": [
    {
     "name": "stdout",
     "output_type": "stream",
     "text": [
      "<class 'pandas.core.frame.DataFrame'>\n",
      "RangeIndex: 137735 entries, 0 to 137734\n",
      "Data columns (total 4 columns):\n",
      " #   Column     Non-Null Count   Dtype  \n",
      "---  ------     --------------   -----  \n",
      " 0   id         137735 non-null  object \n",
      " 1   user_id    137735 non-null  int64  \n",
      " 2   call_date  137735 non-null  object \n",
      " 3   duration   137735 non-null  float64\n",
      "dtypes: float64(1), int64(1), object(2)\n",
      "memory usage: 4.2+ MB\n"
     ]
    }
   ],
   "source": [
    "# Imprimir la información general/resumida sobre el DataFrame de las llamadas\n",
    "calls.info()"
   ]
  },
  {
   "cell_type": "code",
   "execution_count": 12,
   "metadata": {
    "id": "kuh1vlNB0q09"
   },
   "outputs": [
    {
     "data": {
      "text/html": [
       "<div>\n",
       "<style scoped>\n",
       "    .dataframe tbody tr th:only-of-type {\n",
       "        vertical-align: middle;\n",
       "    }\n",
       "\n",
       "    .dataframe tbody tr th {\n",
       "        vertical-align: top;\n",
       "    }\n",
       "\n",
       "    .dataframe thead th {\n",
       "        text-align: right;\n",
       "    }\n",
       "</style>\n",
       "<table border=\"1\" class=\"dataframe\">\n",
       "  <thead>\n",
       "    <tr style=\"text-align: right;\">\n",
       "      <th></th>\n",
       "      <th>id</th>\n",
       "      <th>user_id</th>\n",
       "      <th>call_date</th>\n",
       "      <th>duration</th>\n",
       "    </tr>\n",
       "  </thead>\n",
       "  <tbody>\n",
       "    <tr>\n",
       "      <th>0</th>\n",
       "      <td>1000_93</td>\n",
       "      <td>1000</td>\n",
       "      <td>2018-12-27</td>\n",
       "      <td>8.52</td>\n",
       "    </tr>\n",
       "    <tr>\n",
       "      <th>1</th>\n",
       "      <td>1000_145</td>\n",
       "      <td>1000</td>\n",
       "      <td>2018-12-27</td>\n",
       "      <td>13.66</td>\n",
       "    </tr>\n",
       "    <tr>\n",
       "      <th>2</th>\n",
       "      <td>1000_247</td>\n",
       "      <td>1000</td>\n",
       "      <td>2018-12-27</td>\n",
       "      <td>14.48</td>\n",
       "    </tr>\n",
       "    <tr>\n",
       "      <th>3</th>\n",
       "      <td>1000_309</td>\n",
       "      <td>1000</td>\n",
       "      <td>2018-12-28</td>\n",
       "      <td>5.76</td>\n",
       "    </tr>\n",
       "    <tr>\n",
       "      <th>4</th>\n",
       "      <td>1000_380</td>\n",
       "      <td>1000</td>\n",
       "      <td>2018-12-30</td>\n",
       "      <td>4.22</td>\n",
       "    </tr>\n",
       "    <tr>\n",
       "      <th>...</th>\n",
       "      <td>...</td>\n",
       "      <td>...</td>\n",
       "      <td>...</td>\n",
       "      <td>...</td>\n",
       "    </tr>\n",
       "    <tr>\n",
       "      <th>137730</th>\n",
       "      <td>1499_199</td>\n",
       "      <td>1499</td>\n",
       "      <td>2018-11-21</td>\n",
       "      <td>8.72</td>\n",
       "    </tr>\n",
       "    <tr>\n",
       "      <th>137731</th>\n",
       "      <td>1499_200</td>\n",
       "      <td>1499</td>\n",
       "      <td>2018-10-20</td>\n",
       "      <td>10.89</td>\n",
       "    </tr>\n",
       "    <tr>\n",
       "      <th>137732</th>\n",
       "      <td>1499_201</td>\n",
       "      <td>1499</td>\n",
       "      <td>2018-09-21</td>\n",
       "      <td>8.12</td>\n",
       "    </tr>\n",
       "    <tr>\n",
       "      <th>137733</th>\n",
       "      <td>1499_202</td>\n",
       "      <td>1499</td>\n",
       "      <td>2018-10-10</td>\n",
       "      <td>0.37</td>\n",
       "    </tr>\n",
       "    <tr>\n",
       "      <th>137734</th>\n",
       "      <td>1499_203</td>\n",
       "      <td>1499</td>\n",
       "      <td>2018-12-29</td>\n",
       "      <td>13.86</td>\n",
       "    </tr>\n",
       "  </tbody>\n",
       "</table>\n",
       "<p>137735 rows × 4 columns</p>\n",
       "</div>"
      ],
      "text/plain": [
       "              id  user_id   call_date  duration\n",
       "0        1000_93     1000  2018-12-27      8.52\n",
       "1       1000_145     1000  2018-12-27     13.66\n",
       "2       1000_247     1000  2018-12-27     14.48\n",
       "3       1000_309     1000  2018-12-28      5.76\n",
       "4       1000_380     1000  2018-12-30      4.22\n",
       "...          ...      ...         ...       ...\n",
       "137730  1499_199     1499  2018-11-21      8.72\n",
       "137731  1499_200     1499  2018-10-20     10.89\n",
       "137732  1499_201     1499  2018-09-21      8.12\n",
       "137733  1499_202     1499  2018-10-10      0.37\n",
       "137734  1499_203     1499  2018-12-29     13.86\n",
       "\n",
       "[137735 rows x 4 columns]"
      ]
     },
     "metadata": {},
     "output_type": "display_data"
    },
    {
     "data": {
      "text/html": [
       "<div>\n",
       "<style scoped>\n",
       "    .dataframe tbody tr th:only-of-type {\n",
       "        vertical-align: middle;\n",
       "    }\n",
       "\n",
       "    .dataframe tbody tr th {\n",
       "        vertical-align: top;\n",
       "    }\n",
       "\n",
       "    .dataframe thead th {\n",
       "        text-align: right;\n",
       "    }\n",
       "</style>\n",
       "<table border=\"1\" class=\"dataframe\">\n",
       "  <thead>\n",
       "    <tr style=\"text-align: right;\">\n",
       "      <th></th>\n",
       "      <th>user_id</th>\n",
       "      <th>duration</th>\n",
       "    </tr>\n",
       "  </thead>\n",
       "  <tbody>\n",
       "    <tr>\n",
       "      <th>count</th>\n",
       "      <td>137735.000000</td>\n",
       "      <td>137735.000000</td>\n",
       "    </tr>\n",
       "    <tr>\n",
       "      <th>mean</th>\n",
       "      <td>1247.658046</td>\n",
       "      <td>6.745927</td>\n",
       "    </tr>\n",
       "    <tr>\n",
       "      <th>std</th>\n",
       "      <td>139.416268</td>\n",
       "      <td>5.839241</td>\n",
       "    </tr>\n",
       "    <tr>\n",
       "      <th>min</th>\n",
       "      <td>1000.000000</td>\n",
       "      <td>0.000000</td>\n",
       "    </tr>\n",
       "    <tr>\n",
       "      <th>25%</th>\n",
       "      <td>1128.000000</td>\n",
       "      <td>1.290000</td>\n",
       "    </tr>\n",
       "    <tr>\n",
       "      <th>50%</th>\n",
       "      <td>1247.000000</td>\n",
       "      <td>5.980000</td>\n",
       "    </tr>\n",
       "    <tr>\n",
       "      <th>75%</th>\n",
       "      <td>1365.000000</td>\n",
       "      <td>10.690000</td>\n",
       "    </tr>\n",
       "    <tr>\n",
       "      <th>max</th>\n",
       "      <td>1499.000000</td>\n",
       "      <td>37.600000</td>\n",
       "    </tr>\n",
       "  </tbody>\n",
       "</table>\n",
       "</div>"
      ],
      "text/plain": [
       "             user_id       duration\n",
       "count  137735.000000  137735.000000\n",
       "mean     1247.658046       6.745927\n",
       "std       139.416268       5.839241\n",
       "min      1000.000000       0.000000\n",
       "25%      1128.000000       1.290000\n",
       "50%      1247.000000       5.980000\n",
       "75%      1365.000000      10.690000\n",
       "max      1499.000000      37.600000"
      ]
     },
     "metadata": {},
     "output_type": "display_data"
    },
    {
     "data": {
      "text/plain": [
       "0"
      ]
     },
     "execution_count": 12,
     "metadata": {},
     "output_type": "execute_result"
    }
   ],
   "source": [
    "# Imprimir una muestra de datos para las llamadas\n",
    "display(calls)\n",
    "display(calls.describe())\n",
    "calls.duplicated().sum()"
   ]
  },
  {
   "cell_type": "markdown",
   "metadata": {},
   "source": [
    "No hay datos nulos. Las fechas necesitan ser cambiadas a datetime64. \n",
    "Cambiaré el nombre de la columna de duracion de llamadas para dejar en claro que son en minutos.\n",
    "Se agregó una columna para analizar la actividad de llamadas respecto al mes. No hay datos duplicados.\n",
    "Como los minutos son cobrados desde el momento en que se pasan de un segundo, se hará una columna con los minutos redondeados hacia el entero mayor más cercano.\n",
    "\n",
    "Tenemos alrededor de 137735 llamadas. De estaas, el promedio es de casi 7 minutos. Encontramos llamadas con cero segundos (probablemente llamadas que no fueron contestadas) y como máximo una llamada de aproximadamente 37 minutos. De acuerdo a los cuartiles, podemos observar que la gran mayoría de las llamadas se encuentran debajo de los 10 minutos."
   ]
  },
  {
   "cell_type": "markdown",
   "metadata": {
    "id": "S7hzxmbX0q0-"
   },
   "source": [
    "### Corregir los datos"
   ]
  },
  {
   "cell_type": "code",
   "execution_count": 13,
   "metadata": {
    "id": "S2r8xA4f0q0-"
   },
   "outputs": [
    {
     "name": "stdout",
     "output_type": "stream",
     "text": [
      "<class 'pandas.core.frame.DataFrame'>\n",
      "RangeIndex: 137735 entries, 0 to 137734\n",
      "Data columns (total 4 columns):\n",
      " #   Column        Non-Null Count   Dtype         \n",
      "---  ------        --------------   -----         \n",
      " 0   id            137735 non-null  object        \n",
      " 1   user_id       137735 non-null  int64         \n",
      " 2   call_date     137735 non-null  datetime64[ns]\n",
      " 3   duration_min  137735 non-null  float64       \n",
      "dtypes: datetime64[ns](1), float64(1), int64(1), object(1)\n",
      "memory usage: 4.2+ MB\n"
     ]
    },
    {
     "data": {
      "text/html": [
       "<div>\n",
       "<style scoped>\n",
       "    .dataframe tbody tr th:only-of-type {\n",
       "        vertical-align: middle;\n",
       "    }\n",
       "\n",
       "    .dataframe tbody tr th {\n",
       "        vertical-align: top;\n",
       "    }\n",
       "\n",
       "    .dataframe thead th {\n",
       "        text-align: right;\n",
       "    }\n",
       "</style>\n",
       "<table border=\"1\" class=\"dataframe\">\n",
       "  <thead>\n",
       "    <tr style=\"text-align: right;\">\n",
       "      <th></th>\n",
       "      <th>id</th>\n",
       "      <th>user_id</th>\n",
       "      <th>call_date</th>\n",
       "      <th>duration_min</th>\n",
       "    </tr>\n",
       "  </thead>\n",
       "  <tbody>\n",
       "    <tr>\n",
       "      <th>0</th>\n",
       "      <td>1000_93</td>\n",
       "      <td>1000</td>\n",
       "      <td>2018-12-27</td>\n",
       "      <td>8.52</td>\n",
       "    </tr>\n",
       "    <tr>\n",
       "      <th>1</th>\n",
       "      <td>1000_145</td>\n",
       "      <td>1000</td>\n",
       "      <td>2018-12-27</td>\n",
       "      <td>13.66</td>\n",
       "    </tr>\n",
       "    <tr>\n",
       "      <th>2</th>\n",
       "      <td>1000_247</td>\n",
       "      <td>1000</td>\n",
       "      <td>2018-12-27</td>\n",
       "      <td>14.48</td>\n",
       "    </tr>\n",
       "    <tr>\n",
       "      <th>3</th>\n",
       "      <td>1000_309</td>\n",
       "      <td>1000</td>\n",
       "      <td>2018-12-28</td>\n",
       "      <td>5.76</td>\n",
       "    </tr>\n",
       "    <tr>\n",
       "      <th>4</th>\n",
       "      <td>1000_380</td>\n",
       "      <td>1000</td>\n",
       "      <td>2018-12-30</td>\n",
       "      <td>4.22</td>\n",
       "    </tr>\n",
       "    <tr>\n",
       "      <th>...</th>\n",
       "      <td>...</td>\n",
       "      <td>...</td>\n",
       "      <td>...</td>\n",
       "      <td>...</td>\n",
       "    </tr>\n",
       "    <tr>\n",
       "      <th>137730</th>\n",
       "      <td>1499_199</td>\n",
       "      <td>1499</td>\n",
       "      <td>2018-11-21</td>\n",
       "      <td>8.72</td>\n",
       "    </tr>\n",
       "    <tr>\n",
       "      <th>137731</th>\n",
       "      <td>1499_200</td>\n",
       "      <td>1499</td>\n",
       "      <td>2018-10-20</td>\n",
       "      <td>10.89</td>\n",
       "    </tr>\n",
       "    <tr>\n",
       "      <th>137732</th>\n",
       "      <td>1499_201</td>\n",
       "      <td>1499</td>\n",
       "      <td>2018-09-21</td>\n",
       "      <td>8.12</td>\n",
       "    </tr>\n",
       "    <tr>\n",
       "      <th>137733</th>\n",
       "      <td>1499_202</td>\n",
       "      <td>1499</td>\n",
       "      <td>2018-10-10</td>\n",
       "      <td>0.37</td>\n",
       "    </tr>\n",
       "    <tr>\n",
       "      <th>137734</th>\n",
       "      <td>1499_203</td>\n",
       "      <td>1499</td>\n",
       "      <td>2018-12-29</td>\n",
       "      <td>13.86</td>\n",
       "    </tr>\n",
       "  </tbody>\n",
       "</table>\n",
       "<p>137735 rows × 4 columns</p>\n",
       "</div>"
      ],
      "text/plain": [
       "              id  user_id  call_date  duration_min\n",
       "0        1000_93     1000 2018-12-27          8.52\n",
       "1       1000_145     1000 2018-12-27         13.66\n",
       "2       1000_247     1000 2018-12-27         14.48\n",
       "3       1000_309     1000 2018-12-28          5.76\n",
       "4       1000_380     1000 2018-12-30          4.22\n",
       "...          ...      ...        ...           ...\n",
       "137730  1499_199     1499 2018-11-21          8.72\n",
       "137731  1499_200     1499 2018-10-20         10.89\n",
       "137732  1499_201     1499 2018-09-21          8.12\n",
       "137733  1499_202     1499 2018-10-10          0.37\n",
       "137734  1499_203     1499 2018-12-29         13.86\n",
       "\n",
       "[137735 rows x 4 columns]"
      ]
     },
     "metadata": {},
     "output_type": "display_data"
    }
   ],
   "source": [
    "calls[\"call_date\"] = pd.to_datetime(calls[\"call_date\"], format=\"%Y-%m-%d\")\n",
    "calls = calls.rename(columns={\"duration\": \"duration_min\"})\n",
    "calls.info()\n",
    "display(calls)"
   ]
  },
  {
   "cell_type": "markdown",
   "metadata": {
    "id": "KrMgTrlG0q0_"
   },
   "source": [
    "### Enriquecer los datos"
   ]
  },
  {
   "cell_type": "code",
   "execution_count": 14,
   "metadata": {
    "id": "iZ1avpA_0q0_"
   },
   "outputs": [
    {
     "name": "stdout",
     "output_type": "stream",
     "text": [
      "<class 'pandas.core.frame.DataFrame'>\n",
      "RangeIndex: 137735 entries, 0 to 137734\n",
      "Data columns (total 6 columns):\n",
      " #   Column            Non-Null Count   Dtype         \n",
      "---  ------            --------------   -----         \n",
      " 0   id                137735 non-null  object        \n",
      " 1   user_id           137735 non-null  int64         \n",
      " 2   call_date         137735 non-null  datetime64[ns]\n",
      " 3   duration_min      137735 non-null  float64       \n",
      " 4   call_date_month   137735 non-null  int64         \n",
      " 5   duration_min_int  137735 non-null  float64       \n",
      "dtypes: datetime64[ns](1), float64(2), int64(2), object(1)\n",
      "memory usage: 6.3+ MB\n"
     ]
    },
    {
     "data": {
      "text/html": [
       "<div>\n",
       "<style scoped>\n",
       "    .dataframe tbody tr th:only-of-type {\n",
       "        vertical-align: middle;\n",
       "    }\n",
       "\n",
       "    .dataframe tbody tr th {\n",
       "        vertical-align: top;\n",
       "    }\n",
       "\n",
       "    .dataframe thead th {\n",
       "        text-align: right;\n",
       "    }\n",
       "</style>\n",
       "<table border=\"1\" class=\"dataframe\">\n",
       "  <thead>\n",
       "    <tr style=\"text-align: right;\">\n",
       "      <th></th>\n",
       "      <th>id</th>\n",
       "      <th>user_id</th>\n",
       "      <th>call_date</th>\n",
       "      <th>duration_min</th>\n",
       "      <th>call_date_month</th>\n",
       "      <th>duration_min_int</th>\n",
       "    </tr>\n",
       "  </thead>\n",
       "  <tbody>\n",
       "    <tr>\n",
       "      <th>0</th>\n",
       "      <td>1000_93</td>\n",
       "      <td>1000</td>\n",
       "      <td>2018-12-27</td>\n",
       "      <td>8.52</td>\n",
       "      <td>12</td>\n",
       "      <td>9.0</td>\n",
       "    </tr>\n",
       "    <tr>\n",
       "      <th>1</th>\n",
       "      <td>1000_145</td>\n",
       "      <td>1000</td>\n",
       "      <td>2018-12-27</td>\n",
       "      <td>13.66</td>\n",
       "      <td>12</td>\n",
       "      <td>14.0</td>\n",
       "    </tr>\n",
       "    <tr>\n",
       "      <th>2</th>\n",
       "      <td>1000_247</td>\n",
       "      <td>1000</td>\n",
       "      <td>2018-12-27</td>\n",
       "      <td>14.48</td>\n",
       "      <td>12</td>\n",
       "      <td>15.0</td>\n",
       "    </tr>\n",
       "    <tr>\n",
       "      <th>3</th>\n",
       "      <td>1000_309</td>\n",
       "      <td>1000</td>\n",
       "      <td>2018-12-28</td>\n",
       "      <td>5.76</td>\n",
       "      <td>12</td>\n",
       "      <td>6.0</td>\n",
       "    </tr>\n",
       "    <tr>\n",
       "      <th>4</th>\n",
       "      <td>1000_380</td>\n",
       "      <td>1000</td>\n",
       "      <td>2018-12-30</td>\n",
       "      <td>4.22</td>\n",
       "      <td>12</td>\n",
       "      <td>5.0</td>\n",
       "    </tr>\n",
       "    <tr>\n",
       "      <th>...</th>\n",
       "      <td>...</td>\n",
       "      <td>...</td>\n",
       "      <td>...</td>\n",
       "      <td>...</td>\n",
       "      <td>...</td>\n",
       "      <td>...</td>\n",
       "    </tr>\n",
       "    <tr>\n",
       "      <th>137730</th>\n",
       "      <td>1499_199</td>\n",
       "      <td>1499</td>\n",
       "      <td>2018-11-21</td>\n",
       "      <td>8.72</td>\n",
       "      <td>11</td>\n",
       "      <td>9.0</td>\n",
       "    </tr>\n",
       "    <tr>\n",
       "      <th>137731</th>\n",
       "      <td>1499_200</td>\n",
       "      <td>1499</td>\n",
       "      <td>2018-10-20</td>\n",
       "      <td>10.89</td>\n",
       "      <td>10</td>\n",
       "      <td>11.0</td>\n",
       "    </tr>\n",
       "    <tr>\n",
       "      <th>137732</th>\n",
       "      <td>1499_201</td>\n",
       "      <td>1499</td>\n",
       "      <td>2018-09-21</td>\n",
       "      <td>8.12</td>\n",
       "      <td>9</td>\n",
       "      <td>9.0</td>\n",
       "    </tr>\n",
       "    <tr>\n",
       "      <th>137733</th>\n",
       "      <td>1499_202</td>\n",
       "      <td>1499</td>\n",
       "      <td>2018-10-10</td>\n",
       "      <td>0.37</td>\n",
       "      <td>10</td>\n",
       "      <td>1.0</td>\n",
       "    </tr>\n",
       "    <tr>\n",
       "      <th>137734</th>\n",
       "      <td>1499_203</td>\n",
       "      <td>1499</td>\n",
       "      <td>2018-12-29</td>\n",
       "      <td>13.86</td>\n",
       "      <td>12</td>\n",
       "      <td>14.0</td>\n",
       "    </tr>\n",
       "  </tbody>\n",
       "</table>\n",
       "<p>137735 rows × 6 columns</p>\n",
       "</div>"
      ],
      "text/plain": [
       "              id  user_id  call_date  duration_min  call_date_month  \\\n",
       "0        1000_93     1000 2018-12-27          8.52               12   \n",
       "1       1000_145     1000 2018-12-27         13.66               12   \n",
       "2       1000_247     1000 2018-12-27         14.48               12   \n",
       "3       1000_309     1000 2018-12-28          5.76               12   \n",
       "4       1000_380     1000 2018-12-30          4.22               12   \n",
       "...          ...      ...        ...           ...              ...   \n",
       "137730  1499_199     1499 2018-11-21          8.72               11   \n",
       "137731  1499_200     1499 2018-10-20         10.89               10   \n",
       "137732  1499_201     1499 2018-09-21          8.12                9   \n",
       "137733  1499_202     1499 2018-10-10          0.37               10   \n",
       "137734  1499_203     1499 2018-12-29         13.86               12   \n",
       "\n",
       "        duration_min_int  \n",
       "0                    9.0  \n",
       "1                   14.0  \n",
       "2                   15.0  \n",
       "3                    6.0  \n",
       "4                    5.0  \n",
       "...                  ...  \n",
       "137730               9.0  \n",
       "137731              11.0  \n",
       "137732               9.0  \n",
       "137733               1.0  \n",
       "137734              14.0  \n",
       "\n",
       "[137735 rows x 6 columns]"
      ]
     },
     "metadata": {},
     "output_type": "display_data"
    }
   ],
   "source": [
    "calls[\"call_date_month\"] = calls[\"call_date\"].dt.month\n",
    "calls[\"duration_min_int\"] = np.ceil(calls[\"duration_min\"])\n",
    "calls.info()\n",
    "display(calls)"
   ]
  },
  {
   "cell_type": "markdown",
   "metadata": {},
   "source": [
    "Se hizo el cambio de tipo de tipo de datos (datetime64) para las fechas. Hicimos esto para poder trabajar eficientemente con estos datos, en dado caso que sea necesario obtener un aspecto del mismo, como el mes cuando se realizó la llamada.\n",
    "\n",
    "Se hizo una una columna separada con únicamente el mes llamada \"call_date_month\". Está nos servirá en los análisis siguientes donde queremos ver el comportamiento de los clientes en los diferentes planes a lo largo del año.\n",
    "\n",
    "Se hizo una columna con los minutos redondeados llamada \"duration_min_int\". De acuerdo a las especificaciones de las tarifas, si el cliente se pasa por un segundo de un minuto dado, se le cobrara como si hubiera consumido el minuto entero. De esta forma averiguaremos los ingresos por las llamadas. "
   ]
  },
  {
   "cell_type": "markdown",
   "metadata": {
    "id": "mOUZSi180q0_"
   },
   "source": [
    "## Mensajes"
   ]
  },
  {
   "cell_type": "code",
   "execution_count": 15,
   "metadata": {
    "id": "R-bYJpdV0q1A"
   },
   "outputs": [
    {
     "name": "stdout",
     "output_type": "stream",
     "text": [
      "<class 'pandas.core.frame.DataFrame'>\n",
      "RangeIndex: 76051 entries, 0 to 76050\n",
      "Data columns (total 3 columns):\n",
      " #   Column        Non-Null Count  Dtype \n",
      "---  ------        --------------  ----- \n",
      " 0   id            76051 non-null  object\n",
      " 1   user_id       76051 non-null  int64 \n",
      " 2   message_date  76051 non-null  object\n",
      "dtypes: int64(1), object(2)\n",
      "memory usage: 1.7+ MB\n"
     ]
    }
   ],
   "source": [
    "# Imprimir la información general/resumida sobre el DataFrame de los mensajes\n",
    "messages.info()"
   ]
  },
  {
   "cell_type": "code",
   "execution_count": 16,
   "metadata": {
    "id": "mCEl2iGE0q1A"
   },
   "outputs": [
    {
     "data": {
      "text/html": [
       "<div>\n",
       "<style scoped>\n",
       "    .dataframe tbody tr th:only-of-type {\n",
       "        vertical-align: middle;\n",
       "    }\n",
       "\n",
       "    .dataframe tbody tr th {\n",
       "        vertical-align: top;\n",
       "    }\n",
       "\n",
       "    .dataframe thead th {\n",
       "        text-align: right;\n",
       "    }\n",
       "</style>\n",
       "<table border=\"1\" class=\"dataframe\">\n",
       "  <thead>\n",
       "    <tr style=\"text-align: right;\">\n",
       "      <th></th>\n",
       "      <th>id</th>\n",
       "      <th>user_id</th>\n",
       "      <th>message_date</th>\n",
       "    </tr>\n",
       "  </thead>\n",
       "  <tbody>\n",
       "    <tr>\n",
       "      <th>0</th>\n",
       "      <td>1000_125</td>\n",
       "      <td>1000</td>\n",
       "      <td>2018-12-27</td>\n",
       "    </tr>\n",
       "    <tr>\n",
       "      <th>1</th>\n",
       "      <td>1000_160</td>\n",
       "      <td>1000</td>\n",
       "      <td>2018-12-31</td>\n",
       "    </tr>\n",
       "    <tr>\n",
       "      <th>2</th>\n",
       "      <td>1000_223</td>\n",
       "      <td>1000</td>\n",
       "      <td>2018-12-31</td>\n",
       "    </tr>\n",
       "    <tr>\n",
       "      <th>3</th>\n",
       "      <td>1000_251</td>\n",
       "      <td>1000</td>\n",
       "      <td>2018-12-27</td>\n",
       "    </tr>\n",
       "    <tr>\n",
       "      <th>4</th>\n",
       "      <td>1000_255</td>\n",
       "      <td>1000</td>\n",
       "      <td>2018-12-26</td>\n",
       "    </tr>\n",
       "    <tr>\n",
       "      <th>...</th>\n",
       "      <td>...</td>\n",
       "      <td>...</td>\n",
       "      <td>...</td>\n",
       "    </tr>\n",
       "    <tr>\n",
       "      <th>76046</th>\n",
       "      <td>1497_526</td>\n",
       "      <td>1497</td>\n",
       "      <td>2018-12-24</td>\n",
       "    </tr>\n",
       "    <tr>\n",
       "      <th>76047</th>\n",
       "      <td>1497_536</td>\n",
       "      <td>1497</td>\n",
       "      <td>2018-12-24</td>\n",
       "    </tr>\n",
       "    <tr>\n",
       "      <th>76048</th>\n",
       "      <td>1497_547</td>\n",
       "      <td>1497</td>\n",
       "      <td>2018-12-31</td>\n",
       "    </tr>\n",
       "    <tr>\n",
       "      <th>76049</th>\n",
       "      <td>1497_558</td>\n",
       "      <td>1497</td>\n",
       "      <td>2018-12-24</td>\n",
       "    </tr>\n",
       "    <tr>\n",
       "      <th>76050</th>\n",
       "      <td>1497_613</td>\n",
       "      <td>1497</td>\n",
       "      <td>2018-12-23</td>\n",
       "    </tr>\n",
       "  </tbody>\n",
       "</table>\n",
       "<p>76051 rows × 3 columns</p>\n",
       "</div>"
      ],
      "text/plain": [
       "             id  user_id message_date\n",
       "0      1000_125     1000   2018-12-27\n",
       "1      1000_160     1000   2018-12-31\n",
       "2      1000_223     1000   2018-12-31\n",
       "3      1000_251     1000   2018-12-27\n",
       "4      1000_255     1000   2018-12-26\n",
       "...         ...      ...          ...\n",
       "76046  1497_526     1497   2018-12-24\n",
       "76047  1497_536     1497   2018-12-24\n",
       "76048  1497_547     1497   2018-12-31\n",
       "76049  1497_558     1497   2018-12-24\n",
       "76050  1497_613     1497   2018-12-23\n",
       "\n",
       "[76051 rows x 3 columns]"
      ]
     },
     "metadata": {},
     "output_type": "display_data"
    }
   ],
   "source": [
    "# Imprimir una muestra de datos para los mensajes\n",
    "display(messages)"
   ]
  },
  {
   "cell_type": "markdown",
   "metadata": {},
   "source": [
    "No hay datos nulos, las fechas son datos tipo objetos. Hay que cambiar esto con el método \"pd.to_datetime\". \n",
    "También se agregará una columna para determinar el mes en el que se enviaron los mensajes. Se verificará si existen datos duplicados."
   ]
  },
  {
   "cell_type": "markdown",
   "metadata": {
    "id": "Sprfak900q1B"
   },
   "source": [
    "### Corregir los datos"
   ]
  },
  {
   "cell_type": "code",
   "execution_count": 17,
   "metadata": {
    "id": "vsllvkoa0q1B"
   },
   "outputs": [
    {
     "name": "stdout",
     "output_type": "stream",
     "text": [
      "<class 'pandas.core.frame.DataFrame'>\n",
      "RangeIndex: 76051 entries, 0 to 76050\n",
      "Data columns (total 3 columns):\n",
      " #   Column        Non-Null Count  Dtype         \n",
      "---  ------        --------------  -----         \n",
      " 0   id            76051 non-null  object        \n",
      " 1   user_id       76051 non-null  int64         \n",
      " 2   message_date  76051 non-null  datetime64[ns]\n",
      "dtypes: datetime64[ns](1), int64(1), object(1)\n",
      "memory usage: 1.7+ MB\n"
     ]
    },
    {
     "data": {
      "text/html": [
       "<div>\n",
       "<style scoped>\n",
       "    .dataframe tbody tr th:only-of-type {\n",
       "        vertical-align: middle;\n",
       "    }\n",
       "\n",
       "    .dataframe tbody tr th {\n",
       "        vertical-align: top;\n",
       "    }\n",
       "\n",
       "    .dataframe thead th {\n",
       "        text-align: right;\n",
       "    }\n",
       "</style>\n",
       "<table border=\"1\" class=\"dataframe\">\n",
       "  <thead>\n",
       "    <tr style=\"text-align: right;\">\n",
       "      <th></th>\n",
       "      <th>id</th>\n",
       "      <th>user_id</th>\n",
       "      <th>message_date</th>\n",
       "    </tr>\n",
       "  </thead>\n",
       "  <tbody>\n",
       "    <tr>\n",
       "      <th>0</th>\n",
       "      <td>1000_125</td>\n",
       "      <td>1000</td>\n",
       "      <td>2018-12-27</td>\n",
       "    </tr>\n",
       "    <tr>\n",
       "      <th>1</th>\n",
       "      <td>1000_160</td>\n",
       "      <td>1000</td>\n",
       "      <td>2018-12-31</td>\n",
       "    </tr>\n",
       "    <tr>\n",
       "      <th>2</th>\n",
       "      <td>1000_223</td>\n",
       "      <td>1000</td>\n",
       "      <td>2018-12-31</td>\n",
       "    </tr>\n",
       "    <tr>\n",
       "      <th>3</th>\n",
       "      <td>1000_251</td>\n",
       "      <td>1000</td>\n",
       "      <td>2018-12-27</td>\n",
       "    </tr>\n",
       "    <tr>\n",
       "      <th>4</th>\n",
       "      <td>1000_255</td>\n",
       "      <td>1000</td>\n",
       "      <td>2018-12-26</td>\n",
       "    </tr>\n",
       "    <tr>\n",
       "      <th>...</th>\n",
       "      <td>...</td>\n",
       "      <td>...</td>\n",
       "      <td>...</td>\n",
       "    </tr>\n",
       "    <tr>\n",
       "      <th>76046</th>\n",
       "      <td>1497_526</td>\n",
       "      <td>1497</td>\n",
       "      <td>2018-12-24</td>\n",
       "    </tr>\n",
       "    <tr>\n",
       "      <th>76047</th>\n",
       "      <td>1497_536</td>\n",
       "      <td>1497</td>\n",
       "      <td>2018-12-24</td>\n",
       "    </tr>\n",
       "    <tr>\n",
       "      <th>76048</th>\n",
       "      <td>1497_547</td>\n",
       "      <td>1497</td>\n",
       "      <td>2018-12-31</td>\n",
       "    </tr>\n",
       "    <tr>\n",
       "      <th>76049</th>\n",
       "      <td>1497_558</td>\n",
       "      <td>1497</td>\n",
       "      <td>2018-12-24</td>\n",
       "    </tr>\n",
       "    <tr>\n",
       "      <th>76050</th>\n",
       "      <td>1497_613</td>\n",
       "      <td>1497</td>\n",
       "      <td>2018-12-23</td>\n",
       "    </tr>\n",
       "  </tbody>\n",
       "</table>\n",
       "<p>76051 rows × 3 columns</p>\n",
       "</div>"
      ],
      "text/plain": [
       "             id  user_id message_date\n",
       "0      1000_125     1000   2018-12-27\n",
       "1      1000_160     1000   2018-12-31\n",
       "2      1000_223     1000   2018-12-31\n",
       "3      1000_251     1000   2018-12-27\n",
       "4      1000_255     1000   2018-12-26\n",
       "...         ...      ...          ...\n",
       "76046  1497_526     1497   2018-12-24\n",
       "76047  1497_536     1497   2018-12-24\n",
       "76048  1497_547     1497   2018-12-31\n",
       "76049  1497_558     1497   2018-12-24\n",
       "76050  1497_613     1497   2018-12-23\n",
       "\n",
       "[76051 rows x 3 columns]"
      ]
     },
     "metadata": {},
     "output_type": "display_data"
    },
    {
     "data": {
      "text/plain": [
       "0"
      ]
     },
     "execution_count": 17,
     "metadata": {},
     "output_type": "execute_result"
    }
   ],
   "source": [
    "messages[\"message_date\"] = pd.to_datetime(\n",
    "    messages[\"message_date\"], format=\"%Y-%m-%d\")\n",
    "messages.info()\n",
    "display(messages)\n",
    "messages.duplicated().sum()"
   ]
  },
  {
   "cell_type": "markdown",
   "metadata": {
    "id": "HvLid7iD0q1B"
   },
   "source": [
    "### Enriquecer los datos"
   ]
  },
  {
   "cell_type": "code",
   "execution_count": 18,
   "metadata": {
    "id": "zYEXZac10q1C"
   },
   "outputs": [
    {
     "name": "stdout",
     "output_type": "stream",
     "text": [
      "<class 'pandas.core.frame.DataFrame'>\n",
      "RangeIndex: 76051 entries, 0 to 76050\n",
      "Data columns (total 4 columns):\n",
      " #   Column              Non-Null Count  Dtype         \n",
      "---  ------              --------------  -----         \n",
      " 0   id                  76051 non-null  object        \n",
      " 1   user_id             76051 non-null  int64         \n",
      " 2   message_date        76051 non-null  datetime64[ns]\n",
      " 3   message_date_month  76051 non-null  int64         \n",
      "dtypes: datetime64[ns](1), int64(2), object(1)\n",
      "memory usage: 2.3+ MB\n"
     ]
    },
    {
     "data": {
      "text/html": [
       "<div>\n",
       "<style scoped>\n",
       "    .dataframe tbody tr th:only-of-type {\n",
       "        vertical-align: middle;\n",
       "    }\n",
       "\n",
       "    .dataframe tbody tr th {\n",
       "        vertical-align: top;\n",
       "    }\n",
       "\n",
       "    .dataframe thead th {\n",
       "        text-align: right;\n",
       "    }\n",
       "</style>\n",
       "<table border=\"1\" class=\"dataframe\">\n",
       "  <thead>\n",
       "    <tr style=\"text-align: right;\">\n",
       "      <th></th>\n",
       "      <th>id</th>\n",
       "      <th>user_id</th>\n",
       "      <th>message_date</th>\n",
       "      <th>message_date_month</th>\n",
       "    </tr>\n",
       "  </thead>\n",
       "  <tbody>\n",
       "    <tr>\n",
       "      <th>0</th>\n",
       "      <td>1000_125</td>\n",
       "      <td>1000</td>\n",
       "      <td>2018-12-27</td>\n",
       "      <td>12</td>\n",
       "    </tr>\n",
       "    <tr>\n",
       "      <th>1</th>\n",
       "      <td>1000_160</td>\n",
       "      <td>1000</td>\n",
       "      <td>2018-12-31</td>\n",
       "      <td>12</td>\n",
       "    </tr>\n",
       "    <tr>\n",
       "      <th>2</th>\n",
       "      <td>1000_223</td>\n",
       "      <td>1000</td>\n",
       "      <td>2018-12-31</td>\n",
       "      <td>12</td>\n",
       "    </tr>\n",
       "    <tr>\n",
       "      <th>3</th>\n",
       "      <td>1000_251</td>\n",
       "      <td>1000</td>\n",
       "      <td>2018-12-27</td>\n",
       "      <td>12</td>\n",
       "    </tr>\n",
       "    <tr>\n",
       "      <th>4</th>\n",
       "      <td>1000_255</td>\n",
       "      <td>1000</td>\n",
       "      <td>2018-12-26</td>\n",
       "      <td>12</td>\n",
       "    </tr>\n",
       "    <tr>\n",
       "      <th>...</th>\n",
       "      <td>...</td>\n",
       "      <td>...</td>\n",
       "      <td>...</td>\n",
       "      <td>...</td>\n",
       "    </tr>\n",
       "    <tr>\n",
       "      <th>76046</th>\n",
       "      <td>1497_526</td>\n",
       "      <td>1497</td>\n",
       "      <td>2018-12-24</td>\n",
       "      <td>12</td>\n",
       "    </tr>\n",
       "    <tr>\n",
       "      <th>76047</th>\n",
       "      <td>1497_536</td>\n",
       "      <td>1497</td>\n",
       "      <td>2018-12-24</td>\n",
       "      <td>12</td>\n",
       "    </tr>\n",
       "    <tr>\n",
       "      <th>76048</th>\n",
       "      <td>1497_547</td>\n",
       "      <td>1497</td>\n",
       "      <td>2018-12-31</td>\n",
       "      <td>12</td>\n",
       "    </tr>\n",
       "    <tr>\n",
       "      <th>76049</th>\n",
       "      <td>1497_558</td>\n",
       "      <td>1497</td>\n",
       "      <td>2018-12-24</td>\n",
       "      <td>12</td>\n",
       "    </tr>\n",
       "    <tr>\n",
       "      <th>76050</th>\n",
       "      <td>1497_613</td>\n",
       "      <td>1497</td>\n",
       "      <td>2018-12-23</td>\n",
       "      <td>12</td>\n",
       "    </tr>\n",
       "  </tbody>\n",
       "</table>\n",
       "<p>76051 rows × 4 columns</p>\n",
       "</div>"
      ],
      "text/plain": [
       "             id  user_id message_date  message_date_month\n",
       "0      1000_125     1000   2018-12-27                  12\n",
       "1      1000_160     1000   2018-12-31                  12\n",
       "2      1000_223     1000   2018-12-31                  12\n",
       "3      1000_251     1000   2018-12-27                  12\n",
       "4      1000_255     1000   2018-12-26                  12\n",
       "...         ...      ...          ...                 ...\n",
       "76046  1497_526     1497   2018-12-24                  12\n",
       "76047  1497_536     1497   2018-12-24                  12\n",
       "76048  1497_547     1497   2018-12-31                  12\n",
       "76049  1497_558     1497   2018-12-24                  12\n",
       "76050  1497_613     1497   2018-12-23                  12\n",
       "\n",
       "[76051 rows x 4 columns]"
      ]
     },
     "metadata": {},
     "output_type": "display_data"
    }
   ],
   "source": [
    "messages[\"message_date_month\"] = messages[\"message_date\"].dt.month\n",
    "messages.info()\n",
    "display(messages)"
   ]
  },
  {
   "cell_type": "markdown",
   "metadata": {},
   "source": [
    "Se hizo el cambio de tipo de tipo de datos (datetime64) para las fechas. Hicimos esto para poder trabajar eficientemente con estos datos, en dado caso que sea necesario obtener un aspecto del mismo, como el mes cuando se realizaron los mensajes.\n",
    "\n",
    "Se hizo una una columna separada con únicamente el mes llamada \"message_date_month\". Está nos servirá en los análisis siguientes donde queremos ver el comportamiento de los clientes en los diferentes planes a lo largo del año.\n",
    "\n",
    "No se observaron datos duplicados."
   ]
  },
  {
   "cell_type": "markdown",
   "metadata": {
    "id": "bStkaxn40q1C"
   },
   "source": [
    "## Internet"
   ]
  },
  {
   "cell_type": "code",
   "execution_count": 19,
   "metadata": {
    "id": "e-Uz5qyn0q1C"
   },
   "outputs": [
    {
     "name": "stdout",
     "output_type": "stream",
     "text": [
      "<class 'pandas.core.frame.DataFrame'>\n",
      "RangeIndex: 104825 entries, 0 to 104824\n",
      "Data columns (total 4 columns):\n",
      " #   Column        Non-Null Count   Dtype  \n",
      "---  ------        --------------   -----  \n",
      " 0   id            104825 non-null  object \n",
      " 1   user_id       104825 non-null  int64  \n",
      " 2   session_date  104825 non-null  object \n",
      " 3   mb_used       104825 non-null  float64\n",
      "dtypes: float64(1), int64(1), object(2)\n",
      "memory usage: 3.2+ MB\n"
     ]
    }
   ],
   "source": [
    "# Imprimir la información general/resumida sobre el DataFrame de internet\n",
    "internet.info()"
   ]
  },
  {
   "cell_type": "code",
   "execution_count": 20,
   "metadata": {
    "id": "9r3x_XLw0q1C"
   },
   "outputs": [
    {
     "data": {
      "text/html": [
       "<div>\n",
       "<style scoped>\n",
       "    .dataframe tbody tr th:only-of-type {\n",
       "        vertical-align: middle;\n",
       "    }\n",
       "\n",
       "    .dataframe tbody tr th {\n",
       "        vertical-align: top;\n",
       "    }\n",
       "\n",
       "    .dataframe thead th {\n",
       "        text-align: right;\n",
       "    }\n",
       "</style>\n",
       "<table border=\"1\" class=\"dataframe\">\n",
       "  <thead>\n",
       "    <tr style=\"text-align: right;\">\n",
       "      <th></th>\n",
       "      <th>id</th>\n",
       "      <th>user_id</th>\n",
       "      <th>session_date</th>\n",
       "      <th>mb_used</th>\n",
       "    </tr>\n",
       "  </thead>\n",
       "  <tbody>\n",
       "    <tr>\n",
       "      <th>0</th>\n",
       "      <td>1000_13</td>\n",
       "      <td>1000</td>\n",
       "      <td>2018-12-29</td>\n",
       "      <td>89.86</td>\n",
       "    </tr>\n",
       "    <tr>\n",
       "      <th>1</th>\n",
       "      <td>1000_204</td>\n",
       "      <td>1000</td>\n",
       "      <td>2018-12-31</td>\n",
       "      <td>0.00</td>\n",
       "    </tr>\n",
       "    <tr>\n",
       "      <th>2</th>\n",
       "      <td>1000_379</td>\n",
       "      <td>1000</td>\n",
       "      <td>2018-12-28</td>\n",
       "      <td>660.40</td>\n",
       "    </tr>\n",
       "    <tr>\n",
       "      <th>3</th>\n",
       "      <td>1000_413</td>\n",
       "      <td>1000</td>\n",
       "      <td>2018-12-26</td>\n",
       "      <td>270.99</td>\n",
       "    </tr>\n",
       "    <tr>\n",
       "      <th>4</th>\n",
       "      <td>1000_442</td>\n",
       "      <td>1000</td>\n",
       "      <td>2018-12-27</td>\n",
       "      <td>880.22</td>\n",
       "    </tr>\n",
       "    <tr>\n",
       "      <th>...</th>\n",
       "      <td>...</td>\n",
       "      <td>...</td>\n",
       "      <td>...</td>\n",
       "      <td>...</td>\n",
       "    </tr>\n",
       "    <tr>\n",
       "      <th>104820</th>\n",
       "      <td>1499_215</td>\n",
       "      <td>1499</td>\n",
       "      <td>2018-10-20</td>\n",
       "      <td>218.06</td>\n",
       "    </tr>\n",
       "    <tr>\n",
       "      <th>104821</th>\n",
       "      <td>1499_216</td>\n",
       "      <td>1499</td>\n",
       "      <td>2018-12-30</td>\n",
       "      <td>304.72</td>\n",
       "    </tr>\n",
       "    <tr>\n",
       "      <th>104822</th>\n",
       "      <td>1499_217</td>\n",
       "      <td>1499</td>\n",
       "      <td>2018-09-22</td>\n",
       "      <td>292.75</td>\n",
       "    </tr>\n",
       "    <tr>\n",
       "      <th>104823</th>\n",
       "      <td>1499_218</td>\n",
       "      <td>1499</td>\n",
       "      <td>2018-12-07</td>\n",
       "      <td>0.00</td>\n",
       "    </tr>\n",
       "    <tr>\n",
       "      <th>104824</th>\n",
       "      <td>1499_219</td>\n",
       "      <td>1499</td>\n",
       "      <td>2018-12-24</td>\n",
       "      <td>758.31</td>\n",
       "    </tr>\n",
       "  </tbody>\n",
       "</table>\n",
       "<p>104825 rows × 4 columns</p>\n",
       "</div>"
      ],
      "text/plain": [
       "              id  user_id session_date  mb_used\n",
       "0        1000_13     1000   2018-12-29    89.86\n",
       "1       1000_204     1000   2018-12-31     0.00\n",
       "2       1000_379     1000   2018-12-28   660.40\n",
       "3       1000_413     1000   2018-12-26   270.99\n",
       "4       1000_442     1000   2018-12-27   880.22\n",
       "...          ...      ...          ...      ...\n",
       "104820  1499_215     1499   2018-10-20   218.06\n",
       "104821  1499_216     1499   2018-12-30   304.72\n",
       "104822  1499_217     1499   2018-09-22   292.75\n",
       "104823  1499_218     1499   2018-12-07     0.00\n",
       "104824  1499_219     1499   2018-12-24   758.31\n",
       "\n",
       "[104825 rows x 4 columns]"
      ]
     },
     "metadata": {},
     "output_type": "display_data"
    },
    {
     "data": {
      "text/html": [
       "<div>\n",
       "<style scoped>\n",
       "    .dataframe tbody tr th:only-of-type {\n",
       "        vertical-align: middle;\n",
       "    }\n",
       "\n",
       "    .dataframe tbody tr th {\n",
       "        vertical-align: top;\n",
       "    }\n",
       "\n",
       "    .dataframe thead th {\n",
       "        text-align: right;\n",
       "    }\n",
       "</style>\n",
       "<table border=\"1\" class=\"dataframe\">\n",
       "  <thead>\n",
       "    <tr style=\"text-align: right;\">\n",
       "      <th></th>\n",
       "      <th>user_id</th>\n",
       "      <th>mb_used</th>\n",
       "    </tr>\n",
       "  </thead>\n",
       "  <tbody>\n",
       "    <tr>\n",
       "      <th>count</th>\n",
       "      <td>104825.000000</td>\n",
       "      <td>104825.000000</td>\n",
       "    </tr>\n",
       "    <tr>\n",
       "      <th>mean</th>\n",
       "      <td>1242.496361</td>\n",
       "      <td>366.713701</td>\n",
       "    </tr>\n",
       "    <tr>\n",
       "      <th>std</th>\n",
       "      <td>142.053913</td>\n",
       "      <td>277.170542</td>\n",
       "    </tr>\n",
       "    <tr>\n",
       "      <th>min</th>\n",
       "      <td>1000.000000</td>\n",
       "      <td>0.000000</td>\n",
       "    </tr>\n",
       "    <tr>\n",
       "      <th>25%</th>\n",
       "      <td>1122.000000</td>\n",
       "      <td>136.080000</td>\n",
       "    </tr>\n",
       "    <tr>\n",
       "      <th>50%</th>\n",
       "      <td>1236.000000</td>\n",
       "      <td>343.980000</td>\n",
       "    </tr>\n",
       "    <tr>\n",
       "      <th>75%</th>\n",
       "      <td>1367.000000</td>\n",
       "      <td>554.610000</td>\n",
       "    </tr>\n",
       "    <tr>\n",
       "      <th>max</th>\n",
       "      <td>1499.000000</td>\n",
       "      <td>1693.470000</td>\n",
       "    </tr>\n",
       "  </tbody>\n",
       "</table>\n",
       "</div>"
      ],
      "text/plain": [
       "             user_id        mb_used\n",
       "count  104825.000000  104825.000000\n",
       "mean     1242.496361     366.713701\n",
       "std       142.053913     277.170542\n",
       "min      1000.000000       0.000000\n",
       "25%      1122.000000     136.080000\n",
       "50%      1236.000000     343.980000\n",
       "75%      1367.000000     554.610000\n",
       "max      1499.000000    1693.470000"
      ]
     },
     "metadata": {},
     "output_type": "display_data"
    }
   ],
   "source": [
    "# Imprimir una muestra de datos para el tráfico de internet\n",
    "display(internet)\n",
    "display(internet.describe())"
   ]
  },
  {
   "cell_type": "markdown",
   "metadata": {},
   "source": [
    "No hay datos nulos, las fechas son datos tipo objetos. Hay que cambiar esto con el método \"pd.to_datetime\". \n",
    "También se agregará una columna para clarificar cuantos GB se usaron al mes. Se verificará si existen datos duplicados.\n",
    "\n",
    "El promedio es de aproximadamente 0.367 GB y tenemos usuarios que no usaron ningún GB (mostrado por el mínimo de cero). De acuerdo a los cuartiles, podemos observar que la gran mayoría de los datos usados se encuentran debajo de los 0.54 GB.\n",
    "\n",
    "Se cambiaran de MB a GB, para trabajar los datos del cliente."
   ]
  },
  {
   "cell_type": "markdown",
   "metadata": {
    "id": "yA0tkPFg0q1D"
   },
   "source": [
    "### Corregir los datos"
   ]
  },
  {
   "cell_type": "code",
   "execution_count": 21,
   "metadata": {
    "id": "zVeanzdd0q1E"
   },
   "outputs": [
    {
     "name": "stdout",
     "output_type": "stream",
     "text": [
      "<class 'pandas.core.frame.DataFrame'>\n",
      "RangeIndex: 104825 entries, 0 to 104824\n",
      "Data columns (total 4 columns):\n",
      " #   Column        Non-Null Count   Dtype         \n",
      "---  ------        --------------   -----         \n",
      " 0   id            104825 non-null  object        \n",
      " 1   user_id       104825 non-null  int64         \n",
      " 2   session_date  104825 non-null  datetime64[ns]\n",
      " 3   mb_used       104825 non-null  float64       \n",
      "dtypes: datetime64[ns](1), float64(1), int64(1), object(1)\n",
      "memory usage: 3.2+ MB\n"
     ]
    },
    {
     "data": {
      "text/html": [
       "<div>\n",
       "<style scoped>\n",
       "    .dataframe tbody tr th:only-of-type {\n",
       "        vertical-align: middle;\n",
       "    }\n",
       "\n",
       "    .dataframe tbody tr th {\n",
       "        vertical-align: top;\n",
       "    }\n",
       "\n",
       "    .dataframe thead th {\n",
       "        text-align: right;\n",
       "    }\n",
       "</style>\n",
       "<table border=\"1\" class=\"dataframe\">\n",
       "  <thead>\n",
       "    <tr style=\"text-align: right;\">\n",
       "      <th></th>\n",
       "      <th>id</th>\n",
       "      <th>user_id</th>\n",
       "      <th>session_date</th>\n",
       "      <th>mb_used</th>\n",
       "    </tr>\n",
       "  </thead>\n",
       "  <tbody>\n",
       "    <tr>\n",
       "      <th>0</th>\n",
       "      <td>1000_13</td>\n",
       "      <td>1000</td>\n",
       "      <td>2018-12-29</td>\n",
       "      <td>89.86</td>\n",
       "    </tr>\n",
       "    <tr>\n",
       "      <th>1</th>\n",
       "      <td>1000_204</td>\n",
       "      <td>1000</td>\n",
       "      <td>2018-12-31</td>\n",
       "      <td>0.00</td>\n",
       "    </tr>\n",
       "    <tr>\n",
       "      <th>2</th>\n",
       "      <td>1000_379</td>\n",
       "      <td>1000</td>\n",
       "      <td>2018-12-28</td>\n",
       "      <td>660.40</td>\n",
       "    </tr>\n",
       "    <tr>\n",
       "      <th>3</th>\n",
       "      <td>1000_413</td>\n",
       "      <td>1000</td>\n",
       "      <td>2018-12-26</td>\n",
       "      <td>270.99</td>\n",
       "    </tr>\n",
       "    <tr>\n",
       "      <th>4</th>\n",
       "      <td>1000_442</td>\n",
       "      <td>1000</td>\n",
       "      <td>2018-12-27</td>\n",
       "      <td>880.22</td>\n",
       "    </tr>\n",
       "    <tr>\n",
       "      <th>...</th>\n",
       "      <td>...</td>\n",
       "      <td>...</td>\n",
       "      <td>...</td>\n",
       "      <td>...</td>\n",
       "    </tr>\n",
       "    <tr>\n",
       "      <th>104820</th>\n",
       "      <td>1499_215</td>\n",
       "      <td>1499</td>\n",
       "      <td>2018-10-20</td>\n",
       "      <td>218.06</td>\n",
       "    </tr>\n",
       "    <tr>\n",
       "      <th>104821</th>\n",
       "      <td>1499_216</td>\n",
       "      <td>1499</td>\n",
       "      <td>2018-12-30</td>\n",
       "      <td>304.72</td>\n",
       "    </tr>\n",
       "    <tr>\n",
       "      <th>104822</th>\n",
       "      <td>1499_217</td>\n",
       "      <td>1499</td>\n",
       "      <td>2018-09-22</td>\n",
       "      <td>292.75</td>\n",
       "    </tr>\n",
       "    <tr>\n",
       "      <th>104823</th>\n",
       "      <td>1499_218</td>\n",
       "      <td>1499</td>\n",
       "      <td>2018-12-07</td>\n",
       "      <td>0.00</td>\n",
       "    </tr>\n",
       "    <tr>\n",
       "      <th>104824</th>\n",
       "      <td>1499_219</td>\n",
       "      <td>1499</td>\n",
       "      <td>2018-12-24</td>\n",
       "      <td>758.31</td>\n",
       "    </tr>\n",
       "  </tbody>\n",
       "</table>\n",
       "<p>104825 rows × 4 columns</p>\n",
       "</div>"
      ],
      "text/plain": [
       "              id  user_id session_date  mb_used\n",
       "0        1000_13     1000   2018-12-29    89.86\n",
       "1       1000_204     1000   2018-12-31     0.00\n",
       "2       1000_379     1000   2018-12-28   660.40\n",
       "3       1000_413     1000   2018-12-26   270.99\n",
       "4       1000_442     1000   2018-12-27   880.22\n",
       "...          ...      ...          ...      ...\n",
       "104820  1499_215     1499   2018-10-20   218.06\n",
       "104821  1499_216     1499   2018-12-30   304.72\n",
       "104822  1499_217     1499   2018-09-22   292.75\n",
       "104823  1499_218     1499   2018-12-07     0.00\n",
       "104824  1499_219     1499   2018-12-24   758.31\n",
       "\n",
       "[104825 rows x 4 columns]"
      ]
     },
     "metadata": {},
     "output_type": "display_data"
    },
    {
     "data": {
      "text/plain": [
       "0"
      ]
     },
     "execution_count": 21,
     "metadata": {},
     "output_type": "execute_result"
    }
   ],
   "source": [
    "internet[\"session_date\"] = pd.to_datetime(\n",
    "    internet[\"session_date\"], format=\"%Y-%m-%d\")\n",
    "internet.info()\n",
    "display(internet)\n",
    "internet.duplicated().sum()  # No hay datos duplicados."
   ]
  },
  {
   "cell_type": "markdown",
   "metadata": {
    "id": "e8_mLF4a0q1E"
   },
   "source": [
    "### Enriquecer los datos"
   ]
  },
  {
   "cell_type": "code",
   "execution_count": 22,
   "metadata": {
    "id": "ESiYPIEK0q1E"
   },
   "outputs": [
    {
     "name": "stdout",
     "output_type": "stream",
     "text": [
      "<class 'pandas.core.frame.DataFrame'>\n",
      "RangeIndex: 104825 entries, 0 to 104824\n",
      "Data columns (total 5 columns):\n",
      " #   Column              Non-Null Count   Dtype         \n",
      "---  ------              --------------   -----         \n",
      " 0   id                  104825 non-null  object        \n",
      " 1   user_id             104825 non-null  int64         \n",
      " 2   session_date        104825 non-null  datetime64[ns]\n",
      " 3   mb_used             104825 non-null  float64       \n",
      " 4   session_date_month  104825 non-null  int64         \n",
      "dtypes: datetime64[ns](1), float64(1), int64(2), object(1)\n",
      "memory usage: 4.0+ MB\n"
     ]
    },
    {
     "data": {
      "text/html": [
       "<div>\n",
       "<style scoped>\n",
       "    .dataframe tbody tr th:only-of-type {\n",
       "        vertical-align: middle;\n",
       "    }\n",
       "\n",
       "    .dataframe tbody tr th {\n",
       "        vertical-align: top;\n",
       "    }\n",
       "\n",
       "    .dataframe thead th {\n",
       "        text-align: right;\n",
       "    }\n",
       "</style>\n",
       "<table border=\"1\" class=\"dataframe\">\n",
       "  <thead>\n",
       "    <tr style=\"text-align: right;\">\n",
       "      <th></th>\n",
       "      <th>id</th>\n",
       "      <th>user_id</th>\n",
       "      <th>session_date</th>\n",
       "      <th>mb_used</th>\n",
       "      <th>session_date_month</th>\n",
       "    </tr>\n",
       "  </thead>\n",
       "  <tbody>\n",
       "    <tr>\n",
       "      <th>0</th>\n",
       "      <td>1000_13</td>\n",
       "      <td>1000</td>\n",
       "      <td>2018-12-29</td>\n",
       "      <td>89.86</td>\n",
       "      <td>12</td>\n",
       "    </tr>\n",
       "    <tr>\n",
       "      <th>1</th>\n",
       "      <td>1000_204</td>\n",
       "      <td>1000</td>\n",
       "      <td>2018-12-31</td>\n",
       "      <td>0.00</td>\n",
       "      <td>12</td>\n",
       "    </tr>\n",
       "    <tr>\n",
       "      <th>2</th>\n",
       "      <td>1000_379</td>\n",
       "      <td>1000</td>\n",
       "      <td>2018-12-28</td>\n",
       "      <td>660.40</td>\n",
       "      <td>12</td>\n",
       "    </tr>\n",
       "    <tr>\n",
       "      <th>3</th>\n",
       "      <td>1000_413</td>\n",
       "      <td>1000</td>\n",
       "      <td>2018-12-26</td>\n",
       "      <td>270.99</td>\n",
       "      <td>12</td>\n",
       "    </tr>\n",
       "    <tr>\n",
       "      <th>4</th>\n",
       "      <td>1000_442</td>\n",
       "      <td>1000</td>\n",
       "      <td>2018-12-27</td>\n",
       "      <td>880.22</td>\n",
       "      <td>12</td>\n",
       "    </tr>\n",
       "    <tr>\n",
       "      <th>...</th>\n",
       "      <td>...</td>\n",
       "      <td>...</td>\n",
       "      <td>...</td>\n",
       "      <td>...</td>\n",
       "      <td>...</td>\n",
       "    </tr>\n",
       "    <tr>\n",
       "      <th>104820</th>\n",
       "      <td>1499_215</td>\n",
       "      <td>1499</td>\n",
       "      <td>2018-10-20</td>\n",
       "      <td>218.06</td>\n",
       "      <td>10</td>\n",
       "    </tr>\n",
       "    <tr>\n",
       "      <th>104821</th>\n",
       "      <td>1499_216</td>\n",
       "      <td>1499</td>\n",
       "      <td>2018-12-30</td>\n",
       "      <td>304.72</td>\n",
       "      <td>12</td>\n",
       "    </tr>\n",
       "    <tr>\n",
       "      <th>104822</th>\n",
       "      <td>1499_217</td>\n",
       "      <td>1499</td>\n",
       "      <td>2018-09-22</td>\n",
       "      <td>292.75</td>\n",
       "      <td>9</td>\n",
       "    </tr>\n",
       "    <tr>\n",
       "      <th>104823</th>\n",
       "      <td>1499_218</td>\n",
       "      <td>1499</td>\n",
       "      <td>2018-12-07</td>\n",
       "      <td>0.00</td>\n",
       "      <td>12</td>\n",
       "    </tr>\n",
       "    <tr>\n",
       "      <th>104824</th>\n",
       "      <td>1499_219</td>\n",
       "      <td>1499</td>\n",
       "      <td>2018-12-24</td>\n",
       "      <td>758.31</td>\n",
       "      <td>12</td>\n",
       "    </tr>\n",
       "  </tbody>\n",
       "</table>\n",
       "<p>104825 rows × 5 columns</p>\n",
       "</div>"
      ],
      "text/plain": [
       "              id  user_id session_date  mb_used  session_date_month\n",
       "0        1000_13     1000   2018-12-29    89.86                  12\n",
       "1       1000_204     1000   2018-12-31     0.00                  12\n",
       "2       1000_379     1000   2018-12-28   660.40                  12\n",
       "3       1000_413     1000   2018-12-26   270.99                  12\n",
       "4       1000_442     1000   2018-12-27   880.22                  12\n",
       "...          ...      ...          ...      ...                 ...\n",
       "104820  1499_215     1499   2018-10-20   218.06                  10\n",
       "104821  1499_216     1499   2018-12-30   304.72                  12\n",
       "104822  1499_217     1499   2018-09-22   292.75                   9\n",
       "104823  1499_218     1499   2018-12-07     0.00                  12\n",
       "104824  1499_219     1499   2018-12-24   758.31                  12\n",
       "\n",
       "[104825 rows x 5 columns]"
      ]
     },
     "metadata": {},
     "output_type": "display_data"
    }
   ],
   "source": [
    "internet[\"session_date_month\"] = internet[\"session_date\"].dt.month\n",
    "internet.info()\n",
    "display(internet)"
   ]
  },
  {
   "cell_type": "markdown",
   "metadata": {},
   "source": [
    "Se hizo el cambio de tipo de tipo de datos (datetime64) para las fechas. Hicimos esto para poder trabajar eficientemente con estos datos, en dado caso que sea necesario obtener un aspecto del mismo, como el mes cuando se realizaron los mensajes.\n",
    "\n",
    "Se hizo una una columna separada con únicamente el mes llamada \"session_date_month\". Está nos servirá en los análisis siguientes donde queremos ver el comportamiento de los clientes en los diferentes planes a lo largo del año.\n",
    "\n",
    "No se observaron datos duplicados."
   ]
  },
  {
   "cell_type": "markdown",
   "metadata": {
    "id": "3UA2cqIW0q1E"
   },
   "source": [
    "## Estudiar las condiciones de las tarifas"
   ]
  },
  {
   "cell_type": "code",
   "execution_count": 23,
   "metadata": {
    "id": "i409op8p0q1F"
   },
   "outputs": [
    {
     "data": {
      "text/html": [
       "<div>\n",
       "<style scoped>\n",
       "    .dataframe tbody tr th:only-of-type {\n",
       "        vertical-align: middle;\n",
       "    }\n",
       "\n",
       "    .dataframe tbody tr th {\n",
       "        vertical-align: top;\n",
       "    }\n",
       "\n",
       "    .dataframe thead th {\n",
       "        text-align: right;\n",
       "    }\n",
       "</style>\n",
       "<table border=\"1\" class=\"dataframe\">\n",
       "  <thead>\n",
       "    <tr style=\"text-align: right;\">\n",
       "      <th></th>\n",
       "      <th>messages_included</th>\n",
       "      <th>mb_per_month_included</th>\n",
       "      <th>min_included</th>\n",
       "      <th>usd_monthly_pay</th>\n",
       "      <th>usd_per_gb</th>\n",
       "      <th>usd_per_messages</th>\n",
       "      <th>usd_per_min</th>\n",
       "      <th>plan</th>\n",
       "      <th>gb_included</th>\n",
       "    </tr>\n",
       "  </thead>\n",
       "  <tbody>\n",
       "    <tr>\n",
       "      <th>0</th>\n",
       "      <td>50</td>\n",
       "      <td>15360</td>\n",
       "      <td>500</td>\n",
       "      <td>20</td>\n",
       "      <td>10</td>\n",
       "      <td>0.03</td>\n",
       "      <td>0.03</td>\n",
       "      <td>surf</td>\n",
       "      <td>15.0</td>\n",
       "    </tr>\n",
       "    <tr>\n",
       "      <th>1</th>\n",
       "      <td>1000</td>\n",
       "      <td>30720</td>\n",
       "      <td>3000</td>\n",
       "      <td>70</td>\n",
       "      <td>7</td>\n",
       "      <td>0.01</td>\n",
       "      <td>0.01</td>\n",
       "      <td>ultimate</td>\n",
       "      <td>30.0</td>\n",
       "    </tr>\n",
       "  </tbody>\n",
       "</table>\n",
       "</div>"
      ],
      "text/plain": [
       "   messages_included  mb_per_month_included  min_included  usd_monthly_pay  \\\n",
       "0                 50                  15360           500               20   \n",
       "1               1000                  30720          3000               70   \n",
       "\n",
       "   usd_per_gb  usd_per_messages  usd_per_min      plan  gb_included  \n",
       "0          10              0.03         0.03      surf         15.0  \n",
       "1           7              0.01         0.01  ultimate         30.0  "
      ]
     },
     "metadata": {},
     "output_type": "display_data"
    }
   ],
   "source": [
    "# Imprimir las condiciones de la tarifa y asegúrate de que te quedan claras\n",
    "display(plans)"
   ]
  },
  {
   "cell_type": "markdown",
   "metadata": {
    "id": "hMR1tP5d0q1F"
   },
   "source": [
    "## Agregar datos por usuario"
   ]
  },
  {
   "cell_type": "code",
   "execution_count": 24,
   "metadata": {
    "id": "A332cedB0q1G"
   },
   "outputs": [
    {
     "data": {
      "text/html": [
       "<div>\n",
       "<style scoped>\n",
       "    .dataframe tbody tr th:only-of-type {\n",
       "        vertical-align: middle;\n",
       "    }\n",
       "\n",
       "    .dataframe tbody tr th {\n",
       "        vertical-align: top;\n",
       "    }\n",
       "\n",
       "    .dataframe thead th {\n",
       "        text-align: right;\n",
       "    }\n",
       "</style>\n",
       "<table border=\"1\" class=\"dataframe\">\n",
       "  <thead>\n",
       "    <tr style=\"text-align: right;\">\n",
       "      <th></th>\n",
       "      <th>user_id</th>\n",
       "      <th>month</th>\n",
       "      <th>calls</th>\n",
       "    </tr>\n",
       "  </thead>\n",
       "  <tbody>\n",
       "    <tr>\n",
       "      <th>0</th>\n",
       "      <td>1000</td>\n",
       "      <td>12</td>\n",
       "      <td>16</td>\n",
       "    </tr>\n",
       "    <tr>\n",
       "      <th>1</th>\n",
       "      <td>1001</td>\n",
       "      <td>8</td>\n",
       "      <td>27</td>\n",
       "    </tr>\n",
       "    <tr>\n",
       "      <th>2</th>\n",
       "      <td>1001</td>\n",
       "      <td>9</td>\n",
       "      <td>49</td>\n",
       "    </tr>\n",
       "    <tr>\n",
       "      <th>3</th>\n",
       "      <td>1001</td>\n",
       "      <td>10</td>\n",
       "      <td>65</td>\n",
       "    </tr>\n",
       "    <tr>\n",
       "      <th>4</th>\n",
       "      <td>1001</td>\n",
       "      <td>11</td>\n",
       "      <td>64</td>\n",
       "    </tr>\n",
       "    <tr>\n",
       "      <th>...</th>\n",
       "      <td>...</td>\n",
       "      <td>...</td>\n",
       "      <td>...</td>\n",
       "    </tr>\n",
       "    <tr>\n",
       "      <th>2253</th>\n",
       "      <td>1498</td>\n",
       "      <td>12</td>\n",
       "      <td>39</td>\n",
       "    </tr>\n",
       "    <tr>\n",
       "      <th>2254</th>\n",
       "      <td>1499</td>\n",
       "      <td>9</td>\n",
       "      <td>41</td>\n",
       "    </tr>\n",
       "    <tr>\n",
       "      <th>2255</th>\n",
       "      <td>1499</td>\n",
       "      <td>10</td>\n",
       "      <td>53</td>\n",
       "    </tr>\n",
       "    <tr>\n",
       "      <th>2256</th>\n",
       "      <td>1499</td>\n",
       "      <td>11</td>\n",
       "      <td>45</td>\n",
       "    </tr>\n",
       "    <tr>\n",
       "      <th>2257</th>\n",
       "      <td>1499</td>\n",
       "      <td>12</td>\n",
       "      <td>65</td>\n",
       "    </tr>\n",
       "  </tbody>\n",
       "</table>\n",
       "<p>2258 rows × 3 columns</p>\n",
       "</div>"
      ],
      "text/plain": [
       "      user_id  month  calls\n",
       "0        1000     12     16\n",
       "1        1001      8     27\n",
       "2        1001      9     49\n",
       "3        1001     10     65\n",
       "4        1001     11     64\n",
       "...       ...    ...    ...\n",
       "2253     1498     12     39\n",
       "2254     1499      9     41\n",
       "2255     1499     10     53\n",
       "2256     1499     11     45\n",
       "2257     1499     12     65\n",
       "\n",
       "[2258 rows x 3 columns]"
      ]
     },
     "execution_count": 24,
     "metadata": {},
     "output_type": "execute_result"
    }
   ],
   "source": [
    "# Calcular el número de llamadas hechas por cada usuario al mes. Guarda el resultado.\n",
    "calls_per_user_per_month = calls.groupby([\"user_id\", \"call_date_month\"])[\n",
    "    \"id\"].count().sort_index().reset_index()\n",
    "calls_per_user_per_month.columns = ['user_id', 'month', \"calls\"]\n",
    "calls_per_user_per_month"
   ]
  },
  {
   "cell_type": "code",
   "execution_count": 25,
   "metadata": {
    "id": "aw2cmuql0q1G"
   },
   "outputs": [
    {
     "data": {
      "text/html": [
       "<div>\n",
       "<style scoped>\n",
       "    .dataframe tbody tr th:only-of-type {\n",
       "        vertical-align: middle;\n",
       "    }\n",
       "\n",
       "    .dataframe tbody tr th {\n",
       "        vertical-align: top;\n",
       "    }\n",
       "\n",
       "    .dataframe thead th {\n",
       "        text-align: right;\n",
       "    }\n",
       "</style>\n",
       "<table border=\"1\" class=\"dataframe\">\n",
       "  <thead>\n",
       "    <tr style=\"text-align: right;\">\n",
       "      <th></th>\n",
       "      <th>user_id</th>\n",
       "      <th>month</th>\n",
       "      <th>min</th>\n",
       "    </tr>\n",
       "  </thead>\n",
       "  <tbody>\n",
       "    <tr>\n",
       "      <th>0</th>\n",
       "      <td>1000</td>\n",
       "      <td>12</td>\n",
       "      <td>124.0</td>\n",
       "    </tr>\n",
       "    <tr>\n",
       "      <th>1</th>\n",
       "      <td>1001</td>\n",
       "      <td>8</td>\n",
       "      <td>182.0</td>\n",
       "    </tr>\n",
       "    <tr>\n",
       "      <th>2</th>\n",
       "      <td>1001</td>\n",
       "      <td>9</td>\n",
       "      <td>315.0</td>\n",
       "    </tr>\n",
       "    <tr>\n",
       "      <th>3</th>\n",
       "      <td>1001</td>\n",
       "      <td>10</td>\n",
       "      <td>393.0</td>\n",
       "    </tr>\n",
       "    <tr>\n",
       "      <th>4</th>\n",
       "      <td>1001</td>\n",
       "      <td>11</td>\n",
       "      <td>426.0</td>\n",
       "    </tr>\n",
       "    <tr>\n",
       "      <th>...</th>\n",
       "      <td>...</td>\n",
       "      <td>...</td>\n",
       "      <td>...</td>\n",
       "    </tr>\n",
       "    <tr>\n",
       "      <th>2253</th>\n",
       "      <td>1498</td>\n",
       "      <td>12</td>\n",
       "      <td>339.0</td>\n",
       "    </tr>\n",
       "    <tr>\n",
       "      <th>2254</th>\n",
       "      <td>1499</td>\n",
       "      <td>9</td>\n",
       "      <td>346.0</td>\n",
       "    </tr>\n",
       "    <tr>\n",
       "      <th>2255</th>\n",
       "      <td>1499</td>\n",
       "      <td>10</td>\n",
       "      <td>385.0</td>\n",
       "    </tr>\n",
       "    <tr>\n",
       "      <th>2256</th>\n",
       "      <td>1499</td>\n",
       "      <td>11</td>\n",
       "      <td>308.0</td>\n",
       "    </tr>\n",
       "    <tr>\n",
       "      <th>2257</th>\n",
       "      <td>1499</td>\n",
       "      <td>12</td>\n",
       "      <td>496.0</td>\n",
       "    </tr>\n",
       "  </tbody>\n",
       "</table>\n",
       "<p>2258 rows × 3 columns</p>\n",
       "</div>"
      ],
      "text/plain": [
       "      user_id  month    min\n",
       "0        1000     12  124.0\n",
       "1        1001      8  182.0\n",
       "2        1001      9  315.0\n",
       "3        1001     10  393.0\n",
       "4        1001     11  426.0\n",
       "...       ...    ...    ...\n",
       "2253     1498     12  339.0\n",
       "2254     1499      9  346.0\n",
       "2255     1499     10  385.0\n",
       "2256     1499     11  308.0\n",
       "2257     1499     12  496.0\n",
       "\n",
       "[2258 rows x 3 columns]"
      ]
     },
     "execution_count": 25,
     "metadata": {},
     "output_type": "execute_result"
    }
   ],
   "source": [
    "# Calcular la cantidad de minutos usados por cada usuario al mes. Guarda el resultado.\n",
    "min_per_user_per_month = calls.groupby([\"user_id\", \"call_date_month\"])[\n",
    "    \"duration_min_int\"].sum().sort_index().reset_index()\n",
    "min_per_user_per_month.columns = ['user_id', 'month', \"min\"]\n",
    "min_per_user_per_month"
   ]
  },
  {
   "cell_type": "code",
   "execution_count": 26,
   "metadata": {
    "id": "CcQvNHn60q1G"
   },
   "outputs": [
    {
     "data": {
      "text/html": [
       "<div>\n",
       "<style scoped>\n",
       "    .dataframe tbody tr th:only-of-type {\n",
       "        vertical-align: middle;\n",
       "    }\n",
       "\n",
       "    .dataframe tbody tr th {\n",
       "        vertical-align: top;\n",
       "    }\n",
       "\n",
       "    .dataframe thead th {\n",
       "        text-align: right;\n",
       "    }\n",
       "</style>\n",
       "<table border=\"1\" class=\"dataframe\">\n",
       "  <thead>\n",
       "    <tr style=\"text-align: right;\">\n",
       "      <th></th>\n",
       "      <th>user_id</th>\n",
       "      <th>month</th>\n",
       "      <th>messages</th>\n",
       "    </tr>\n",
       "  </thead>\n",
       "  <tbody>\n",
       "    <tr>\n",
       "      <th>0</th>\n",
       "      <td>1000</td>\n",
       "      <td>12</td>\n",
       "      <td>11</td>\n",
       "    </tr>\n",
       "    <tr>\n",
       "      <th>1</th>\n",
       "      <td>1001</td>\n",
       "      <td>8</td>\n",
       "      <td>30</td>\n",
       "    </tr>\n",
       "    <tr>\n",
       "      <th>2</th>\n",
       "      <td>1001</td>\n",
       "      <td>9</td>\n",
       "      <td>44</td>\n",
       "    </tr>\n",
       "    <tr>\n",
       "      <th>3</th>\n",
       "      <td>1001</td>\n",
       "      <td>10</td>\n",
       "      <td>53</td>\n",
       "    </tr>\n",
       "    <tr>\n",
       "      <th>4</th>\n",
       "      <td>1001</td>\n",
       "      <td>11</td>\n",
       "      <td>36</td>\n",
       "    </tr>\n",
       "    <tr>\n",
       "      <th>...</th>\n",
       "      <td>...</td>\n",
       "      <td>...</td>\n",
       "      <td>...</td>\n",
       "    </tr>\n",
       "    <tr>\n",
       "      <th>1801</th>\n",
       "      <td>1496</td>\n",
       "      <td>9</td>\n",
       "      <td>21</td>\n",
       "    </tr>\n",
       "    <tr>\n",
       "      <th>1802</th>\n",
       "      <td>1496</td>\n",
       "      <td>10</td>\n",
       "      <td>18</td>\n",
       "    </tr>\n",
       "    <tr>\n",
       "      <th>1803</th>\n",
       "      <td>1496</td>\n",
       "      <td>11</td>\n",
       "      <td>13</td>\n",
       "    </tr>\n",
       "    <tr>\n",
       "      <th>1804</th>\n",
       "      <td>1496</td>\n",
       "      <td>12</td>\n",
       "      <td>11</td>\n",
       "    </tr>\n",
       "    <tr>\n",
       "      <th>1805</th>\n",
       "      <td>1497</td>\n",
       "      <td>12</td>\n",
       "      <td>50</td>\n",
       "    </tr>\n",
       "  </tbody>\n",
       "</table>\n",
       "<p>1806 rows × 3 columns</p>\n",
       "</div>"
      ],
      "text/plain": [
       "      user_id  month  messages\n",
       "0        1000     12        11\n",
       "1        1001      8        30\n",
       "2        1001      9        44\n",
       "3        1001     10        53\n",
       "4        1001     11        36\n",
       "...       ...    ...       ...\n",
       "1801     1496      9        21\n",
       "1802     1496     10        18\n",
       "1803     1496     11        13\n",
       "1804     1496     12        11\n",
       "1805     1497     12        50\n",
       "\n",
       "[1806 rows x 3 columns]"
      ]
     },
     "execution_count": 26,
     "metadata": {},
     "output_type": "execute_result"
    }
   ],
   "source": [
    "# Calcular el número de mensajes enviados por cada usuario al mes. Guarda el resultado.\n",
    "messages_per_user_per_month = messages.groupby([\"user_id\", \"message_date_month\"])[\n",
    "    \"id\"].count().sort_index().reset_index()\n",
    "messages_per_user_per_month.columns = ['user_id', 'month', \"messages\"]\n",
    "messages_per_user_per_month"
   ]
  },
  {
   "cell_type": "code",
   "execution_count": 27,
   "metadata": {
    "id": "H1AqN2eG0q1H"
   },
   "outputs": [
    {
     "data": {
      "text/html": [
       "<div>\n",
       "<style scoped>\n",
       "    .dataframe tbody tr th:only-of-type {\n",
       "        vertical-align: middle;\n",
       "    }\n",
       "\n",
       "    .dataframe tbody tr th {\n",
       "        vertical-align: top;\n",
       "    }\n",
       "\n",
       "    .dataframe thead th {\n",
       "        text-align: right;\n",
       "    }\n",
       "</style>\n",
       "<table border=\"1\" class=\"dataframe\">\n",
       "  <thead>\n",
       "    <tr style=\"text-align: right;\">\n",
       "      <th></th>\n",
       "      <th>user_id</th>\n",
       "      <th>month</th>\n",
       "      <th>mb</th>\n",
       "      <th>gb_not_rounded</th>\n",
       "      <th>gb</th>\n",
       "    </tr>\n",
       "  </thead>\n",
       "  <tbody>\n",
       "    <tr>\n",
       "      <th>0</th>\n",
       "      <td>1000</td>\n",
       "      <td>12</td>\n",
       "      <td>1901.47</td>\n",
       "      <td>1.856904</td>\n",
       "      <td>2.0</td>\n",
       "    </tr>\n",
       "    <tr>\n",
       "      <th>1</th>\n",
       "      <td>1001</td>\n",
       "      <td>8</td>\n",
       "      <td>6919.15</td>\n",
       "      <td>6.756982</td>\n",
       "      <td>7.0</td>\n",
       "    </tr>\n",
       "    <tr>\n",
       "      <th>2</th>\n",
       "      <td>1001</td>\n",
       "      <td>9</td>\n",
       "      <td>13314.82</td>\n",
       "      <td>13.002754</td>\n",
       "      <td>14.0</td>\n",
       "    </tr>\n",
       "    <tr>\n",
       "      <th>3</th>\n",
       "      <td>1001</td>\n",
       "      <td>10</td>\n",
       "      <td>22330.49</td>\n",
       "      <td>21.807119</td>\n",
       "      <td>22.0</td>\n",
       "    </tr>\n",
       "    <tr>\n",
       "      <th>4</th>\n",
       "      <td>1001</td>\n",
       "      <td>11</td>\n",
       "      <td>18504.30</td>\n",
       "      <td>18.070605</td>\n",
       "      <td>19.0</td>\n",
       "    </tr>\n",
       "    <tr>\n",
       "      <th>...</th>\n",
       "      <td>...</td>\n",
       "      <td>...</td>\n",
       "      <td>...</td>\n",
       "      <td>...</td>\n",
       "      <td>...</td>\n",
       "    </tr>\n",
       "    <tr>\n",
       "      <th>2272</th>\n",
       "      <td>1498</td>\n",
       "      <td>12</td>\n",
       "      <td>23137.69</td>\n",
       "      <td>22.595400</td>\n",
       "      <td>23.0</td>\n",
       "    </tr>\n",
       "    <tr>\n",
       "      <th>2273</th>\n",
       "      <td>1499</td>\n",
       "      <td>9</td>\n",
       "      <td>12984.76</td>\n",
       "      <td>12.680430</td>\n",
       "      <td>13.0</td>\n",
       "    </tr>\n",
       "    <tr>\n",
       "      <th>2274</th>\n",
       "      <td>1499</td>\n",
       "      <td>10</td>\n",
       "      <td>19492.43</td>\n",
       "      <td>19.035576</td>\n",
       "      <td>20.0</td>\n",
       "    </tr>\n",
       "    <tr>\n",
       "      <th>2275</th>\n",
       "      <td>1499</td>\n",
       "      <td>11</td>\n",
       "      <td>16813.83</td>\n",
       "      <td>16.419756</td>\n",
       "      <td>17.0</td>\n",
       "    </tr>\n",
       "    <tr>\n",
       "      <th>2276</th>\n",
       "      <td>1499</td>\n",
       "      <td>12</td>\n",
       "      <td>22059.21</td>\n",
       "      <td>21.542197</td>\n",
       "      <td>22.0</td>\n",
       "    </tr>\n",
       "  </tbody>\n",
       "</table>\n",
       "<p>2277 rows × 5 columns</p>\n",
       "</div>"
      ],
      "text/plain": [
       "      user_id  month        mb  gb_not_rounded    gb\n",
       "0        1000     12   1901.47        1.856904   2.0\n",
       "1        1001      8   6919.15        6.756982   7.0\n",
       "2        1001      9  13314.82       13.002754  14.0\n",
       "3        1001     10  22330.49       21.807119  22.0\n",
       "4        1001     11  18504.30       18.070605  19.0\n",
       "...       ...    ...       ...             ...   ...\n",
       "2272     1498     12  23137.69       22.595400  23.0\n",
       "2273     1499      9  12984.76       12.680430  13.0\n",
       "2274     1499     10  19492.43       19.035576  20.0\n",
       "2275     1499     11  16813.83       16.419756  17.0\n",
       "2276     1499     12  22059.21       21.542197  22.0\n",
       "\n",
       "[2277 rows x 5 columns]"
      ]
     },
     "metadata": {},
     "output_type": "display_data"
    }
   ],
   "source": [
    "# Calcular el volumen del tráfico de Internet usado por cada usuario al mes. Guarda el resultado.\n",
    "internet_per_user_per_month = internet.groupby([\"user_id\", \"session_date_month\"])[\n",
    "    \"mb_used\"].sum().sort_index().reset_index()\n",
    "internet_per_user_per_month.columns = ['user_id', 'month', \"mb\"]\n",
    "internet_per_user_per_month[\"gb_not_rounded\"] = internet_per_user_per_month[\"mb\"]/1024\n",
    "internet_per_user_per_month[\"gb\"] = np.ceil(\n",
    "    internet_per_user_per_month[\"gb_not_rounded\"])\n",
    "display(internet_per_user_per_month)"
   ]
  },
  {
   "cell_type": "code",
   "execution_count": 28,
   "metadata": {
    "id": "FW99ykyf0q1H"
   },
   "outputs": [
    {
     "data": {
      "text/html": [
       "<div>\n",
       "<style scoped>\n",
       "    .dataframe tbody tr th:only-of-type {\n",
       "        vertical-align: middle;\n",
       "    }\n",
       "\n",
       "    .dataframe tbody tr th {\n",
       "        vertical-align: top;\n",
       "    }\n",
       "\n",
       "    .dataframe thead th {\n",
       "        text-align: right;\n",
       "    }\n",
       "</style>\n",
       "<table border=\"1\" class=\"dataframe\">\n",
       "  <thead>\n",
       "    <tr style=\"text-align: right;\">\n",
       "      <th></th>\n",
       "      <th>user_id</th>\n",
       "      <th>month</th>\n",
       "      <th>mb</th>\n",
       "      <th>gb_not_rounded</th>\n",
       "      <th>gb</th>\n",
       "      <th>messages</th>\n",
       "      <th>min</th>\n",
       "      <th>calls</th>\n",
       "    </tr>\n",
       "  </thead>\n",
       "  <tbody>\n",
       "    <tr>\n",
       "      <th>0</th>\n",
       "      <td>1000</td>\n",
       "      <td>12</td>\n",
       "      <td>1901.47</td>\n",
       "      <td>1.856904</td>\n",
       "      <td>2.0</td>\n",
       "      <td>11.0</td>\n",
       "      <td>124.0</td>\n",
       "      <td>16.0</td>\n",
       "    </tr>\n",
       "    <tr>\n",
       "      <th>1</th>\n",
       "      <td>1001</td>\n",
       "      <td>8</td>\n",
       "      <td>6919.15</td>\n",
       "      <td>6.756982</td>\n",
       "      <td>7.0</td>\n",
       "      <td>30.0</td>\n",
       "      <td>182.0</td>\n",
       "      <td>27.0</td>\n",
       "    </tr>\n",
       "    <tr>\n",
       "      <th>2</th>\n",
       "      <td>1001</td>\n",
       "      <td>9</td>\n",
       "      <td>13314.82</td>\n",
       "      <td>13.002754</td>\n",
       "      <td>14.0</td>\n",
       "      <td>44.0</td>\n",
       "      <td>315.0</td>\n",
       "      <td>49.0</td>\n",
       "    </tr>\n",
       "    <tr>\n",
       "      <th>3</th>\n",
       "      <td>1001</td>\n",
       "      <td>10</td>\n",
       "      <td>22330.49</td>\n",
       "      <td>21.807119</td>\n",
       "      <td>22.0</td>\n",
       "      <td>53.0</td>\n",
       "      <td>393.0</td>\n",
       "      <td>65.0</td>\n",
       "    </tr>\n",
       "    <tr>\n",
       "      <th>4</th>\n",
       "      <td>1001</td>\n",
       "      <td>11</td>\n",
       "      <td>18504.30</td>\n",
       "      <td>18.070605</td>\n",
       "      <td>19.0</td>\n",
       "      <td>36.0</td>\n",
       "      <td>426.0</td>\n",
       "      <td>64.0</td>\n",
       "    </tr>\n",
       "    <tr>\n",
       "      <th>...</th>\n",
       "      <td>...</td>\n",
       "      <td>...</td>\n",
       "      <td>...</td>\n",
       "      <td>...</td>\n",
       "      <td>...</td>\n",
       "      <td>...</td>\n",
       "      <td>...</td>\n",
       "      <td>...</td>\n",
       "    </tr>\n",
       "    <tr>\n",
       "      <th>2288</th>\n",
       "      <td>1470</td>\n",
       "      <td>12</td>\n",
       "      <td>0.00</td>\n",
       "      <td>0.000000</td>\n",
       "      <td>0.0</td>\n",
       "      <td>153.0</td>\n",
       "      <td>592.0</td>\n",
       "      <td>78.0</td>\n",
       "    </tr>\n",
       "    <tr>\n",
       "      <th>2289</th>\n",
       "      <td>1482</td>\n",
       "      <td>10</td>\n",
       "      <td>0.00</td>\n",
       "      <td>0.000000</td>\n",
       "      <td>0.0</td>\n",
       "      <td>2.0</td>\n",
       "      <td>0.0</td>\n",
       "      <td>0.0</td>\n",
       "    </tr>\n",
       "    <tr>\n",
       "      <th>2290</th>\n",
       "      <td>1484</td>\n",
       "      <td>11</td>\n",
       "      <td>0.00</td>\n",
       "      <td>0.000000</td>\n",
       "      <td>0.0</td>\n",
       "      <td>1.0</td>\n",
       "      <td>38.0</td>\n",
       "      <td>2.0</td>\n",
       "    </tr>\n",
       "    <tr>\n",
       "      <th>2291</th>\n",
       "      <td>1491</td>\n",
       "      <td>4</td>\n",
       "      <td>0.00</td>\n",
       "      <td>0.000000</td>\n",
       "      <td>0.0</td>\n",
       "      <td>6.0</td>\n",
       "      <td>44.0</td>\n",
       "      <td>8.0</td>\n",
       "    </tr>\n",
       "    <tr>\n",
       "      <th>2292</th>\n",
       "      <td>1044</td>\n",
       "      <td>8</td>\n",
       "      <td>0.00</td>\n",
       "      <td>0.000000</td>\n",
       "      <td>0.0</td>\n",
       "      <td>0.0</td>\n",
       "      <td>13.0</td>\n",
       "      <td>1.0</td>\n",
       "    </tr>\n",
       "  </tbody>\n",
       "</table>\n",
       "<p>2293 rows × 8 columns</p>\n",
       "</div>"
      ],
      "text/plain": [
       "      user_id  month        mb  gb_not_rounded    gb  messages    min  calls\n",
       "0        1000     12   1901.47        1.856904   2.0      11.0  124.0   16.0\n",
       "1        1001      8   6919.15        6.756982   7.0      30.0  182.0   27.0\n",
       "2        1001      9  13314.82       13.002754  14.0      44.0  315.0   49.0\n",
       "3        1001     10  22330.49       21.807119  22.0      53.0  393.0   65.0\n",
       "4        1001     11  18504.30       18.070605  19.0      36.0  426.0   64.0\n",
       "...       ...    ...       ...             ...   ...       ...    ...    ...\n",
       "2288     1470     12      0.00        0.000000   0.0     153.0  592.0   78.0\n",
       "2289     1482     10      0.00        0.000000   0.0       2.0    0.0    0.0\n",
       "2290     1484     11      0.00        0.000000   0.0       1.0   38.0    2.0\n",
       "2291     1491      4      0.00        0.000000   0.0       6.0   44.0    8.0\n",
       "2292     1044      8      0.00        0.000000   0.0       0.0   13.0    1.0\n",
       "\n",
       "[2293 rows x 8 columns]"
      ]
     },
     "metadata": {},
     "output_type": "display_data"
    },
    {
     "name": "stdout",
     "output_type": "stream",
     "text": [
      "<class 'pandas.core.frame.DataFrame'>\n",
      "Int64Index: 2293 entries, 0 to 2292\n",
      "Data columns (total 8 columns):\n",
      " #   Column          Non-Null Count  Dtype  \n",
      "---  ------          --------------  -----  \n",
      " 0   user_id         2293 non-null   int64  \n",
      " 1   month           2293 non-null   int64  \n",
      " 2   mb              2293 non-null   float64\n",
      " 3   gb_not_rounded  2293 non-null   float64\n",
      " 4   gb              2293 non-null   float64\n",
      " 5   messages        2293 non-null   float64\n",
      " 6   min             2293 non-null   float64\n",
      " 7   calls           2293 non-null   float64\n",
      "dtypes: float64(6), int64(2)\n",
      "memory usage: 161.2 KB\n"
     ]
    }
   ],
   "source": [
    "# Fusionar los datos de llamadas, minutos, mensajes e Internet con base en user_id y month\n",
    "merge_per_month = internet_per_user_per_month.merge(\n",
    "    messages_per_user_per_month, on=[\"month\", \"user_id\"], how='outer')\n",
    "merge_per_month = merge_per_month.merge(\n",
    "    min_per_user_per_month, on=[\"month\", \"user_id\"], how='outer')\n",
    "merge_per_month = merge_per_month.merge(calls_per_user_per_month, on=[\n",
    "                                        \"month\", \"user_id\"], how='outer')\n",
    "merge_per_month.fillna(0, inplace=True)\n",
    "display(merge_per_month)\n",
    "merge_per_month.info()"
   ]
  },
  {
   "cell_type": "code",
   "execution_count": 29,
   "metadata": {
    "id": "0dNOXHag0q1H"
   },
   "outputs": [
    {
     "name": "stdout",
     "output_type": "stream",
     "text": [
      "<class 'pandas.core.frame.DataFrame'>\n",
      "Int64Index: 2303 entries, 0 to 2302\n",
      "Data columns (total 9 columns):\n",
      " #   Column          Non-Null Count  Dtype  \n",
      "---  ------          --------------  -----  \n",
      " 0   user_id         2303 non-null   int64  \n",
      " 1   month           2293 non-null   float64\n",
      " 2   mb              2293 non-null   float64\n",
      " 3   gb_not_rounded  2293 non-null   float64\n",
      " 4   gb              2293 non-null   float64\n",
      " 5   messages        2293 non-null   float64\n",
      " 6   min             2293 non-null   float64\n",
      " 7   calls           2293 non-null   float64\n",
      " 8   plan            2303 non-null   object \n",
      "dtypes: float64(7), int64(1), object(1)\n",
      "memory usage: 179.9+ KB\n"
     ]
    },
    {
     "data": {
      "text/html": [
       "<div>\n",
       "<style scoped>\n",
       "    .dataframe tbody tr th:only-of-type {\n",
       "        vertical-align: middle;\n",
       "    }\n",
       "\n",
       "    .dataframe tbody tr th {\n",
       "        vertical-align: top;\n",
       "    }\n",
       "\n",
       "    .dataframe thead th {\n",
       "        text-align: right;\n",
       "    }\n",
       "</style>\n",
       "<table border=\"1\" class=\"dataframe\">\n",
       "  <thead>\n",
       "    <tr style=\"text-align: right;\">\n",
       "      <th></th>\n",
       "      <th>user_id</th>\n",
       "      <th>month</th>\n",
       "      <th>mb</th>\n",
       "      <th>gb_not_rounded</th>\n",
       "      <th>gb</th>\n",
       "      <th>messages</th>\n",
       "      <th>min</th>\n",
       "      <th>calls</th>\n",
       "      <th>plan</th>\n",
       "    </tr>\n",
       "  </thead>\n",
       "  <tbody>\n",
       "    <tr>\n",
       "      <th>0</th>\n",
       "      <td>1000</td>\n",
       "      <td>12.0</td>\n",
       "      <td>1901.47</td>\n",
       "      <td>1.856904</td>\n",
       "      <td>2.0</td>\n",
       "      <td>11.0</td>\n",
       "      <td>124.0</td>\n",
       "      <td>16.0</td>\n",
       "      <td>ultimate</td>\n",
       "    </tr>\n",
       "    <tr>\n",
       "      <th>1</th>\n",
       "      <td>1001</td>\n",
       "      <td>8.0</td>\n",
       "      <td>6919.15</td>\n",
       "      <td>6.756982</td>\n",
       "      <td>7.0</td>\n",
       "      <td>30.0</td>\n",
       "      <td>182.0</td>\n",
       "      <td>27.0</td>\n",
       "      <td>surf</td>\n",
       "    </tr>\n",
       "    <tr>\n",
       "      <th>2</th>\n",
       "      <td>1001</td>\n",
       "      <td>9.0</td>\n",
       "      <td>13314.82</td>\n",
       "      <td>13.002754</td>\n",
       "      <td>14.0</td>\n",
       "      <td>44.0</td>\n",
       "      <td>315.0</td>\n",
       "      <td>49.0</td>\n",
       "      <td>surf</td>\n",
       "    </tr>\n",
       "    <tr>\n",
       "      <th>3</th>\n",
       "      <td>1001</td>\n",
       "      <td>10.0</td>\n",
       "      <td>22330.49</td>\n",
       "      <td>21.807119</td>\n",
       "      <td>22.0</td>\n",
       "      <td>53.0</td>\n",
       "      <td>393.0</td>\n",
       "      <td>65.0</td>\n",
       "      <td>surf</td>\n",
       "    </tr>\n",
       "    <tr>\n",
       "      <th>4</th>\n",
       "      <td>1001</td>\n",
       "      <td>11.0</td>\n",
       "      <td>18504.30</td>\n",
       "      <td>18.070605</td>\n",
       "      <td>19.0</td>\n",
       "      <td>36.0</td>\n",
       "      <td>426.0</td>\n",
       "      <td>64.0</td>\n",
       "      <td>surf</td>\n",
       "    </tr>\n",
       "    <tr>\n",
       "      <th>...</th>\n",
       "      <td>...</td>\n",
       "      <td>...</td>\n",
       "      <td>...</td>\n",
       "      <td>...</td>\n",
       "      <td>...</td>\n",
       "      <td>...</td>\n",
       "      <td>...</td>\n",
       "      <td>...</td>\n",
       "      <td>...</td>\n",
       "    </tr>\n",
       "    <tr>\n",
       "      <th>2288</th>\n",
       "      <td>1470</td>\n",
       "      <td>8.0</td>\n",
       "      <td>0.00</td>\n",
       "      <td>0.000000</td>\n",
       "      <td>0.0</td>\n",
       "      <td>141.0</td>\n",
       "      <td>580.0</td>\n",
       "      <td>84.0</td>\n",
       "      <td>surf</td>\n",
       "    </tr>\n",
       "    <tr>\n",
       "      <th>2289</th>\n",
       "      <td>1470</td>\n",
       "      <td>9.0</td>\n",
       "      <td>0.00</td>\n",
       "      <td>0.000000</td>\n",
       "      <td>0.0</td>\n",
       "      <td>130.0</td>\n",
       "      <td>471.0</td>\n",
       "      <td>70.0</td>\n",
       "      <td>surf</td>\n",
       "    </tr>\n",
       "    <tr>\n",
       "      <th>2290</th>\n",
       "      <td>1470</td>\n",
       "      <td>10.0</td>\n",
       "      <td>0.00</td>\n",
       "      <td>0.000000</td>\n",
       "      <td>0.0</td>\n",
       "      <td>145.0</td>\n",
       "      <td>459.0</td>\n",
       "      <td>72.0</td>\n",
       "      <td>surf</td>\n",
       "    </tr>\n",
       "    <tr>\n",
       "      <th>2291</th>\n",
       "      <td>1470</td>\n",
       "      <td>11.0</td>\n",
       "      <td>0.00</td>\n",
       "      <td>0.000000</td>\n",
       "      <td>0.0</td>\n",
       "      <td>156.0</td>\n",
       "      <td>632.0</td>\n",
       "      <td>81.0</td>\n",
       "      <td>surf</td>\n",
       "    </tr>\n",
       "    <tr>\n",
       "      <th>2292</th>\n",
       "      <td>1470</td>\n",
       "      <td>12.0</td>\n",
       "      <td>0.00</td>\n",
       "      <td>0.000000</td>\n",
       "      <td>0.0</td>\n",
       "      <td>153.0</td>\n",
       "      <td>592.0</td>\n",
       "      <td>78.0</td>\n",
       "      <td>surf</td>\n",
       "    </tr>\n",
       "  </tbody>\n",
       "</table>\n",
       "<p>2293 rows × 9 columns</p>\n",
       "</div>"
      ],
      "text/plain": [
       "      user_id  month        mb  gb_not_rounded    gb  messages    min  calls  \\\n",
       "0        1000   12.0   1901.47        1.856904   2.0      11.0  124.0   16.0   \n",
       "1        1001    8.0   6919.15        6.756982   7.0      30.0  182.0   27.0   \n",
       "2        1001    9.0  13314.82       13.002754  14.0      44.0  315.0   49.0   \n",
       "3        1001   10.0  22330.49       21.807119  22.0      53.0  393.0   65.0   \n",
       "4        1001   11.0  18504.30       18.070605  19.0      36.0  426.0   64.0   \n",
       "...       ...    ...       ...             ...   ...       ...    ...    ...   \n",
       "2288     1470    8.0      0.00        0.000000   0.0     141.0  580.0   84.0   \n",
       "2289     1470    9.0      0.00        0.000000   0.0     130.0  471.0   70.0   \n",
       "2290     1470   10.0      0.00        0.000000   0.0     145.0  459.0   72.0   \n",
       "2291     1470   11.0      0.00        0.000000   0.0     156.0  632.0   81.0   \n",
       "2292     1470   12.0      0.00        0.000000   0.0     153.0  592.0   78.0   \n",
       "\n",
       "          plan  \n",
       "0     ultimate  \n",
       "1         surf  \n",
       "2         surf  \n",
       "3         surf  \n",
       "4         surf  \n",
       "...        ...  \n",
       "2288      surf  \n",
       "2289      surf  \n",
       "2290      surf  \n",
       "2291      surf  \n",
       "2292      surf  \n",
       "\n",
       "[2293 rows x 9 columns]"
      ]
     },
     "metadata": {},
     "output_type": "display_data"
    },
    {
     "name": "stdout",
     "output_type": "stream",
     "text": [
      "<class 'pandas.core.frame.DataFrame'>\n",
      "Int64Index: 2293 entries, 0 to 2292\n",
      "Data columns (total 9 columns):\n",
      " #   Column          Non-Null Count  Dtype  \n",
      "---  ------          --------------  -----  \n",
      " 0   user_id         2293 non-null   int64  \n",
      " 1   month           2293 non-null   int64  \n",
      " 2   mb              2293 non-null   float64\n",
      " 3   gb_not_rounded  2293 non-null   float64\n",
      " 4   gb              2293 non-null   int64  \n",
      " 5   messages        2293 non-null   int64  \n",
      " 6   min             2293 non-null   int64  \n",
      " 7   calls           2293 non-null   int64  \n",
      " 8   plan            2293 non-null   object \n",
      "dtypes: float64(2), int64(6), object(1)\n",
      "memory usage: 179.1+ KB\n"
     ]
    }
   ],
   "source": [
    "# Añadir la información de la tarifa\n",
    "merge_per_month_plan = merge_per_month.merge(\n",
    "    users[[\"plan\", \"user_id\"]], on=\"user_id\", how='outer')\n",
    "merge_per_month_plan.info()\n",
    "# Se eliminaran los datos ausentes, ya que tenemos ID's de usuarios que no tienen:\n",
    "# mes, gb, mensajes, minutos o llamadas asignadas. Desaparecimos diez datos.\n",
    "merge_per_month_plan.dropna(inplace=True)\n",
    "display(merge_per_month_plan)\n",
    "merge_per_month_plan[\"gb\"] = merge_per_month_plan[\"gb\"].astype(\"int\")\n",
    "merge_per_month_plan[\"messages\"] = merge_per_month_plan[\"messages\"].astype(\n",
    "    \"int\")\n",
    "merge_per_month_plan[\"min\"] = merge_per_month_plan[\"min\"].astype(\"int\")\n",
    "merge_per_month_plan[\"calls\"] = merge_per_month_plan[\"calls\"].astype(\"int\")\n",
    "merge_per_month_plan[\"month\"] = merge_per_month_plan[\"month\"].astype(\"int\")\n",
    "merge_per_month_plan.info()"
   ]
  },
  {
   "cell_type": "code",
   "execution_count": 30,
   "metadata": {
    "id": "5FGCf_c60q1I",
    "scrolled": false
   },
   "outputs": [
    {
     "data": {
      "text/html": [
       "<div>\n",
       "<style scoped>\n",
       "    .dataframe tbody tr th:only-of-type {\n",
       "        vertical-align: middle;\n",
       "    }\n",
       "\n",
       "    .dataframe tbody tr th {\n",
       "        vertical-align: top;\n",
       "    }\n",
       "\n",
       "    .dataframe thead th {\n",
       "        text-align: right;\n",
       "    }\n",
       "</style>\n",
       "<table border=\"1\" class=\"dataframe\">\n",
       "  <thead>\n",
       "    <tr style=\"text-align: right;\">\n",
       "      <th></th>\n",
       "      <th>user_id</th>\n",
       "      <th>month</th>\n",
       "      <th>mb</th>\n",
       "      <th>gb_not_rounded</th>\n",
       "      <th>gb</th>\n",
       "      <th>messages</th>\n",
       "      <th>min</th>\n",
       "      <th>calls</th>\n",
       "      <th>plan</th>\n",
       "      <th>user_income</th>\n",
       "    </tr>\n",
       "  </thead>\n",
       "  <tbody>\n",
       "    <tr>\n",
       "      <th>0</th>\n",
       "      <td>1000</td>\n",
       "      <td>12</td>\n",
       "      <td>1901.47</td>\n",
       "      <td>1.856904</td>\n",
       "      <td>2</td>\n",
       "      <td>11</td>\n",
       "      <td>124</td>\n",
       "      <td>16</td>\n",
       "      <td>ultimate</td>\n",
       "      <td>70.00</td>\n",
       "    </tr>\n",
       "    <tr>\n",
       "      <th>1</th>\n",
       "      <td>1001</td>\n",
       "      <td>8</td>\n",
       "      <td>6919.15</td>\n",
       "      <td>6.756982</td>\n",
       "      <td>7</td>\n",
       "      <td>30</td>\n",
       "      <td>182</td>\n",
       "      <td>27</td>\n",
       "      <td>surf</td>\n",
       "      <td>20.00</td>\n",
       "    </tr>\n",
       "    <tr>\n",
       "      <th>2</th>\n",
       "      <td>1001</td>\n",
       "      <td>9</td>\n",
       "      <td>13314.82</td>\n",
       "      <td>13.002754</td>\n",
       "      <td>14</td>\n",
       "      <td>44</td>\n",
       "      <td>315</td>\n",
       "      <td>49</td>\n",
       "      <td>surf</td>\n",
       "      <td>20.00</td>\n",
       "    </tr>\n",
       "    <tr>\n",
       "      <th>3</th>\n",
       "      <td>1001</td>\n",
       "      <td>10</td>\n",
       "      <td>22330.49</td>\n",
       "      <td>21.807119</td>\n",
       "      <td>22</td>\n",
       "      <td>53</td>\n",
       "      <td>393</td>\n",
       "      <td>65</td>\n",
       "      <td>surf</td>\n",
       "      <td>90.09</td>\n",
       "    </tr>\n",
       "    <tr>\n",
       "      <th>4</th>\n",
       "      <td>1001</td>\n",
       "      <td>11</td>\n",
       "      <td>18504.30</td>\n",
       "      <td>18.070605</td>\n",
       "      <td>19</td>\n",
       "      <td>36</td>\n",
       "      <td>426</td>\n",
       "      <td>64</td>\n",
       "      <td>surf</td>\n",
       "      <td>60.00</td>\n",
       "    </tr>\n",
       "    <tr>\n",
       "      <th>...</th>\n",
       "      <td>...</td>\n",
       "      <td>...</td>\n",
       "      <td>...</td>\n",
       "      <td>...</td>\n",
       "      <td>...</td>\n",
       "      <td>...</td>\n",
       "      <td>...</td>\n",
       "      <td>...</td>\n",
       "      <td>...</td>\n",
       "      <td>...</td>\n",
       "    </tr>\n",
       "    <tr>\n",
       "      <th>2288</th>\n",
       "      <td>1470</td>\n",
       "      <td>8</td>\n",
       "      <td>0.00</td>\n",
       "      <td>0.000000</td>\n",
       "      <td>0</td>\n",
       "      <td>141</td>\n",
       "      <td>580</td>\n",
       "      <td>84</td>\n",
       "      <td>surf</td>\n",
       "      <td>25.13</td>\n",
       "    </tr>\n",
       "    <tr>\n",
       "      <th>2289</th>\n",
       "      <td>1470</td>\n",
       "      <td>9</td>\n",
       "      <td>0.00</td>\n",
       "      <td>0.000000</td>\n",
       "      <td>0</td>\n",
       "      <td>130</td>\n",
       "      <td>471</td>\n",
       "      <td>70</td>\n",
       "      <td>surf</td>\n",
       "      <td>22.40</td>\n",
       "    </tr>\n",
       "    <tr>\n",
       "      <th>2290</th>\n",
       "      <td>1470</td>\n",
       "      <td>10</td>\n",
       "      <td>0.00</td>\n",
       "      <td>0.000000</td>\n",
       "      <td>0</td>\n",
       "      <td>145</td>\n",
       "      <td>459</td>\n",
       "      <td>72</td>\n",
       "      <td>surf</td>\n",
       "      <td>22.85</td>\n",
       "    </tr>\n",
       "    <tr>\n",
       "      <th>2291</th>\n",
       "      <td>1470</td>\n",
       "      <td>11</td>\n",
       "      <td>0.00</td>\n",
       "      <td>0.000000</td>\n",
       "      <td>0</td>\n",
       "      <td>156</td>\n",
       "      <td>632</td>\n",
       "      <td>81</td>\n",
       "      <td>surf</td>\n",
       "      <td>27.14</td>\n",
       "    </tr>\n",
       "    <tr>\n",
       "      <th>2292</th>\n",
       "      <td>1470</td>\n",
       "      <td>12</td>\n",
       "      <td>0.00</td>\n",
       "      <td>0.000000</td>\n",
       "      <td>0</td>\n",
       "      <td>153</td>\n",
       "      <td>592</td>\n",
       "      <td>78</td>\n",
       "      <td>surf</td>\n",
       "      <td>25.85</td>\n",
       "    </tr>\n",
       "  </tbody>\n",
       "</table>\n",
       "<p>2293 rows × 10 columns</p>\n",
       "</div>"
      ],
      "text/plain": [
       "      user_id  month        mb  gb_not_rounded  gb  messages  min  calls  \\\n",
       "0        1000     12   1901.47        1.856904   2        11  124     16   \n",
       "1        1001      8   6919.15        6.756982   7        30  182     27   \n",
       "2        1001      9  13314.82       13.002754  14        44  315     49   \n",
       "3        1001     10  22330.49       21.807119  22        53  393     65   \n",
       "4        1001     11  18504.30       18.070605  19        36  426     64   \n",
       "...       ...    ...       ...             ...  ..       ...  ...    ...   \n",
       "2288     1470      8      0.00        0.000000   0       141  580     84   \n",
       "2289     1470      9      0.00        0.000000   0       130  471     70   \n",
       "2290     1470     10      0.00        0.000000   0       145  459     72   \n",
       "2291     1470     11      0.00        0.000000   0       156  632     81   \n",
       "2292     1470     12      0.00        0.000000   0       153  592     78   \n",
       "\n",
       "          plan  user_income  \n",
       "0     ultimate        70.00  \n",
       "1         surf        20.00  \n",
       "2         surf        20.00  \n",
       "3         surf        90.09  \n",
       "4         surf        60.00  \n",
       "...        ...          ...  \n",
       "2288      surf        25.13  \n",
       "2289      surf        22.40  \n",
       "2290      surf        22.85  \n",
       "2291      surf        27.14  \n",
       "2292      surf        25.85  \n",
       "\n",
       "[2293 rows x 10 columns]"
      ]
     },
     "metadata": {},
     "output_type": "display_data"
    }
   ],
   "source": [
    "# Calcular el ingreso mensual para cada usuario\n",
    "# Se usa el merge_per_month_plan\n",
    "def plan_income(plan, row):\n",
    "    \"\"\"\n",
    "    Calcular los ingresos de un plan.\n",
    "    Argumentos:\n",
    "        plan: Tipo de plan\n",
    "        row: Una fila de un pandas DataFrame con los detalles del plan y/o el uso por usuario.\n",
    "    Returns:\n",
    "        Ingreso generado por el plan\n",
    "    \"\"\"\n",
    "    resources = [\"messages\", \"gb\", \"min\"]\n",
    "    income = 0\n",
    "\n",
    "    for resource in resources:\n",
    "        included = plans.loc[plans[\"plan\"] ==\n",
    "                             plan, f\"{resource}_included\"].iloc[0]\n",
    "        used = row[resource]\n",
    "        cost_per_unit = plans.loc[plans[\"plan\"] ==\n",
    "                                  plan, f\"usd_per_{resource}\"].iloc[0]\n",
    "\n",
    "        if used > included:\n",
    "            income += (used - included) * cost_per_unit\n",
    "\n",
    "    if plan in [\"ultimate\", \"surf\"]:\n",
    "        income += plans.loc[plans[\"plan\"] == plan, \"usd_monthly_pay\"].iloc[0]\n",
    "\n",
    "    return income\n",
    "\n",
    "\n",
    "def calculate_user_income(df):\n",
    "    user_incomes = []\n",
    "\n",
    "    for _, row in df.iterrows():\n",
    "        plan = row[\"plan\"]\n",
    "        user_income = plan_income(plan, row)\n",
    "        user_incomes.append(user_income)\n",
    "\n",
    "    df[\"user_income\"] = user_incomes\n",
    "    return df\n",
    "\n",
    "\n",
    "merge_per_month_plan = calculate_user_income(merge_per_month_plan)\n",
    "\n",
    "display(merge_per_month_plan)"
   ]
  },
  {
   "cell_type": "markdown",
   "metadata": {},
   "source": [
    "Primero se calculó el número de llamadas hechas por cada usario al mes. Se utilizo el dataframe de \"calls\" para esto, agrupando el id de las llamadas por el id del usuario y el mes de cada llamada. Esto fue guardado en el dataframe \"calls_per_user_per_month\".\n",
    "\n",
    "Se repitió la dinámica con la cantidad de minutos (en llamada), los GB y mensajes usados. Asi obtuvimos otros tres dataframes: \"min_per_user_per_month\", \"messages_per_user_per_month\" e \"internet_per_user_per_month\".\n",
    "\n",
    "Se fusionaron estos 4 dataframes usando como base el mes y el id del usuario. Se eliminaron los datos ausentes o se llenaron con 0 dependiendo de la situación. En el caso de los eliminados, teníamos ID's de usuarios sin mes, GB, mensajes, minutos o llamadas asignadas. Desaparecimos diez datos. Se formó el datafarme \"merge_per_month_plan\".\n",
    "\n",
    "Luego de tener los datos relativamente limpios, se transformaron todos los tipos de datos a excepción de aquellos de la columna \"plan\", en enteros. Esto se realizó para facilitar cualquier ejercicio que hagamos sobre estos últimos.\n",
    "\n",
    "Se crearon dos funciones:\n",
    "\n",
    "La primera (\"plan_income()\") calcula los ingresos basandose en un plan, teniendo como argumentos el tipo de plan y la fila del dataframe con los detalles del plan y/o uso por usuario. Nos regresa el ingreso generado por el plan.\n",
    "\n",
    "La segunda función (\"calculate_user_income\") nos ayuda a obtener el ingreso de cada usuario por caada fila en un dataframe. Tenemos como argumento el dataframe con los datos de los ingresos. Se usa \"plan_income()\" que es iterado en cada fila de un dataframe determinado. Devuelve el dataframe original adicionando una columna llamada \"user_income\".\n",
    "\n",
    "Luego de usar la función calculate_user_income() sobre \"merge_per_month_plan\", obtuvimos la columna de \"user_income\" con los ingresos de cada usuario, de acuerdo a lo que consumió y el plan usado."
   ]
  },
  {
   "cell_type": "markdown",
   "metadata": {
    "id": "-jtyHzJb0q1I"
   },
   "source": [
    "## Estudia el comportamiento de usuario"
   ]
  },
  {
   "cell_type": "markdown",
   "metadata": {
    "id": "vtW4CJEe0q1J"
   },
   "source": [
    "### Llamadas"
   ]
  },
  {
   "cell_type": "code",
   "execution_count": 31,
   "metadata": {
    "id": "Jf5v5--k0q1J"
   },
   "outputs": [
    {
     "data": {
      "image/png": "[encoded data removed]",
      "text/plain": [
       "<Figure size 1200x600 with 1 Axes>"
      ]
     },
     "metadata": {},
     "output_type": "display_data"
    }
   ],
   "source": [
    "# Comparar la duración promedio de llamadas por cada plan y por cada mes. Traza un gráfico de barras para visualizarla.\n",
    "\n",
    "# Primero usando el dataframe de merge_per_month_plan separamos los datos en dos dataframes de acuerdo al plan,\n",
    "# con las columnas que nos interesan.\n",
    "mean_calls_ultimate = merge_per_month_plan[(\n",
    "    merge_per_month_plan[\"plan\"] == \"ultimate\")][[\"month\", \"calls\", \"min\"]]\n",
    "mean_calls_surf = merge_per_month_plan[(merge_per_month_plan[\"plan\"] == \"surf\")][[\n",
    "    \"month\", \"calls\", \"min\"]]\n",
    "\n",
    "# Segundo, hacemos un promedio de la duracion promedio por llamada de usuarios.\n",
    "mean_calls_ultimate[\"min_per_call\"] = mean_calls_ultimate[\"min\"] / \\\n",
    "    mean_calls_ultimate[\"calls\"]\n",
    "mean_calls_surf[\"min_per_call\"] = mean_calls_surf[\"min\"] / \\\n",
    "    mean_calls_surf[\"calls\"]\n",
    "\n",
    "# Tercero, eliminamos los datos ausentes.\n",
    "mean_calls_ultimate = mean_calls_ultimate.dropna()\n",
    "mean_calls_surf = mean_calls_surf.dropna()\n",
    "\n",
    "# Cuarto, agrupamos los datos para obtener los promedios de minutos por llamada por cada mes.\n",
    "mean_calls_ultimate = mean_calls_ultimate.groupby([\"month\"])[\n",
    "    \"min_per_call\"].mean()\n",
    "mean_calls_surf = mean_calls_surf.groupby([\"month\"])[\"min_per_call\"].mean()\n",
    "\n",
    "# Quinto, concatenamos.\n",
    "mean_calls_concat = pd.concat([mean_calls_ultimate, mean_calls_surf], axis=1)\n",
    "mean_calls_concat.columns = [\"ultimate\", \"surf\"]\n",
    "\n",
    "# Sexto, mostramos la gráfica.\n",
    "mean_calls_concat.plot(kind='bar',\n",
    "                       title='Diferencia entre duración promedio de llamadas por cada plan',\n",
    "                       xlabel='Mes',\n",
    "                       ylabel='Promedio de duración por llamada',\n",
    "                       figsize=[12, 6])\n",
    "plt.legend(['ultimate', 'surf'])\n",
    "plt.show()"
   ]
  },
  {
   "cell_type": "code",
   "execution_count": 32,
   "metadata": {
    "id": "QoLqW1S_0q1J"
   },
   "outputs": [
    {
     "data": {
      "image/png": "[encoded data removed]",
      "text/plain": [
       "<Figure size 640x480 with 1 Axes>"
      ]
     },
     "metadata": {},
     "output_type": "display_data"
    }
   ],
   "source": [
    "# Comparar el número de minutos mensuales que necesitan los usuarios de cada plan. Traza un histograma.\n",
    "\n",
    "# Primero usando el dataframe de merge_per_month_plan separamos los datos en un nuevo dataframe de acuerdo al plan,\n",
    "# con las columnas que nos interesan.\n",
    "user_min_month = merge_per_month_plan[[\"month\", \"min\", \"plan\"]]\n",
    "\n",
    "# Segundo, mostrar el gráfico del plan surf\n",
    "user_min_month[user_min_month[\"plan\"] == \"surf\"][\"min\"].plot(\n",
    "    kind='hist', color=\"orange\")\n",
    "\n",
    "# Tercero,  mostrar el gráfico del plan ultimate\n",
    "user_min_month[user_min_month[\"plan\"] == \"ultimate\"][\"min\"].plot(\n",
    "    kind='hist', alpha=0.9, color=\"blue\")\n",
    "\n",
    "plt.legend(['Surf', 'ultimate'])\n",
    "plt.title('Comparación de Minutos Mensuales por Plan')\n",
    "plt.xlabel('Minutos Mensuales')\n",
    "plt.ylabel('Frecuencia')\n",
    "plt.show()"
   ]
  },
  {
   "cell_type": "code",
   "execution_count": 33,
   "metadata": {
    "id": "oSndbAnt0q1K"
   },
   "outputs": [
    {
     "data": {
      "text/html": [
       "<div>\n",
       "<style scoped>\n",
       "    .dataframe tbody tr th:only-of-type {\n",
       "        vertical-align: middle;\n",
       "    }\n",
       "\n",
       "    .dataframe tbody tr th {\n",
       "        vertical-align: top;\n",
       "    }\n",
       "\n",
       "    .dataframe thead th {\n",
       "        text-align: right;\n",
       "    }\n",
       "</style>\n",
       "<table border=\"1\" class=\"dataframe\">\n",
       "  <thead>\n",
       "    <tr style=\"text-align: right;\">\n",
       "      <th></th>\n",
       "      <th>month</th>\n",
       "      <th>plan</th>\n",
       "      <th>mean</th>\n",
       "      <th>var</th>\n",
       "      <th>std</th>\n",
       "      <th>median</th>\n",
       "    </tr>\n",
       "  </thead>\n",
       "  <tbody>\n",
       "    <tr>\n",
       "      <th>0</th>\n",
       "      <td>1</td>\n",
       "      <td>surf</td>\n",
       "      <td>203.000000</td>\n",
       "      <td>15842.000000</td>\n",
       "      <td>125.865007</td>\n",
       "      <td>203.0</td>\n",
       "    </tr>\n",
       "    <tr>\n",
       "      <th>1</th>\n",
       "      <td>1</td>\n",
       "      <td>ultimate</td>\n",
       "      <td>193.500000</td>\n",
       "      <td>16572.333333</td>\n",
       "      <td>128.733575</td>\n",
       "      <td>234.0</td>\n",
       "    </tr>\n",
       "    <tr>\n",
       "      <th>2</th>\n",
       "      <td>2</td>\n",
       "      <td>surf</td>\n",
       "      <td>297.000000</td>\n",
       "      <td>52226.500000</td>\n",
       "      <td>228.531179</td>\n",
       "      <td>254.0</td>\n",
       "    </tr>\n",
       "    <tr>\n",
       "      <th>3</th>\n",
       "      <td>2</td>\n",
       "      <td>ultimate</td>\n",
       "      <td>403.142857</td>\n",
       "      <td>76889.476190</td>\n",
       "      <td>277.289517</td>\n",
       "      <td>428.0</td>\n",
       "    </tr>\n",
       "    <tr>\n",
       "      <th>4</th>\n",
       "      <td>3</td>\n",
       "      <td>surf</td>\n",
       "      <td>330.000000</td>\n",
       "      <td>35809.363636</td>\n",
       "      <td>189.233622</td>\n",
       "      <td>334.0</td>\n",
       "    </tr>\n",
       "    <tr>\n",
       "      <th>5</th>\n",
       "      <td>3</td>\n",
       "      <td>ultimate</td>\n",
       "      <td>304.250000</td>\n",
       "      <td>61984.931818</td>\n",
       "      <td>248.967732</td>\n",
       "      <td>251.0</td>\n",
       "    </tr>\n",
       "    <tr>\n",
       "      <th>6</th>\n",
       "      <td>4</td>\n",
       "      <td>surf</td>\n",
       "      <td>351.540000</td>\n",
       "      <td>50866.743265</td>\n",
       "      <td>225.536567</td>\n",
       "      <td>339.5</td>\n",
       "    </tr>\n",
       "    <tr>\n",
       "      <th>7</th>\n",
       "      <td>4</td>\n",
       "      <td>ultimate</td>\n",
       "      <td>336.857143</td>\n",
       "      <td>34888.928571</td>\n",
       "      <td>186.785783</td>\n",
       "      <td>301.0</td>\n",
       "    </tr>\n",
       "    <tr>\n",
       "      <th>8</th>\n",
       "      <td>5</td>\n",
       "      <td>surf</td>\n",
       "      <td>399.584416</td>\n",
       "      <td>59754.219754</td>\n",
       "      <td>244.446763</td>\n",
       "      <td>415.0</td>\n",
       "    </tr>\n",
       "    <tr>\n",
       "      <th>9</th>\n",
       "      <td>5</td>\n",
       "      <td>ultimate</td>\n",
       "      <td>406.241379</td>\n",
       "      <td>43841.046798</td>\n",
       "      <td>209.382537</td>\n",
       "      <td>407.0</td>\n",
       "    </tr>\n",
       "    <tr>\n",
       "      <th>10</th>\n",
       "      <td>6</td>\n",
       "      <td>surf</td>\n",
       "      <td>431.298969</td>\n",
       "      <td>45592.628436</td>\n",
       "      <td>213.524304</td>\n",
       "      <td>423.0</td>\n",
       "    </tr>\n",
       "    <tr>\n",
       "      <th>11</th>\n",
       "      <td>6</td>\n",
       "      <td>ultimate</td>\n",
       "      <td>370.957447</td>\n",
       "      <td>42503.563367</td>\n",
       "      <td>206.163924</td>\n",
       "      <td>399.0</td>\n",
       "    </tr>\n",
       "    <tr>\n",
       "      <th>12</th>\n",
       "      <td>7</td>\n",
       "      <td>surf</td>\n",
       "      <td>449.983471</td>\n",
       "      <td>61005.099725</td>\n",
       "      <td>246.992105</td>\n",
       "      <td>454.0</td>\n",
       "    </tr>\n",
       "    <tr>\n",
       "      <th>13</th>\n",
       "      <td>7</td>\n",
       "      <td>ultimate</td>\n",
       "      <td>427.067797</td>\n",
       "      <td>72563.374635</td>\n",
       "      <td>269.375898</td>\n",
       "      <td>430.0</td>\n",
       "    </tr>\n",
       "    <tr>\n",
       "      <th>14</th>\n",
       "      <td>8</td>\n",
       "      <td>surf</td>\n",
       "      <td>410.111111</td>\n",
       "      <td>54344.645963</td>\n",
       "      <td>233.119381</td>\n",
       "      <td>392.0</td>\n",
       "    </tr>\n",
       "    <tr>\n",
       "      <th>15</th>\n",
       "      <td>8</td>\n",
       "      <td>ultimate</td>\n",
       "      <td>421.436620</td>\n",
       "      <td>53645.506640</td>\n",
       "      <td>231.614997</td>\n",
       "      <td>406.0</td>\n",
       "    </tr>\n",
       "    <tr>\n",
       "      <th>16</th>\n",
       "      <td>9</td>\n",
       "      <td>surf</td>\n",
       "      <td>414.226804</td>\n",
       "      <td>46595.958656</td>\n",
       "      <td>215.860971</td>\n",
       "      <td>426.0</td>\n",
       "    </tr>\n",
       "    <tr>\n",
       "      <th>17</th>\n",
       "      <td>9</td>\n",
       "      <td>ultimate</td>\n",
       "      <td>437.511628</td>\n",
       "      <td>57070.464569</td>\n",
       "      <td>238.894254</td>\n",
       "      <td>434.0</td>\n",
       "    </tr>\n",
       "    <tr>\n",
       "      <th>18</th>\n",
       "      <td>10</td>\n",
       "      <td>surf</td>\n",
       "      <td>429.729958</td>\n",
       "      <td>52278.664056</td>\n",
       "      <td>228.645280</td>\n",
       "      <td>432.0</td>\n",
       "    </tr>\n",
       "    <tr>\n",
       "      <th>19</th>\n",
       "      <td>10</td>\n",
       "      <td>ultimate</td>\n",
       "      <td>450.735849</td>\n",
       "      <td>54261.910512</td>\n",
       "      <td>232.941861</td>\n",
       "      <td>460.5</td>\n",
       "    </tr>\n",
       "    <tr>\n",
       "      <th>20</th>\n",
       "      <td>11</td>\n",
       "      <td>surf</td>\n",
       "      <td>423.325088</td>\n",
       "      <td>51607.021602</td>\n",
       "      <td>227.171789</td>\n",
       "      <td>413.0</td>\n",
       "    </tr>\n",
       "    <tr>\n",
       "      <th>21</th>\n",
       "      <td>11</td>\n",
       "      <td>ultimate</td>\n",
       "      <td>445.196850</td>\n",
       "      <td>60593.222847</td>\n",
       "      <td>246.156907</td>\n",
       "      <td>432.0</td>\n",
       "    </tr>\n",
       "    <tr>\n",
       "      <th>22</th>\n",
       "      <td>12</td>\n",
       "      <td>surf</td>\n",
       "      <td>473.836478</td>\n",
       "      <td>63629.518918</td>\n",
       "      <td>252.248923</td>\n",
       "      <td>449.0</td>\n",
       "    </tr>\n",
       "    <tr>\n",
       "      <th>23</th>\n",
       "      <td>12</td>\n",
       "      <td>ultimate</td>\n",
       "      <td>459.099338</td>\n",
       "      <td>62503.783400</td>\n",
       "      <td>250.007567</td>\n",
       "      <td>436.0</td>\n",
       "    </tr>\n",
       "  </tbody>\n",
       "</table>\n",
       "</div>"
      ],
      "text/plain": [
       "    month      plan        mean           var         std  median\n",
       "0       1      surf  203.000000  15842.000000  125.865007   203.0\n",
       "1       1  ultimate  193.500000  16572.333333  128.733575   234.0\n",
       "2       2      surf  297.000000  52226.500000  228.531179   254.0\n",
       "3       2  ultimate  403.142857  76889.476190  277.289517   428.0\n",
       "4       3      surf  330.000000  35809.363636  189.233622   334.0\n",
       "5       3  ultimate  304.250000  61984.931818  248.967732   251.0\n",
       "6       4      surf  351.540000  50866.743265  225.536567   339.5\n",
       "7       4  ultimate  336.857143  34888.928571  186.785783   301.0\n",
       "8       5      surf  399.584416  59754.219754  244.446763   415.0\n",
       "9       5  ultimate  406.241379  43841.046798  209.382537   407.0\n",
       "10      6      surf  431.298969  45592.628436  213.524304   423.0\n",
       "11      6  ultimate  370.957447  42503.563367  206.163924   399.0\n",
       "12      7      surf  449.983471  61005.099725  246.992105   454.0\n",
       "13      7  ultimate  427.067797  72563.374635  269.375898   430.0\n",
       "14      8      surf  410.111111  54344.645963  233.119381   392.0\n",
       "15      8  ultimate  421.436620  53645.506640  231.614997   406.0\n",
       "16      9      surf  414.226804  46595.958656  215.860971   426.0\n",
       "17      9  ultimate  437.511628  57070.464569  238.894254   434.0\n",
       "18     10      surf  429.729958  52278.664056  228.645280   432.0\n",
       "19     10  ultimate  450.735849  54261.910512  232.941861   460.5\n",
       "20     11      surf  423.325088  51607.021602  227.171789   413.0\n",
       "21     11  ultimate  445.196850  60593.222847  246.156907   432.0\n",
       "22     12      surf  473.836478  63629.518918  252.248923   449.0\n",
       "23     12  ultimate  459.099338  62503.783400  250.007567   436.0"
      ]
     },
     "metadata": {},
     "output_type": "display_data"
    },
    {
     "data": {
      "image/png": "[encoded data removed]",
      "text/plain": [
       "<Figure size 1200x600 with 1 Axes>"
      ]
     },
     "metadata": {},
     "output_type": "display_data"
    }
   ],
   "source": [
    "# Calcular la media y la varianza de la duración mensual de llamadas.\n",
    "# Calcular la media y varianza solo para la columna \"min\"\n",
    "merge_mean_var_stats_min = user_min_month.groupby(\n",
    "    [\"month\", \"plan\"])[\"min\"].agg(['mean', \"var\", \"std\", \"median\"]).reset_index()\n",
    "display(merge_mean_var_stats_min)\n",
    "\n",
    "# Crear la gráfica de barras con bandas de error (aunque por alguna razón no se ven)\n",
    "plt.figure(figsize=(12, 6))\n",
    "\n",
    "for plan, color in zip(merge_mean_var_stats_min['plan'].unique(), ['orange', 'blue']):\n",
    "    subset = merge_mean_var_stats_min[merge_mean_var_stats_min['plan'] == plan]\n",
    "    plt.errorbar(subset['month'], subset['mean'], yerr=subset['std'],\n",
    "                 fmt='-o', label=f'Plan {plan}', color=color)\n",
    "\n",
    "plt.title(\n",
    "    'Medias y Desviaciones Estándar de la duración mensual de llamadas por plan')\n",
    "plt.xlabel('Mes')\n",
    "plt.ylabel('Media')\n",
    "plt.legend()\n",
    "plt.show()"
   ]
  },
  {
   "cell_type": "code",
   "execution_count": 34,
   "metadata": {
    "id": "nZzoRUKc0q1K",
    "scrolled": true
   },
   "outputs": [
    {
     "data": {
      "image/png": "[encoded data removed]",
      "text/plain": [
       "<Figure size 640x480 with 1 Axes>"
      ]
     },
     "metadata": {},
     "output_type": "display_data"
    }
   ],
   "source": [
    "# Traza un diagrama de caja para visualizar la distribución de la duración mensual de llamadas\n",
    "sns.boxplot(x=\"plan\", y=\"min\", data=user_min_month,\n",
    "            palette=['blue', 'orange'])\n",
    "plt.title('Distribución de la Duración de Llamadas por Plan')\n",
    "plt.xlabel('Plan')\n",
    "plt.ylabel('Duración de Llamadas (minutos)')\n",
    "plt.show()"
   ]
  },
  {
   "cell_type": "markdown",
   "metadata": {},
   "source": [
    "No se observan grandes diferencias en el comportamiento de los usuarios con respecto a las llamadas. En ambos casos, la mayoría de los valores se encuentran alrededor de 500 minutos, como los que están de manera estándar en el plan \"surf\".  \n",
    "\n",
    "En la primera gráfica vemos la comparación del promedio de la duración de las llamadas a lo largo del año, de acuerdo al plan de los usuarios. Observamos un comportamiento similar en ambos planes, teniendo la  mayor diferencia en el mes de Marzo con un promedio mayor por parte de los usuarios del plan surf. \n",
    "\n",
    "En el histograma observamos que hay una mayor proporción de usuarios haciendo llamadas en el plan surf a comparación del plan ultimate, aunque ambos poseen estructuras similares. Hay un promedio alrededor de 400-600 mensajes por mes. Los datos están sesgados a la derecha. Esto concuerda con los datos del plan, donde el plan \"surf\" tiene como base 500 minutos al mes.\n",
    "\n",
    "Luego analizamos el promedio y la varianza de la duración de mensual de las llamadas. Graficamos el promedio y la desviación estandar (la raíz cuadrada de la varianza) y observamos que las desviaciones se sobrelapan entre si. Este es un indicio de que no hay diferencias significativas entre los comportamientos entre ambos planes.\n",
    "\n",
    "En la gráfica de caja y bigotes observamos que las cajas son relativamente cortas y los bigotes son largos, indicando una distribución donde la mayoría de los datos se concentran alrededor de los 400 minutos, donde encontramos la mediana. Se observan algunos valores extremos. En el plan surf se observá un mayor sesgo debido a estos últimos.  "
   ]
  },
  {
   "cell_type": "markdown",
   "metadata": {
    "id": "8idKy8Wh0q1L"
   },
   "source": [
    "### Mensajes"
   ]
  },
  {
   "cell_type": "code",
   "execution_count": 35,
   "metadata": {
    "id": "NXLxiTit0q1L"
   },
   "outputs": [
    {
     "data": {
      "image/png": "[encoded data removed]",
      "text/plain": [
       "<Figure size 1500x600 with 1 Axes>"
      ]
     },
     "metadata": {},
     "output_type": "display_data"
    }
   ],
   "source": [
    "# Comparar el número de mensajes que tienden a enviar cada mes los usuarios de cada plan\n",
    "\n",
    "# Primero usando el dataframe de merge_per_month_plan separamos los datos en dos dataframes de acuerdo al plan,\n",
    "# con las columnas que nos interesan.\n",
    "messages_ultimate = merge_per_month_plan[(\n",
    "    merge_per_month_plan[\"plan\"] == \"ultimate\")][[\"month\", \"messages\"]]\n",
    "messages_surf = merge_per_month_plan[(merge_per_month_plan[\"plan\"] == \"surf\")][[\n",
    "    \"month\", \"messages\"]]\n",
    "\n",
    "# Tercero, agrupamos los datos para obtener los  de mensajes por mes.\n",
    "messages_ultimate = messages_ultimate.groupby(\"month\")[\"messages\"].sum()\n",
    "messages_surf = messages_surf.groupby(\"month\")[\"messages\"].sum()\n",
    "\n",
    "# Cuarto, concatenamos.\n",
    "mean_messages_concat = pd.concat([messages_ultimate, messages_surf], axis=1)\n",
    "mean_messages_concat.columns = [\"ultimate\", \"surf\"]\n",
    "\n",
    "# Quinto, mostramos la gráfica.\n",
    "mean_messages_concat.plot(kind='bar',\n",
    "                          title='Diferencia entre número de mensajes por cada plan',\n",
    "                          xlabel='Mes',\n",
    "                          ylabel='Número de mensajes',\n",
    "                          figsize=[15, 6])\n",
    "plt.legend(['ultimate', 'surf'])\n",
    "plt.show()"
   ]
  },
  {
   "cell_type": "code",
   "execution_count": 36,
   "metadata": {
    "id": "GRI_R7xF0q1L"
   },
   "outputs": [
    {
     "data": {
      "image/png": "[encoded data removed]",
      "text/plain": [
       "<Figure size 1200x600 with 1 Axes>"
      ]
     },
     "metadata": {},
     "output_type": "display_data"
    }
   ],
   "source": [
    "# Comparar la cantidad de mensajes mensuales por plan\n",
    "# Primero usando el dataframe de merge_per_month_plan separamos los datos en un nuevo dataframe de acuerdo al plan,\n",
    "# con las columnas que nos interesan.\n",
    "user_messages_month = merge_per_month_plan[[\"month\", \"messages\", \"plan\"]]\n",
    "\n",
    "# Segundo, mostrar el gráfico del plan ultimate y surf\n",
    "user_messages_month[user_messages_month[\"plan\"] ==\n",
    "                    \"ultimate\"][\"messages\"].plot(kind='hist', figsize=(12, 6))\n",
    "user_messages_month[user_messages_month[\"plan\"] ==\n",
    "                    \"surf\"][\"messages\"].plot(kind='hist', alpha=0.5,)\n",
    "\n",
    "# Tercero,  mostrar el gráfico\n",
    "plt.legend(['ultimate', 'surf'])\n",
    "plt.title('Comparación de mensajes por plan')\n",
    "plt.xlabel('Número de mensajes')\n",
    "plt.ylabel('Frecuencia')\n",
    "plt.show()"
   ]
  },
  {
   "cell_type": "code",
   "execution_count": 37,
   "metadata": {
    "id": "dtFwCGAp0q1M"
   },
   "outputs": [
    {
     "data": {
      "text/html": [
       "<div>\n",
       "<style scoped>\n",
       "    .dataframe tbody tr th:only-of-type {\n",
       "        vertical-align: middle;\n",
       "    }\n",
       "\n",
       "    .dataframe tbody tr th {\n",
       "        vertical-align: top;\n",
       "    }\n",
       "\n",
       "    .dataframe thead th {\n",
       "        text-align: right;\n",
       "    }\n",
       "</style>\n",
       "<table border=\"1\" class=\"dataframe\">\n",
       "  <thead>\n",
       "    <tr style=\"text-align: right;\">\n",
       "      <th></th>\n",
       "      <th>month</th>\n",
       "      <th>plan</th>\n",
       "      <th>mean</th>\n",
       "      <th>var</th>\n",
       "      <th>std</th>\n",
       "    </tr>\n",
       "  </thead>\n",
       "  <tbody>\n",
       "    <tr>\n",
       "      <th>0</th>\n",
       "      <td>1</td>\n",
       "      <td>surf</td>\n",
       "      <td>10.500000</td>\n",
       "      <td>220.500000</td>\n",
       "      <td>14.849242</td>\n",
       "    </tr>\n",
       "    <tr>\n",
       "      <th>1</th>\n",
       "      <td>1</td>\n",
       "      <td>ultimate</td>\n",
       "      <td>15.500000</td>\n",
       "      <td>313.666667</td>\n",
       "      <td>17.710637</td>\n",
       "    </tr>\n",
       "    <tr>\n",
       "      <th>2</th>\n",
       "      <td>2</td>\n",
       "      <td>surf</td>\n",
       "      <td>12.000000</td>\n",
       "      <td>386.000000</td>\n",
       "      <td>19.646883</td>\n",
       "    </tr>\n",
       "    <tr>\n",
       "      <th>3</th>\n",
       "      <td>2</td>\n",
       "      <td>ultimate</td>\n",
       "      <td>21.571429</td>\n",
       "      <td>478.285714</td>\n",
       "      <td>21.869744</td>\n",
       "    </tr>\n",
       "    <tr>\n",
       "      <th>4</th>\n",
       "      <td>3</td>\n",
       "      <td>surf</td>\n",
       "      <td>15.260870</td>\n",
       "      <td>346.565217</td>\n",
       "      <td>18.616262</td>\n",
       "    </tr>\n",
       "    <tr>\n",
       "      <th>5</th>\n",
       "      <td>3</td>\n",
       "      <td>ultimate</td>\n",
       "      <td>20.250000</td>\n",
       "      <td>654.386364</td>\n",
       "      <td>25.580977</td>\n",
       "    </tr>\n",
       "    <tr>\n",
       "      <th>6</th>\n",
       "      <td>4</td>\n",
       "      <td>surf</td>\n",
       "      <td>17.400000</td>\n",
       "      <td>501.591837</td>\n",
       "      <td>22.396246</td>\n",
       "    </tr>\n",
       "    <tr>\n",
       "      <th>7</th>\n",
       "      <td>4</td>\n",
       "      <td>ultimate</td>\n",
       "      <td>22.047619</td>\n",
       "      <td>544.147619</td>\n",
       "      <td>23.326972</td>\n",
       "    </tr>\n",
       "    <tr>\n",
       "      <th>8</th>\n",
       "      <td>5</td>\n",
       "      <td>surf</td>\n",
       "      <td>24.012987</td>\n",
       "      <td>847.197198</td>\n",
       "      <td>29.106652</td>\n",
       "    </tr>\n",
       "    <tr>\n",
       "      <th>9</th>\n",
       "      <td>5</td>\n",
       "      <td>ultimate</td>\n",
       "      <td>32.103448</td>\n",
       "      <td>1297.310345</td>\n",
       "      <td>36.018195</td>\n",
       "    </tr>\n",
       "    <tr>\n",
       "      <th>10</th>\n",
       "      <td>6</td>\n",
       "      <td>surf</td>\n",
       "      <td>25.298969</td>\n",
       "      <td>914.920103</td>\n",
       "      <td>30.247646</td>\n",
       "    </tr>\n",
       "    <tr>\n",
       "      <th>11</th>\n",
       "      <td>6</td>\n",
       "      <td>ultimate</td>\n",
       "      <td>29.340426</td>\n",
       "      <td>857.620722</td>\n",
       "      <td>29.285162</td>\n",
       "    </tr>\n",
       "    <tr>\n",
       "      <th>12</th>\n",
       "      <td>7</td>\n",
       "      <td>surf</td>\n",
       "      <td>27.033058</td>\n",
       "      <td>923.915565</td>\n",
       "      <td>30.395979</td>\n",
       "    </tr>\n",
       "    <tr>\n",
       "      <th>13</th>\n",
       "      <td>7</td>\n",
       "      <td>ultimate</td>\n",
       "      <td>32.830508</td>\n",
       "      <td>960.488019</td>\n",
       "      <td>30.991741</td>\n",
       "    </tr>\n",
       "    <tr>\n",
       "      <th>14</th>\n",
       "      <td>8</td>\n",
       "      <td>surf</td>\n",
       "      <td>28.777778</td>\n",
       "      <td>1029.515528</td>\n",
       "      <td>32.086064</td>\n",
       "    </tr>\n",
       "    <tr>\n",
       "      <th>15</th>\n",
       "      <td>8</td>\n",
       "      <td>ultimate</td>\n",
       "      <td>38.478873</td>\n",
       "      <td>1196.367404</td>\n",
       "      <td>34.588544</td>\n",
       "    </tr>\n",
       "    <tr>\n",
       "      <th>16</th>\n",
       "      <td>9</td>\n",
       "      <td>surf</td>\n",
       "      <td>30.762887</td>\n",
       "      <td>1003.829496</td>\n",
       "      <td>31.683268</td>\n",
       "    </tr>\n",
       "    <tr>\n",
       "      <th>17</th>\n",
       "      <td>9</td>\n",
       "      <td>ultimate</td>\n",
       "      <td>37.895349</td>\n",
       "      <td>1050.918331</td>\n",
       "      <td>32.417871</td>\n",
       "    </tr>\n",
       "    <tr>\n",
       "      <th>18</th>\n",
       "      <td>10</td>\n",
       "      <td>surf</td>\n",
       "      <td>33.839662</td>\n",
       "      <td>1275.465708</td>\n",
       "      <td>35.713663</td>\n",
       "    </tr>\n",
       "    <tr>\n",
       "      <th>19</th>\n",
       "      <td>10</td>\n",
       "      <td>ultimate</td>\n",
       "      <td>39.443396</td>\n",
       "      <td>1221.106289</td>\n",
       "      <td>34.944331</td>\n",
       "    </tr>\n",
       "    <tr>\n",
       "      <th>20</th>\n",
       "      <td>11</td>\n",
       "      <td>surf</td>\n",
       "      <td>32.385159</td>\n",
       "      <td>1065.344034</td>\n",
       "      <td>32.639608</td>\n",
       "    </tr>\n",
       "    <tr>\n",
       "      <th>21</th>\n",
       "      <td>11</td>\n",
       "      <td>ultimate</td>\n",
       "      <td>38.606299</td>\n",
       "      <td>1232.669166</td>\n",
       "      <td>35.109389</td>\n",
       "    </tr>\n",
       "    <tr>\n",
       "      <th>22</th>\n",
       "      <td>12</td>\n",
       "      <td>surf</td>\n",
       "      <td>38.600629</td>\n",
       "      <td>1458.158612</td>\n",
       "      <td>38.185843</td>\n",
       "    </tr>\n",
       "    <tr>\n",
       "      <th>23</th>\n",
       "      <td>12</td>\n",
       "      <td>ultimate</td>\n",
       "      <td>45.006623</td>\n",
       "      <td>1549.419956</td>\n",
       "      <td>39.362672</td>\n",
       "    </tr>\n",
       "  </tbody>\n",
       "</table>\n",
       "</div>"
      ],
      "text/plain": [
       "    month      plan       mean          var        std\n",
       "0       1      surf  10.500000   220.500000  14.849242\n",
       "1       1  ultimate  15.500000   313.666667  17.710637\n",
       "2       2      surf  12.000000   386.000000  19.646883\n",
       "3       2  ultimate  21.571429   478.285714  21.869744\n",
       "4       3      surf  15.260870   346.565217  18.616262\n",
       "5       3  ultimate  20.250000   654.386364  25.580977\n",
       "6       4      surf  17.400000   501.591837  22.396246\n",
       "7       4  ultimate  22.047619   544.147619  23.326972\n",
       "8       5      surf  24.012987   847.197198  29.106652\n",
       "9       5  ultimate  32.103448  1297.310345  36.018195\n",
       "10      6      surf  25.298969   914.920103  30.247646\n",
       "11      6  ultimate  29.340426   857.620722  29.285162\n",
       "12      7      surf  27.033058   923.915565  30.395979\n",
       "13      7  ultimate  32.830508   960.488019  30.991741\n",
       "14      8      surf  28.777778  1029.515528  32.086064\n",
       "15      8  ultimate  38.478873  1196.367404  34.588544\n",
       "16      9      surf  30.762887  1003.829496  31.683268\n",
       "17      9  ultimate  37.895349  1050.918331  32.417871\n",
       "18     10      surf  33.839662  1275.465708  35.713663\n",
       "19     10  ultimate  39.443396  1221.106289  34.944331\n",
       "20     11      surf  32.385159  1065.344034  32.639608\n",
       "21     11  ultimate  38.606299  1232.669166  35.109389\n",
       "22     12      surf  38.600629  1458.158612  38.185843\n",
       "23     12  ultimate  45.006623  1549.419956  39.362672"
      ]
     },
     "metadata": {},
     "output_type": "display_data"
    },
    {
     "data": {
      "image/png": "[encoded data removed]",
      "text/plain": [
       "<Figure size 1200x600 with 1 Axes>"
      ]
     },
     "metadata": {},
     "output_type": "display_data"
    }
   ],
   "source": [
    "# Calcular la media y la varianza de los mensajes.\n",
    "# Calcular la media y varianza solo para la columna \"messages\"\n",
    "merge_mean_var_messages_messages = user_messages_month.groupby(\n",
    "    [\"month\", \"plan\"])[\"messages\"].agg(['mean', 'var', \"std\"]).reset_index()\n",
    "display(merge_mean_var_messages_messages)\n",
    "\n",
    "# Crear la gráfica con bandas de error\n",
    "plt.figure(figsize=(12, 6))\n",
    "\n",
    "for plan, color in zip(merge_mean_var_messages_messages['plan'].unique(), ['orange', 'blue']):\n",
    "    subset = merge_mean_var_messages_messages[merge_mean_var_messages_messages['plan'] == plan]\n",
    "    plt.errorbar(subset['month'], subset['mean'], yerr=subset['std'],\n",
    "                 fmt='-o', label=f'Plan {plan}', color=color)\n",
    "\n",
    "plt.title('Medias y Desviaciones Estándar de mensajes por plan')\n",
    "plt.xlabel('Mes')\n",
    "plt.ylabel('Media')\n",
    "plt.legend()\n",
    "plt.show()"
   ]
  },
  {
   "cell_type": "code",
   "execution_count": 38,
   "metadata": {},
   "outputs": [
    {
     "data": {
      "image/png": "[encoded data removed]",
      "text/plain": [
       "<Figure size 640x480 with 1 Axes>"
      ]
     },
     "metadata": {},
     "output_type": "display_data"
    }
   ],
   "source": [
    "# Traza un diagrama de caja para visualizar la distribución de los mensajes\n",
    "sns.boxplot(x=\"plan\", y=\"messages\", data=merge_per_month_plan[[\n",
    "            \"month\", \"plan\", \"messages\"]],  palette=['blue', 'orange'])\n",
    "plt.title('Distribución de los mensajes por Plan')\n",
    "plt.xlabel('Plan')\n",
    "plt.ylabel('Número de mensajes')\n",
    "plt.show()"
   ]
  },
  {
   "cell_type": "markdown",
   "metadata": {},
   "source": [
    "Se observan ligeras diferencias en el comportamiento de los usuarios con respecto a los mensajes, de acuerdo al plan.\n",
    "\n",
    "En la primera gráfica vemos la comparación de mensajes a lo largo del año, de acuerdo al plan de los usuarios. Observamos un aumento en ambos planes conforme avanza el año, llegando a casi duplicar la cantidad de mensajes en el plan \"surf\" que en el plan \"ultimate\". \n",
    "\n",
    "En el histograma observamos que hay una mayor frecuencia de usuarios que mandan mensajes en el plan \"surf\", al menos tres veces a comparación del plan \"ultimate\". Observamos que ambos planes poseen un comportamiento similar con un sesgo a la derecha.\n",
    "\n",
    "Luego analizamos el promedio y la varianza de los mensajes. Graficamos el promedio y la desviación estandar (sacando la raiz cuadrada de la varianza) y observamos que las desviaciones se sobrelapan entre si. Este es un indicio de que no hay diferencias significativas entre los comportamientos entre ambos planes. Se observó que la media es mayor en el plan \"ultimate\" a comparación del plan \"surf\". \n",
    "\n",
    "En la gráfica de caja y bigotes observamos que ambas cajas son relativamente cortas y solo uno de sus bigotes es largo, indicando una distribución donde la mayoría de los datos se concentran alrededor de los 30 mensajes. Se observan algunos valores extremos. En el plan \"surf\" se observá un mayor sesgo debido a estos últimos.  La caja del plan \"ultimate\" muestra un cuartil 3, una mediana y un valor máximo mayor a comparación del plan \"surf\", aunque minimamente, considerando que el plan tiene como base 1000 mensajes que pueden usar los usuarios. A comparación, la caja de los mensajes del plan \"surf, ni siquiera sobrepasa los 50 que se tienen de manera estándar en el plan."
   ]
  },
  {
   "cell_type": "markdown",
   "metadata": {
    "id": "42YSypXz0q1M"
   },
   "source": [
    "### Internet"
   ]
  },
  {
   "cell_type": "code",
   "execution_count": 39,
   "metadata": {
    "id": "lSuKPtjh0q1M"
   },
   "outputs": [
    {
     "data": {
      "text/html": [
       "<div>\n",
       "<style scoped>\n",
       "    .dataframe tbody tr th:only-of-type {\n",
       "        vertical-align: middle;\n",
       "    }\n",
       "\n",
       "    .dataframe tbody tr th {\n",
       "        vertical-align: top;\n",
       "    }\n",
       "\n",
       "    .dataframe thead th {\n",
       "        text-align: right;\n",
       "    }\n",
       "</style>\n",
       "<table border=\"1\" class=\"dataframe\">\n",
       "  <thead>\n",
       "    <tr style=\"text-align: right;\">\n",
       "      <th></th>\n",
       "      <th>ultimate</th>\n",
       "      <th>surf</th>\n",
       "    </tr>\n",
       "    <tr>\n",
       "      <th>month</th>\n",
       "      <th></th>\n",
       "      <th></th>\n",
       "    </tr>\n",
       "  </thead>\n",
       "  <tbody>\n",
       "    <tr>\n",
       "      <th>1</th>\n",
       "      <td>29</td>\n",
       "      <td>10</td>\n",
       "    </tr>\n",
       "    <tr>\n",
       "      <th>2</th>\n",
       "      <td>121</td>\n",
       "      <td>110</td>\n",
       "    </tr>\n",
       "    <tr>\n",
       "      <th>3</th>\n",
       "      <td>221</td>\n",
       "      <td>312</td>\n",
       "    </tr>\n",
       "    <tr>\n",
       "      <th>4</th>\n",
       "      <td>343</td>\n",
       "      <td>611</td>\n",
       "    </tr>\n",
       "    <tr>\n",
       "      <th>5</th>\n",
       "      <td>489</td>\n",
       "      <td>1087</td>\n",
       "    </tr>\n",
       "    <tr>\n",
       "      <th>6</th>\n",
       "      <td>725</td>\n",
       "      <td>1502</td>\n",
       "    </tr>\n",
       "    <tr>\n",
       "      <th>7</th>\n",
       "      <td>973</td>\n",
       "      <td>2042</td>\n",
       "    </tr>\n",
       "    <tr>\n",
       "      <th>8</th>\n",
       "      <td>1267</td>\n",
       "      <td>2735</td>\n",
       "    </tr>\n",
       "    <tr>\n",
       "      <th>9</th>\n",
       "      <td>1463</td>\n",
       "      <td>3238</td>\n",
       "    </tr>\n",
       "    <tr>\n",
       "      <th>10</th>\n",
       "      <td>1878</td>\n",
       "      <td>4126</td>\n",
       "    </tr>\n",
       "    <tr>\n",
       "      <th>11</th>\n",
       "      <td>2174</td>\n",
       "      <td>4650</td>\n",
       "    </tr>\n",
       "    <tr>\n",
       "      <th>12</th>\n",
       "      <td>2778</td>\n",
       "      <td>5800</td>\n",
       "    </tr>\n",
       "  </tbody>\n",
       "</table>\n",
       "</div>"
      ],
      "text/plain": [
       "       ultimate  surf\n",
       "month                \n",
       "1            29    10\n",
       "2           121   110\n",
       "3           221   312\n",
       "4           343   611\n",
       "5           489  1087\n",
       "6           725  1502\n",
       "7           973  2042\n",
       "8          1267  2735\n",
       "9          1463  3238\n",
       "10         1878  4126\n",
       "11         2174  4650\n",
       "12         2778  5800"
      ]
     },
     "metadata": {},
     "output_type": "display_data"
    },
    {
     "data": {
      "image/png": "[encoded data removed]",
      "text/plain": [
       "<Figure size 1500x600 with 1 Axes>"
      ]
     },
     "metadata": {},
     "output_type": "display_data"
    }
   ],
   "source": [
    "# Comparar el número de mensajes que tienden a enviar cada mes los usuarios de cada plan\n",
    "\n",
    "# Primero usando el dataframe de merge_per_month_plan separamos los datos en dos dataframes de acuerdo al plan,\n",
    "# con las columnas que nos interesan.\n",
    "internet_ultimate = merge_per_month_plan[(\n",
    "    merge_per_month_plan[\"plan\"] == \"ultimate\")][[\"month\", \"gb\"]]\n",
    "internet_surf = merge_per_month_plan[(\n",
    "    merge_per_month_plan[\"plan\"] == \"surf\")][[\"month\", \"gb\"]]\n",
    "\n",
    "# Tercero, agrupamos los datos para obtener los  de mensajes por mes.\n",
    "internet_ultimate = internet_ultimate.groupby(\"month\")[\"gb\"].sum()\n",
    "internet_surf = internet_surf.groupby(\"month\")[\"gb\"].sum()\n",
    "\n",
    "# Cuarto, concatenamos.\n",
    "internet_concat = pd.concat([internet_ultimate, internet_surf], axis=1)\n",
    "internet_concat.columns = [\"ultimate\", \"surf\"]\n",
    "display(internet_concat)\n",
    "\n",
    "# Quinto, mostramos la gráfica.\n",
    "internet_concat.plot(kind='bar',\n",
    "                     title='Diferencia entre GB usados por cada plan',\n",
    "                     xlabel='Mes',\n",
    "                     ylabel='GB',\n",
    "                     figsize=[15, 6])\n",
    "plt.legend(['ultimate', 'surf'])\n",
    "plt.show()"
   ]
  },
  {
   "cell_type": "code",
   "execution_count": 40,
   "metadata": {
    "id": "wnh8jYXi0q1N"
   },
   "outputs": [
    {
     "data": {
      "image/png": "[encoded data removed]",
      "text/plain": [
       "<Figure size 640x480 with 1 Axes>"
      ]
     },
     "metadata": {},
     "output_type": "display_data"
    }
   ],
   "source": [
    "# Comparar la cantidad de tráfico de Internet consumido mensual por plan\n",
    "# Primero usando el dataframe de merge_per_month_plan separamos los datos en un nuevo dataframe de acuerdo al plan,\n",
    "# con las columnas que nos interesan.\n",
    "user_mmb_month = merge_per_month_plan[[\"month\", \"gb\", \"plan\"]]\n",
    "\n",
    "# Segundo, mostrar el gráfico del plan ultimate y surf\n",
    "user_mmb_month[user_mmb_month[\"plan\"] == \"ultimate\"][\"gb\"].plot(kind='hist', )\n",
    "user_mmb_month[user_mmb_month[\"plan\"] ==\n",
    "               \"surf\"][\"gb\"].plot(kind='hist', alpha=0.5)\n",
    "\n",
    "# Tercero, mostrar el gráfico.\n",
    "plt.legend(['ultimate', 'surf'])\n",
    "plt.title('Comparación de GB mensuales por plan')\n",
    "plt.xlabel('GB mensuales')\n",
    "plt.ylabel('Frecuencia')\n",
    "plt.show()"
   ]
  },
  {
   "cell_type": "code",
   "execution_count": 41,
   "metadata": {
    "id": "5VlyJ9ry0q1N"
   },
   "outputs": [
    {
     "data": {
      "text/html": [
       "<div>\n",
       "<style scoped>\n",
       "    .dataframe tbody tr th:only-of-type {\n",
       "        vertical-align: middle;\n",
       "    }\n",
       "\n",
       "    .dataframe tbody tr th {\n",
       "        vertical-align: top;\n",
       "    }\n",
       "\n",
       "    .dataframe thead th {\n",
       "        text-align: right;\n",
       "    }\n",
       "</style>\n",
       "<table border=\"1\" class=\"dataframe\">\n",
       "  <thead>\n",
       "    <tr style=\"text-align: right;\">\n",
       "      <th></th>\n",
       "      <th>month</th>\n",
       "      <th>plan</th>\n",
       "      <th>mean</th>\n",
       "      <th>var</th>\n",
       "      <th>std</th>\n",
       "    </tr>\n",
       "  </thead>\n",
       "  <tbody>\n",
       "    <tr>\n",
       "      <th>0</th>\n",
       "      <td>1</td>\n",
       "      <td>surf</td>\n",
       "      <td>5.000000</td>\n",
       "      <td>18.000000</td>\n",
       "      <td>4.242641</td>\n",
       "    </tr>\n",
       "    <tr>\n",
       "      <th>1</th>\n",
       "      <td>1</td>\n",
       "      <td>ultimate</td>\n",
       "      <td>7.250000</td>\n",
       "      <td>14.916667</td>\n",
       "      <td>3.862210</td>\n",
       "    </tr>\n",
       "    <tr>\n",
       "      <th>2</th>\n",
       "      <td>2</td>\n",
       "      <td>surf</td>\n",
       "      <td>12.222222</td>\n",
       "      <td>41.444444</td>\n",
       "      <td>6.437736</td>\n",
       "    </tr>\n",
       "    <tr>\n",
       "      <th>3</th>\n",
       "      <td>2</td>\n",
       "      <td>ultimate</td>\n",
       "      <td>17.285714</td>\n",
       "      <td>37.904762</td>\n",
       "      <td>6.156684</td>\n",
       "    </tr>\n",
       "    <tr>\n",
       "      <th>4</th>\n",
       "      <td>3</td>\n",
       "      <td>surf</td>\n",
       "      <td>13.565217</td>\n",
       "      <td>63.984190</td>\n",
       "      <td>7.999012</td>\n",
       "    </tr>\n",
       "    <tr>\n",
       "      <th>5</th>\n",
       "      <td>3</td>\n",
       "      <td>ultimate</td>\n",
       "      <td>18.416667</td>\n",
       "      <td>138.628788</td>\n",
       "      <td>11.774073</td>\n",
       "    </tr>\n",
       "    <tr>\n",
       "      <th>6</th>\n",
       "      <td>4</td>\n",
       "      <td>surf</td>\n",
       "      <td>12.220000</td>\n",
       "      <td>56.215918</td>\n",
       "      <td>7.497728</td>\n",
       "    </tr>\n",
       "    <tr>\n",
       "      <th>7</th>\n",
       "      <td>4</td>\n",
       "      <td>ultimate</td>\n",
       "      <td>16.333333</td>\n",
       "      <td>85.833333</td>\n",
       "      <td>9.264628</td>\n",
       "    </tr>\n",
       "    <tr>\n",
       "      <th>8</th>\n",
       "      <td>5</td>\n",
       "      <td>surf</td>\n",
       "      <td>14.116883</td>\n",
       "      <td>58.183527</td>\n",
       "      <td>7.627813</td>\n",
       "    </tr>\n",
       "    <tr>\n",
       "      <th>9</th>\n",
       "      <td>5</td>\n",
       "      <td>ultimate</td>\n",
       "      <td>16.862069</td>\n",
       "      <td>54.194581</td>\n",
       "      <td>7.361697</td>\n",
       "    </tr>\n",
       "    <tr>\n",
       "      <th>10</th>\n",
       "      <td>6</td>\n",
       "      <td>surf</td>\n",
       "      <td>15.484536</td>\n",
       "      <td>47.752363</td>\n",
       "      <td>6.910308</td>\n",
       "    </tr>\n",
       "    <tr>\n",
       "      <th>11</th>\n",
       "      <td>6</td>\n",
       "      <td>ultimate</td>\n",
       "      <td>15.425532</td>\n",
       "      <td>68.858464</td>\n",
       "      <td>8.298100</td>\n",
       "    </tr>\n",
       "    <tr>\n",
       "      <th>12</th>\n",
       "      <td>7</td>\n",
       "      <td>surf</td>\n",
       "      <td>16.876033</td>\n",
       "      <td>61.476171</td>\n",
       "      <td>7.840674</td>\n",
       "    </tr>\n",
       "    <tr>\n",
       "      <th>13</th>\n",
       "      <td>7</td>\n",
       "      <td>ultimate</td>\n",
       "      <td>16.491525</td>\n",
       "      <td>64.254237</td>\n",
       "      <td>8.015874</td>\n",
       "    </tr>\n",
       "    <tr>\n",
       "      <th>14</th>\n",
       "      <td>8</td>\n",
       "      <td>surf</td>\n",
       "      <td>16.882716</td>\n",
       "      <td>71.420942</td>\n",
       "      <td>8.451091</td>\n",
       "    </tr>\n",
       "    <tr>\n",
       "      <th>15</th>\n",
       "      <td>8</td>\n",
       "      <td>ultimate</td>\n",
       "      <td>17.845070</td>\n",
       "      <td>58.047082</td>\n",
       "      <td>7.618864</td>\n",
       "    </tr>\n",
       "    <tr>\n",
       "      <th>16</th>\n",
       "      <td>9</td>\n",
       "      <td>surf</td>\n",
       "      <td>16.690722</td>\n",
       "      <td>49.240639</td>\n",
       "      <td>7.017167</td>\n",
       "    </tr>\n",
       "    <tr>\n",
       "      <th>17</th>\n",
       "      <td>9</td>\n",
       "      <td>ultimate</td>\n",
       "      <td>17.011628</td>\n",
       "      <td>47.258687</td>\n",
       "      <td>6.874495</td>\n",
       "    </tr>\n",
       "    <tr>\n",
       "      <th>18</th>\n",
       "      <td>10</td>\n",
       "      <td>surf</td>\n",
       "      <td>17.409283</td>\n",
       "      <td>60.725846</td>\n",
       "      <td>7.792679</td>\n",
       "    </tr>\n",
       "    <tr>\n",
       "      <th>19</th>\n",
       "      <td>10</td>\n",
       "      <td>ultimate</td>\n",
       "      <td>17.716981</td>\n",
       "      <td>54.604852</td>\n",
       "      <td>7.389510</td>\n",
       "    </tr>\n",
       "    <tr>\n",
       "      <th>20</th>\n",
       "      <td>11</td>\n",
       "      <td>surf</td>\n",
       "      <td>16.431095</td>\n",
       "      <td>54.607824</td>\n",
       "      <td>7.389711</td>\n",
       "    </tr>\n",
       "    <tr>\n",
       "      <th>21</th>\n",
       "      <td>11</td>\n",
       "      <td>ultimate</td>\n",
       "      <td>17.118110</td>\n",
       "      <td>54.390701</td>\n",
       "      <td>7.375005</td>\n",
       "    </tr>\n",
       "    <tr>\n",
       "      <th>22</th>\n",
       "      <td>12</td>\n",
       "      <td>surf</td>\n",
       "      <td>18.238994</td>\n",
       "      <td>69.210841</td>\n",
       "      <td>8.319305</td>\n",
       "    </tr>\n",
       "    <tr>\n",
       "      <th>23</th>\n",
       "      <td>12</td>\n",
       "      <td>ultimate</td>\n",
       "      <td>18.397351</td>\n",
       "      <td>58.841060</td>\n",
       "      <td>7.670793</td>\n",
       "    </tr>\n",
       "  </tbody>\n",
       "</table>\n",
       "</div>"
      ],
      "text/plain": [
       "    month      plan       mean         var        std\n",
       "0       1      surf   5.000000   18.000000   4.242641\n",
       "1       1  ultimate   7.250000   14.916667   3.862210\n",
       "2       2      surf  12.222222   41.444444   6.437736\n",
       "3       2  ultimate  17.285714   37.904762   6.156684\n",
       "4       3      surf  13.565217   63.984190   7.999012\n",
       "5       3  ultimate  18.416667  138.628788  11.774073\n",
       "6       4      surf  12.220000   56.215918   7.497728\n",
       "7       4  ultimate  16.333333   85.833333   9.264628\n",
       "8       5      surf  14.116883   58.183527   7.627813\n",
       "9       5  ultimate  16.862069   54.194581   7.361697\n",
       "10      6      surf  15.484536   47.752363   6.910308\n",
       "11      6  ultimate  15.425532   68.858464   8.298100\n",
       "12      7      surf  16.876033   61.476171   7.840674\n",
       "13      7  ultimate  16.491525   64.254237   8.015874\n",
       "14      8      surf  16.882716   71.420942   8.451091\n",
       "15      8  ultimate  17.845070   58.047082   7.618864\n",
       "16      9      surf  16.690722   49.240639   7.017167\n",
       "17      9  ultimate  17.011628   47.258687   6.874495\n",
       "18     10      surf  17.409283   60.725846   7.792679\n",
       "19     10  ultimate  17.716981   54.604852   7.389510\n",
       "20     11      surf  16.431095   54.607824   7.389711\n",
       "21     11  ultimate  17.118110   54.390701   7.375005\n",
       "22     12      surf  18.238994   69.210841   8.319305\n",
       "23     12  ultimate  18.397351   58.841060   7.670793"
      ]
     },
     "metadata": {},
     "output_type": "display_data"
    },
    {
     "data": {
      "image/png": "[encoded data removed]",
      "text/plain": [
       "<Figure size 1200x600 with 1 Axes>"
      ]
     },
     "metadata": {},
     "output_type": "display_data"
    }
   ],
   "source": [
    "# Calcular la media y la varianza de los GB.\n",
    "# Calcular la media y varianza solo para la columna \"gb\"\n",
    "merge_mean_var_mb = user_mmb_month.groupby([\"month\", \"plan\"])[\"gb\"].agg([\n",
    "    'mean', 'var', \"std\"]).reset_index()\n",
    "display(merge_mean_var_mb)\n",
    "\n",
    "# Crear la gráfica con bandas de error\n",
    "plt.figure(figsize=(12, 6))\n",
    "\n",
    "for plan, color in zip(merge_mean_var_mb['plan'].unique(), ['orange', 'blue']):\n",
    "    subset = merge_mean_var_mb[merge_mean_var_mb['plan'] == plan]\n",
    "    plt.errorbar(subset['month'], subset['mean'], yerr=subset['std'],\n",
    "                 fmt='-o', label=f'Plan {plan}', color=color)\n",
    "\n",
    "plt.title('Medias y Desviaciones Estándar de GB por plan')\n",
    "plt.xlabel('Mes')\n",
    "plt.ylabel('Media')\n",
    "plt.legend()\n",
    "plt.show()"
   ]
  },
  {
   "cell_type": "code",
   "execution_count": 42,
   "metadata": {},
   "outputs": [
    {
     "data": {
      "image/png": "[encoded data removed]",
      "text/plain": [
       "<Figure size 640x480 with 1 Axes>"
      ]
     },
     "metadata": {},
     "output_type": "display_data"
    }
   ],
   "source": [
    "# Traza un diagrama de caja para visualizar la distribución de los GB\n",
    "sns.boxplot(x=\"plan\", y=\"gb\", data=merge_per_month_plan[[\n",
    "            \"month\", \"plan\", \"gb\"]],  palette=['blue', 'orange'])\n",
    "plt.title('Distribución de los GB por Plan')\n",
    "plt.xlabel('Plan')\n",
    "plt.ylabel('Número de mensajes')\n",
    "plt.show()"
   ]
  },
  {
   "cell_type": "markdown",
   "metadata": {
    "id": "UN9zwuMP0q1N"
   },
   "source": [
    "Se observan ligeras diferencias en el comportamiento de los usuarios con respecto a los GB, de acuerdo al plan. \n",
    "\n",
    "En la primera gráfica vemos la comparación de los GB usados a lo largo del año, de acuerdo al plan de los usuarios. Observamos un aumento en ambos planes conforme avanza el año, llegando a casi duplicar la cantidad de GB en el plan \"surf\" que en el plan \"ultimate\". \n",
    "\n",
    "En el histograma observamos que hay una mayor cantidad de GB usados mensuales en el plan \"surf, aproximadamente tres veces a comparación del plan \"ultimate\". Observamos que ambos planes poseen unn comportamiento similar con un ligero sesgo a la derecha. \n",
    "\n",
    "Luego analizamos el promedio y la varianza los GB usados por plan. Graficamos el promedio y la desviación estandar (sacando la raiz cuadrada de la varianza) y observamos que las desviaciones se sobrelapan entre si. Este es un indicio de que no hay diferencias significativas entre los comportamientos entre ambos planes. Se observó que la media es mayor en el plan \"ultimate\" a comparación del plan \"surf\", hasta la mitad del año. Luego observamos que ambos poseen un promedio y desviación estándar similar. \n",
    "\n",
    "En la gráfica de caja y bigotes observamos que ambas cajas son relativamente cortas y con ambos  bigotes es largos, indicando una distribución donde la mayoría de los datos se concentran alrededor de los 15-20 gigabytes. Se observan algunos valores extremos en ambos planes. En el plan \"surf\" se observá un mayor sesgo debido a estos últimos, con una mayor cantidad de valores extremos. "
   ]
  },
  {
   "cell_type": "markdown",
   "metadata": {
    "id": "tCijq3260q1N"
   },
   "source": [
    "## Ingreso"
   ]
  },
  {
   "cell_type": "code",
   "execution_count": 43,
   "metadata": {
    "id": "tz-dq_V00q1O"
   },
   "outputs": [
    {
     "data": {
      "text/html": [
       "<div>\n",
       "<style scoped>\n",
       "    .dataframe tbody tr th:only-of-type {\n",
       "        vertical-align: middle;\n",
       "    }\n",
       "\n",
       "    .dataframe tbody tr th {\n",
       "        vertical-align: top;\n",
       "    }\n",
       "\n",
       "    .dataframe thead th {\n",
       "        text-align: right;\n",
       "    }\n",
       "</style>\n",
       "<table border=\"1\" class=\"dataframe\">\n",
       "  <thead>\n",
       "    <tr style=\"text-align: right;\">\n",
       "      <th></th>\n",
       "      <th>ultimate</th>\n",
       "      <th>surf</th>\n",
       "    </tr>\n",
       "    <tr>\n",
       "      <th>month</th>\n",
       "      <th></th>\n",
       "      <th></th>\n",
       "    </tr>\n",
       "  </thead>\n",
       "  <tbody>\n",
       "    <tr>\n",
       "      <th>1</th>\n",
       "      <td>280.0</td>\n",
       "      <td>40.00</td>\n",
       "    </tr>\n",
       "    <tr>\n",
       "      <th>2</th>\n",
       "      <td>490.0</td>\n",
       "      <td>309.57</td>\n",
       "    </tr>\n",
       "    <tr>\n",
       "      <th>3</th>\n",
       "      <td>896.0</td>\n",
       "      <td>1056.65</td>\n",
       "    </tr>\n",
       "    <tr>\n",
       "      <th>4</th>\n",
       "      <td>1533.0</td>\n",
       "      <td>2035.53</td>\n",
       "    </tr>\n",
       "    <tr>\n",
       "      <th>5</th>\n",
       "      <td>2051.0</td>\n",
       "      <td>3667.37</td>\n",
       "    </tr>\n",
       "    <tr>\n",
       "      <th>6</th>\n",
       "      <td>3367.0</td>\n",
       "      <td>4779.80</td>\n",
       "    </tr>\n",
       "    <tr>\n",
       "      <th>7</th>\n",
       "      <td>4242.0</td>\n",
       "      <td>7583.56</td>\n",
       "    </tr>\n",
       "    <tr>\n",
       "      <th>8</th>\n",
       "      <td>5173.0</td>\n",
       "      <td>10356.85</td>\n",
       "    </tr>\n",
       "    <tr>\n",
       "      <th>9</th>\n",
       "      <td>6195.0</td>\n",
       "      <td>11304.67</td>\n",
       "    </tr>\n",
       "    <tr>\n",
       "      <th>10</th>\n",
       "      <td>7665.0</td>\n",
       "      <td>15504.83</td>\n",
       "    </tr>\n",
       "    <tr>\n",
       "      <th>11</th>\n",
       "      <td>9107.0</td>\n",
       "      <td>16415.21</td>\n",
       "    </tr>\n",
       "    <tr>\n",
       "      <th>12</th>\n",
       "      <td>11067.0</td>\n",
       "      <td>22437.14</td>\n",
       "    </tr>\n",
       "  </tbody>\n",
       "</table>\n",
       "</div>"
      ],
      "text/plain": [
       "       ultimate      surf\n",
       "month                    \n",
       "1         280.0     40.00\n",
       "2         490.0    309.57\n",
       "3         896.0   1056.65\n",
       "4        1533.0   2035.53\n",
       "5        2051.0   3667.37\n",
       "6        3367.0   4779.80\n",
       "7        4242.0   7583.56\n",
       "8        5173.0  10356.85\n",
       "9        6195.0  11304.67\n",
       "10       7665.0  15504.83\n",
       "11       9107.0  16415.21\n",
       "12      11067.0  22437.14"
      ]
     },
     "metadata": {},
     "output_type": "display_data"
    },
    {
     "data": {
      "image/png": "[encoded data removed]",
      "text/plain": [
       "<Figure size 1500x600 with 1 Axes>"
      ]
     },
     "metadata": {},
     "output_type": "display_data"
    }
   ],
   "source": [
    "# Comparar los ingresos de los usuarios de cada plan\n",
    "\n",
    "# Primero usando el dataframe de merge_per_month_plan separamos los datos en dos dataframes de acuerdo al plan,\n",
    "# con las columnas que nos interesan.\n",
    "income_ultimate = merge_per_month_plan[(\n",
    "    merge_per_month_plan[\"plan\"] == \"ultimate\")][[\"month\", \"user_income\"]]\n",
    "income_surf = merge_per_month_plan[(merge_per_month_plan[\"plan\"] == \"surf\")][[\n",
    "    \"month\", \"user_income\"]]\n",
    "\n",
    "# Tercero, agrupamos los datos para obtener los ingresos por mes.\n",
    "income_ultimate = income_ultimate.groupby(\"month\")[\"user_income\"].sum()\n",
    "income_surf = income_surf.groupby(\"month\")[\"user_income\"].sum()\n",
    "\n",
    "# Cuarto, concatenamos.\n",
    "income_concat = pd.concat([income_ultimate, income_surf], axis=1)\n",
    "income_concat.columns = [\"ultimate\", \"surf\"]\n",
    "display(income_concat)\n",
    "\n",
    "# Quinto, mostramos la gráfica.\n",
    "income_concat.plot(kind='bar',\n",
    "                   title='Diferencia de ingresos por cada plan',\n",
    "                   xlabel='Mes',\n",
    "                   ylabel='Usd',\n",
    "                   figsize=[15, 6])\n",
    "plt.legend(['ultimate', 'surf'])\n",
    "plt.show()"
   ]
  },
  {
   "cell_type": "code",
   "execution_count": 44,
   "metadata": {
    "id": "0Y1v8ZUz0q1P"
   },
   "outputs": [
    {
     "data": {
      "image/png": "[encoded data removed]",
      "text/plain": [
       "<Figure size 640x480 with 1 Axes>"
      ]
     },
     "metadata": {},
     "output_type": "display_data"
    }
   ],
   "source": [
    "# Comparar la cantidad ingresos mensuales por plan\n",
    "\n",
    "# Primero usando el dataframe de merge_per_month_plan separamos los datos en un nuevo dataframe de acuerdo al plan,\n",
    "# con las columnas que nos interesan.\n",
    "user_usd_month = merge_per_month_plan[[\"month\", \"user_income\", \"plan\"]]\n",
    "\n",
    "# Segundo, mostrar el gráfico del plan surf y ultimate\n",
    "user_usd_month[user_usd_month[\"plan\"] ==\n",
    "               \"ultimate\"][\"user_income\"].plot(kind='hist')\n",
    "user_usd_month[user_usd_month[\"plan\"] ==\n",
    "               \"surf\"][\"user_income\"].plot(kind='hist', alpha=0.6)\n",
    "\n",
    "# Tercero,  mostrar el gráfico\n",
    "plt.legend(['ultimate', 'surf'])\n",
    "plt.title('Comparación de ingresos mensuales por plan')\n",
    "plt.xlabel('Ingresos mensuales')\n",
    "plt.ylabel('Frecuencia')\n",
    "plt.show()"
   ]
  },
  {
   "cell_type": "code",
   "execution_count": 45,
   "metadata": {
    "id": "bYmwxyVh0q1P"
   },
   "outputs": [
    {
     "data": {
      "text/html": [
       "<div>\n",
       "<style scoped>\n",
       "    .dataframe tbody tr th:only-of-type {\n",
       "        vertical-align: middle;\n",
       "    }\n",
       "\n",
       "    .dataframe tbody tr th {\n",
       "        vertical-align: top;\n",
       "    }\n",
       "\n",
       "    .dataframe thead th {\n",
       "        text-align: right;\n",
       "    }\n",
       "</style>\n",
       "<table border=\"1\" class=\"dataframe\">\n",
       "  <thead>\n",
       "    <tr style=\"text-align: right;\">\n",
       "      <th></th>\n",
       "      <th>month</th>\n",
       "      <th>plan</th>\n",
       "      <th>mean</th>\n",
       "      <th>var</th>\n",
       "      <th>std</th>\n",
       "    </tr>\n",
       "  </thead>\n",
       "  <tbody>\n",
       "    <tr>\n",
       "      <th>0</th>\n",
       "      <td>1</td>\n",
       "      <td>surf</td>\n",
       "      <td>20.000000</td>\n",
       "      <td>0.000000</td>\n",
       "      <td>0.000000</td>\n",
       "    </tr>\n",
       "    <tr>\n",
       "      <th>1</th>\n",
       "      <td>1</td>\n",
       "      <td>ultimate</td>\n",
       "      <td>70.000000</td>\n",
       "      <td>0.000000</td>\n",
       "      <td>0.000000</td>\n",
       "    </tr>\n",
       "    <tr>\n",
       "      <th>2</th>\n",
       "      <td>2</td>\n",
       "      <td>surf</td>\n",
       "      <td>34.396667</td>\n",
       "      <td>428.276100</td>\n",
       "      <td>20.694833</td>\n",
       "    </tr>\n",
       "    <tr>\n",
       "      <th>3</th>\n",
       "      <td>2</td>\n",
       "      <td>ultimate</td>\n",
       "      <td>70.000000</td>\n",
       "      <td>0.000000</td>\n",
       "      <td>0.000000</td>\n",
       "    </tr>\n",
       "    <tr>\n",
       "      <th>4</th>\n",
       "      <td>3</td>\n",
       "      <td>surf</td>\n",
       "      <td>45.941304</td>\n",
       "      <td>1512.023512</td>\n",
       "      <td>38.884747</td>\n",
       "    </tr>\n",
       "    <tr>\n",
       "      <th>5</th>\n",
       "      <td>3</td>\n",
       "      <td>ultimate</td>\n",
       "      <td>74.666667</td>\n",
       "      <td>145.515152</td>\n",
       "      <td>12.062966</td>\n",
       "    </tr>\n",
       "    <tr>\n",
       "      <th>6</th>\n",
       "      <td>4</td>\n",
       "      <td>surf</td>\n",
       "      <td>40.710600</td>\n",
       "      <td>1198.958402</td>\n",
       "      <td>34.625979</td>\n",
       "    </tr>\n",
       "    <tr>\n",
       "      <th>7</th>\n",
       "      <td>4</td>\n",
       "      <td>ultimate</td>\n",
       "      <td>73.000000</td>\n",
       "      <td>120.400000</td>\n",
       "      <td>10.972693</td>\n",
       "    </tr>\n",
       "    <tr>\n",
       "      <th>8</th>\n",
       "      <td>5</td>\n",
       "      <td>surf</td>\n",
       "      <td>47.628182</td>\n",
       "      <td>1967.540055</td>\n",
       "      <td>44.356962</td>\n",
       "    </tr>\n",
       "    <tr>\n",
       "      <th>9</th>\n",
       "      <td>5</td>\n",
       "      <td>ultimate</td>\n",
       "      <td>70.724138</td>\n",
       "      <td>15.206897</td>\n",
       "      <td>3.899602</td>\n",
       "    </tr>\n",
       "    <tr>\n",
       "      <th>10</th>\n",
       "      <td>6</td>\n",
       "      <td>surf</td>\n",
       "      <td>49.276289</td>\n",
       "      <td>1988.914046</td>\n",
       "      <td>44.597243</td>\n",
       "    </tr>\n",
       "    <tr>\n",
       "      <th>11</th>\n",
       "      <td>6</td>\n",
       "      <td>ultimate</td>\n",
       "      <td>71.638298</td>\n",
       "      <td>75.018501</td>\n",
       "      <td>8.661322</td>\n",
       "    </tr>\n",
       "    <tr>\n",
       "      <th>12</th>\n",
       "      <td>7</td>\n",
       "      <td>surf</td>\n",
       "      <td>62.674050</td>\n",
       "      <td>2943.388409</td>\n",
       "      <td>54.253004</td>\n",
       "    </tr>\n",
       "    <tr>\n",
       "      <th>13</th>\n",
       "      <td>7</td>\n",
       "      <td>ultimate</td>\n",
       "      <td>71.898305</td>\n",
       "      <td>104.472238</td>\n",
       "      <td>10.221166</td>\n",
       "    </tr>\n",
       "    <tr>\n",
       "      <th>14</th>\n",
       "      <td>8</td>\n",
       "      <td>surf</td>\n",
       "      <td>63.931173</td>\n",
       "      <td>3587.494901</td>\n",
       "      <td>59.895700</td>\n",
       "    </tr>\n",
       "    <tr>\n",
       "      <th>15</th>\n",
       "      <td>8</td>\n",
       "      <td>ultimate</td>\n",
       "      <td>72.859155</td>\n",
       "      <td>154.808451</td>\n",
       "      <td>12.442204</td>\n",
       "    </tr>\n",
       "    <tr>\n",
       "      <th>16</th>\n",
       "      <td>9</td>\n",
       "      <td>surf</td>\n",
       "      <td>58.271495</td>\n",
       "      <td>2260.644980</td>\n",
       "      <td>47.546240</td>\n",
       "    </tr>\n",
       "    <tr>\n",
       "      <th>17</th>\n",
       "      <td>9</td>\n",
       "      <td>ultimate</td>\n",
       "      <td>72.034884</td>\n",
       "      <td>75.939945</td>\n",
       "      <td>8.714353</td>\n",
       "    </tr>\n",
       "    <tr>\n",
       "      <th>18</th>\n",
       "      <td>10</td>\n",
       "      <td>surf</td>\n",
       "      <td>65.421224</td>\n",
       "      <td>3198.242612</td>\n",
       "      <td>56.553007</td>\n",
       "    </tr>\n",
       "    <tr>\n",
       "      <th>19</th>\n",
       "      <td>10</td>\n",
       "      <td>ultimate</td>\n",
       "      <td>72.311321</td>\n",
       "      <td>169.606918</td>\n",
       "      <td>13.023322</td>\n",
       "    </tr>\n",
       "    <tr>\n",
       "      <th>20</th>\n",
       "      <td>11</td>\n",
       "      <td>surf</td>\n",
       "      <td>58.004276</td>\n",
       "      <td>2494.182230</td>\n",
       "      <td>49.941788</td>\n",
       "    </tr>\n",
       "    <tr>\n",
       "      <th>21</th>\n",
       "      <td>11</td>\n",
       "      <td>ultimate</td>\n",
       "      <td>71.708661</td>\n",
       "      <td>94.668416</td>\n",
       "      <td>9.729770</td>\n",
       "    </tr>\n",
       "    <tr>\n",
       "      <th>22</th>\n",
       "      <td>12</td>\n",
       "      <td>surf</td>\n",
       "      <td>70.557044</td>\n",
       "      <td>4604.410868</td>\n",
       "      <td>67.855809</td>\n",
       "    </tr>\n",
       "    <tr>\n",
       "      <th>23</th>\n",
       "      <td>12</td>\n",
       "      <td>ultimate</td>\n",
       "      <td>73.291391</td>\n",
       "      <td>212.861192</td>\n",
       "      <td>14.589763</td>\n",
       "    </tr>\n",
       "  </tbody>\n",
       "</table>\n",
       "</div>"
      ],
      "text/plain": [
       "    month      plan       mean          var        std\n",
       "0       1      surf  20.000000     0.000000   0.000000\n",
       "1       1  ultimate  70.000000     0.000000   0.000000\n",
       "2       2      surf  34.396667   428.276100  20.694833\n",
       "3       2  ultimate  70.000000     0.000000   0.000000\n",
       "4       3      surf  45.941304  1512.023512  38.884747\n",
       "5       3  ultimate  74.666667   145.515152  12.062966\n",
       "6       4      surf  40.710600  1198.958402  34.625979\n",
       "7       4  ultimate  73.000000   120.400000  10.972693\n",
       "8       5      surf  47.628182  1967.540055  44.356962\n",
       "9       5  ultimate  70.724138    15.206897   3.899602\n",
       "10      6      surf  49.276289  1988.914046  44.597243\n",
       "11      6  ultimate  71.638298    75.018501   8.661322\n",
       "12      7      surf  62.674050  2943.388409  54.253004\n",
       "13      7  ultimate  71.898305   104.472238  10.221166\n",
       "14      8      surf  63.931173  3587.494901  59.895700\n",
       "15      8  ultimate  72.859155   154.808451  12.442204\n",
       "16      9      surf  58.271495  2260.644980  47.546240\n",
       "17      9  ultimate  72.034884    75.939945   8.714353\n",
       "18     10      surf  65.421224  3198.242612  56.553007\n",
       "19     10  ultimate  72.311321   169.606918  13.023322\n",
       "20     11      surf  58.004276  2494.182230  49.941788\n",
       "21     11  ultimate  71.708661    94.668416   9.729770\n",
       "22     12      surf  70.557044  4604.410868  67.855809\n",
       "23     12  ultimate  73.291391   212.861192  14.589763"
      ]
     },
     "metadata": {},
     "output_type": "display_data"
    },
    {
     "data": {
      "image/png": "[encoded data removed]",
      "text/plain": [
       "<Figure size 1200x600 with 1 Axes>"
      ]
     },
     "metadata": {},
     "output_type": "display_data"
    }
   ],
   "source": [
    "# Calcular la media y la varianza de los ingresos.\n",
    "# Calcular la media y varianza solo para la columna \"messages\"\n",
    "mean_var_usd = user_usd_month.groupby([\"month\", \"plan\"])[\"user_income\"].agg([\n",
    "    'mean', 'var', \"std\"]).reset_index()\n",
    "display(mean_var_usd)\n",
    "\n",
    "# Crear la gráfica con bandas de error\n",
    "plt.figure(figsize=(12, 6))\n",
    "\n",
    "for plan, color in zip(mean_var_usd['plan'].unique(), ['orange', 'blue']):\n",
    "    subset = mean_var_usd[mean_var_usd['plan'] == plan]\n",
    "    plt.errorbar(subset['month'], subset['mean'], yerr=subset['std'],\n",
    "                 fmt='-o', label=f'Plan {plan}', color=color)\n",
    "\n",
    "plt.title('Medias y Desviaciones Estándar de ingresos por plan')\n",
    "plt.xlabel('Mes')\n",
    "plt.ylabel('Media')\n",
    "plt.legend()\n",
    "plt.show()"
   ]
  },
  {
   "cell_type": "code",
   "execution_count": 46,
   "metadata": {},
   "outputs": [
    {
     "data": {
      "image/png": "[encoded data removed]",
      "text/plain": [
       "<Figure size 640x480 with 1 Axes>"
      ]
     },
     "metadata": {},
     "output_type": "display_data"
    }
   ],
   "source": [
    "# Traza un diagrama de caja para visualizar la distribución de los ingresos por plan\n",
    "sns.boxplot(x=\"plan\", y=\"user_income\", data=merge_per_month_plan[[\n",
    "            \"month\", \"plan\", \"user_income\"]],  palette=['blue', 'orange'])\n",
    "plt.title('Distribución de los ingresos por Plan')\n",
    "plt.xlabel('Plan')\n",
    "plt.ylabel('Ingresos en usd')\n",
    "plt.show()"
   ]
  },
  {
   "cell_type": "markdown",
   "metadata": {
    "id": "KAFidcXZ0q1P"
   },
   "source": [
    "Se observan ciertas diferencias en los ingresos de acuerdo al plan que usan los usuarios. \n",
    "\n",
    "En la primera gráfica vemos la comparación de ingresos de acuerdo al plan. Conforme avanza el año se observá un aumento en los ingresos por parte de ambos planes. Al inicio el plan \"ultimate\" era más rentable hasta el mes de Marzo. Luego de esto, los ingresos del plan \"surf\" fueron aumentando hasta ser más del doble en Diciembre. \n",
    "\n",
    "En el histograma observamos que hay una mayor porporción de ingresos por parte del plan \"surf\". Los ingresos del plan \"ultimate\" principalmente se encuentran en los 70 dolares base del pago mensual. \n",
    "\n",
    "Luego analizamos el promedio y la varianza los ingresos por plan. Graficamos el promedio y la desviación estandar (sacando la raiz cuadrada de la varianza) y observamos que las desviaciones se sobrelapan entre sí a partir de Marzo. Se analizará con más detalle usando pruebas estadísticas, para verificar si existen diferencias significativas entre los planes. Anteriormente, el plan \"ultimate\" era más rentable. Sin embargo, los mayores ingresos parecen venir del plan \"surf\".\n",
    "\n",
    "En la gráfica de caja y bigotes observamos que hay una marcada diferencia entre los ingresos de ambos planes. La caja de los ingresos del plan \"utimate\" es demasiado corta. No se alcanza a apreciar una diferencia entre cuartiles, valor máximo, valor mínimo y la mediana. Los cuales están alrededor de los 70 dólares que vale el plan \"ultimate\". \n",
    "En la caja del plan \"surf\" observamos una diferencia entre cuartiles y la mediana, que parece encontrarse cercano a los 20 dólares de precio base. Aquí encontramos la mayor cantidad de valores extremos. "
   ]
  },
  {
   "cell_type": "code",
   "execution_count": 47,
   "metadata": {},
   "outputs": [
    {
     "data": {
      "image/png": "[encoded data removed]",
      "text/plain": [
       "<Figure size 1400x600 with 2 Axes>"
      ]
     },
     "metadata": {},
     "output_type": "display_data"
    }
   ],
   "source": [
    "import matplotlib.pyplot as plt\n",
    "\n",
    "\n",
    "def plot_plan_data(ax, plan_data, label, color):\n",
    "    ax.plot(plan_data[\"month\"], plan_data[\"mean\"],\n",
    "            label=label, marker='o', color=color)\n",
    "\n",
    "\n",
    "# Datos\n",
    "# Se transformaron los minutos a horas para mejorar su observación junto con los otros recursos\n",
    "ultimate_min = merge_mean_var_stats_min[merge_mean_var_stats_min[\"plan\"] == \"ultimate\"].copy(\n",
    ")\n",
    "ultimate_min[\"mean\"] = ultimate_min[\"mean\"] / 60\n",
    "surf_min = merge_mean_var_stats_min[merge_mean_var_stats_min[\"plan\"] == \"surf\"].copy(\n",
    ")\n",
    "surf_min[\"mean\"] = surf_min[\"mean\"] / 60\n",
    "\n",
    "# Se usan los GB para mejorar su observación junto con los otros recursos\n",
    "ultimate_mb = merge_mean_var_mb[merge_mean_var_mb[\"plan\"] == \"ultimate\"].copy()\n",
    "# ultimate_mb[\"mean\"] = ultimate_mb[\"mean\"] / 1024\n",
    "surf_mb = merge_mean_var_mb[merge_mean_var_mb[\"plan\"] == \"surf\"].copy()\n",
    "# surf_mb[\"mean\"] = surf_mb[\"mean\"] / 1024\n",
    "\n",
    "ultimate_messages = merge_mean_var_messages_messages[merge_mean_var_messages_messages[\"plan\"] == \"ultimate\"].copy(\n",
    ")\n",
    "surf_messages = merge_mean_var_messages_messages[merge_mean_var_messages_messages[\"plan\"] == \"surf\"].copy(\n",
    ")\n",
    "\n",
    "ultimate_income = mean_var_usd[mean_var_usd[\"plan\"] == \"ultimate\"].copy()\n",
    "surf_income = mean_var_usd[mean_var_usd[\"plan\"] == \"surf\"].copy()\n",
    "\n",
    "# Configurar dos subgráficas\n",
    "fig, axes = plt.subplots(1, 2, figsize=(14, 6))\n",
    "fig.suptitle(\"Evolución del Consumo de los recursos y los ingresos\")\n",
    "\n",
    "# Graficar datos para el plan Surf\n",
    "plot_plan_data(axes[0], surf_min, \"Plan Surf - Horas usados\", \"orange\")\n",
    "plot_plan_data(axes[0], surf_mb, \"Plan Surf - GB usados\", \"brown\")\n",
    "plot_plan_data(axes[0], surf_messages, \"Plan Surf - mensajes enviados\", \"red\")\n",
    "plot_plan_data(axes[0], surf_income, \"Plan Surf - ingresos en usd\", \"yellow\")\n",
    "\n",
    "axes[0].set_xlabel(\"Mes\")\n",
    "axes[0].set_ylabel(\"Consumo\")\n",
    "axes[0].legend()\n",
    "axes[0].grid(True)\n",
    "\n",
    "# Graficar datos para el plan Ultimate\n",
    "plot_plan_data(axes[1], ultimate_min, \"Plan Ultimate - Horas usados\", \"blue\")\n",
    "plot_plan_data(axes[1], ultimate_mb, \"Plan Ultimate - GB usados\", \"green\")\n",
    "plot_plan_data(axes[1], ultimate_messages,\n",
    "               \"Plan Ultimate - mensajes enviados\", \"purple\")\n",
    "plot_plan_data(axes[1], ultimate_income,\n",
    "               \"Plan Ultimate - ingresos en usd\", \"pink\")\n",
    "\n",
    "axes[1].set_xlabel(\"Mes\")\n",
    "axes[1].set_ylabel(\"Consumo\")\n",
    "axes[1].legend()\n",
    "axes[1].grid(True)\n",
    "\n",
    "# Ajustar diseño de las subgráficas\n",
    "plt.tight_layout(rect=[0, 0.03, 1, 0.95])\n",
    "\n",
    "# Mostrar las gráficas\n",
    "plt.show()"
   ]
  },
  {
   "cell_type": "markdown",
   "metadata": {},
   "source": [
    "Se hizo una comparación de los promedios del consumo de mensajes, horas de llamadas, Gigabytes e ingresos de acuerdo al plan usado por los usuarios. Para esto fue necesario convertir los minutos de duración de llamadas a horas. De esta forma podemos observar que la duración de llamadas y los GB's usados se encuentran relativamente uniformes. No parece haber diferencias significativas en la duración de las llamadas en ambos planes. \n",
    "\n",
    "En el caso de los GB usados en el plan Surf a lo largo del año vemos una tendencia a un mayor uso de los mismos, hasta casi igualar el consumo por parte de los usuarios del plan Ultimate. \n",
    "\n",
    "En el caso de los mensajes, en ambos planes vemos una tendencia al aumento del uso de los mismos, con la única diferencia en cuanto a las cantidades usadas. Esto podría estar ligado a el límite de mensajes incluidos en el plan Surf, quienes en promedio no sobrepasan los mensajes mensuales disponibles.\n",
    "\n",
    "Los ingresos por parte del plan Ultimate se mantienen uniformes a lo largo del año, a diferencia de los ingresos del plan Surf, que han crecido más de tres veces a lo largo del año. En promedio aún no alcanzan los ingresos mensuales pertenecientes del plan Ultimate aunque la tendencia parece indicar que los ingresos podrían seguir creciendo en el plan Surf. "
   ]
  },
  {
   "cell_type": "markdown",
   "metadata": {
    "id": "ajJ7VKeI0q1Q"
   },
   "source": [
    "## Prueba las hipótesis estadísticas"
   ]
  },
  {
   "cell_type": "markdown",
   "metadata": {},
   "source": [
    "Se va a analizar si los promedios de los ingresos son iguales entre ambos planes. \n",
    "\n",
    "Primero debemos verificar la similitud estadística de las varianzas de los ingresos de ambos planes, para poder analizar si las medias de los ingresos de ambos planes son iguales. Si hay una diferencia significativa en las varianzas de ambos grupos, en la prueba de t de student tendremos que agregar \"equal_var=False\" para que se considere una Prueba t de Welch.\n",
    "\n",
    "Para esto tenemos dos hipótesis:\n",
    "\n",
    "-Hipótesis nula (H0): No hay diferencia significativa entre las varianzas de los ingresos de ambos planes. \n",
    "\n",
    "-Hipótesis alternativa (H1): Hay una diferencia significativa entre las varianzas de los ingresos de ambos planes."
   ]
  },
  {
   "cell_type": "code",
   "execution_count": 48,
   "metadata": {
    "id": "nFoPNlPq0q1R"
   },
   "outputs": [
    {
     "name": "stdout",
     "output_type": "stream",
     "text": [
      "valor p:  0.00023614333642490865\n",
      "Rechazamos la hipótesis nula\n"
     ]
    }
   ],
   "source": [
    "alpha = 0.05\n",
    "# Guardamos el promedio que será utilizado para la prueba de t de student y la prueba de Levine.\n",
    "income_ultimate_st = mean_var_usd[(\n",
    "    mean_var_usd[\"plan\"] == \"ultimate\")][[\"mean\"]]\n",
    "income_surf_st = mean_var_usd[(mean_var_usd[\"plan\"] == \"surf\")][[\"mean\"]]\n",
    "\n",
    "# hacemos listas de ambos dataframes para la prueba de Levine.\n",
    "income_ultimate_st_lv = income_ultimate_st[\"mean\"].tolist()\n",
    "income_surf_st_lv = income_surf_st[\"mean\"].tolist()\n",
    "\n",
    "# hacemos la prueba de Levine.\n",
    "lv_result = st.levene(income_ultimate_st_lv, income_surf_st_lv)\n",
    "\n",
    "# extraemos el valor p\n",
    "print('valor p: ', lv_result.pvalue)\n",
    "\n",
    "# comparamos el valor p con el umbral\n",
    "if lv_result.pvalue < alpha:\n",
    "    print(\"Rechazamos la hipótesis nula\")\n",
    "else:\n",
    "    print(\"No podemos rechazar la hipótesis nula\")"
   ]
  },
  {
   "cell_type": "markdown",
   "metadata": {},
   "source": [
    "Rechazamos la hipótesis de que las varianzas de ambos grupos son iguales. De tal forma que podemos seguir con la prueba de t de Welch, donde se considera que las varianzas no son iguales.\n",
    "\n",
    "Para esto tenemos dos hipótesis:\n",
    "\n",
    "-Hipótesis nula (H0): No hay diferencia significativa entre las medias de los ingresos de ambos planes. \n",
    "\n",
    "-Hipótesis alternativa (H1): Hay una diferencia significativa entre las medias de los ingresos de ambos planes.\n",
    "\n",
    "Realizamos la prueba estadística luego de elegir alpha (asegurandonos de poner \"equal_var=False\", para que se relice la prueba de t de Welch, donde se considera que las varianzas no son iguales en ambos grupos, debido al resultado de la prueba de Levine en el inciso anterior):"
   ]
  },
  {
   "cell_type": "code",
   "execution_count": 49,
   "metadata": {},
   "outputs": [
    {
     "name": "stdout",
     "output_type": "stream",
     "text": [
      "valor p:  [0.00049702]\n",
      "Rechazamos la hipótesis nula\n"
     ]
    }
   ],
   "source": [
    "alpha = 0.05\n",
    "results = st.ttest_ind(income_ultimate_st, income_surf_st, equal_var=False)\n",
    "\n",
    "# extraemos el valor p\n",
    "print('valor p: ', results.pvalue)\n",
    "\n",
    "# comparamos el valor p con el umbral\n",
    "if results.pvalue < alpha:\n",
    "    print(\"Rechazamos la hipótesis nula\")\n",
    "else:\n",
    "    print(\"No podemos rechazar la hipótesis nula\")"
   ]
  },
  {
   "cell_type": "markdown",
   "metadata": {},
   "source": [
    "Rechazamos la hiótesis de que las medias de ambos grupos son iguales. Este análisis complementa lo observado en las gráficas anteriores de boxplot (caja y bigotes) y en la gráfica de medias y desviación estandar de los ingresos por plan. "
   ]
  },
  {
   "cell_type": "markdown",
   "metadata": {},
   "source": [
    "Ahora se va a analizar si el ingreso promedio de los usuarios del área NY-NJ es distinta del de otras regiones.\n",
    "\n",
    "Primero debemos verificar la similitud estadística de las varianzas de los ingresos de ambos planes, para poder analizar si las medias de los ingresos de ambos planes son iguales. Si hay una diferencia significativa en las varianzas de ambos grupos, en la prueba de t de student tendremos que agregar \"equal_var=False\" para que se considere una Prueba t de Welch.\n",
    "\n",
    "Para esto tenemos dos hipótesis:\n",
    "\n",
    "-Hipótesis nula (H0): No hay diferencia significativa entre las varianzas de los ingresos de ambos planes. \n",
    "\n",
    "-Hipótesis alternativa (H1): Hay una diferencia significativa entre las varianzas de los ingresos de ambos planes."
   ]
  },
  {
   "cell_type": "code",
   "execution_count": 50,
   "metadata": {},
   "outputs": [
    {
     "name": "stdout",
     "output_type": "stream",
     "text": [
      "valor p:  0.6243491009751267\n",
      "No podemos rechazar la hipótesis nula\n"
     ]
    }
   ],
   "source": [
    "# Primero añadimos las ciudades al dataframe donde están los ingresos\n",
    "merge_df = merge_per_month_plan.merge(\n",
    "    users[[\"user_id\", \"city\"]], on=[\"user_id\"])\n",
    "\n",
    "# Segundo, filtramos y hacemos dos dataframes de acuerdo a si están en el área NY-NJ o no\n",
    "merge_df_ny_nj = merge_df[(\n",
    "    merge_df[\"city\"] == \"new york-newark-jersey city, ny-nj-pa msa\")]\n",
    "merge_df__not_ny_nj = merge_df[(\n",
    "    merge_df[\"city\"] != \"new york-newark-jersey city, ny-nj-pa msa\")]\n",
    "\n",
    "# Tercero, agrupamos por mes y plan y obtenemos el promedio los ingresos\n",
    "income_st_NY_NJ = merge_df_ny_nj.groupby([\"month\", \"plan\"])[\n",
    "    \"user_income\"].mean().reset_index()\n",
    "income_st_not_NY_NJ = merge_df__not_ny_nj.groupby(\n",
    "    [\"month\", \"plan\"])[\"user_income\"].mean().reset_index()\n",
    "\n",
    "# Guardamos el promedio que será utilizado para la prueba de t de student y la prueba de Levine.\n",
    "income_st_NY_NJ_mean = income_st_NY_NJ[[\"user_income\"]]\n",
    "income_st_not_NY_NJ_mean = income_st_not_NY_NJ[[\"user_income\"]]\n",
    "\n",
    "# hacemos listas de ambos dataframes para la prueba de Levine.\n",
    "income_st_NY_NJ_mean_lv = income_st_NY_NJ_mean[\"user_income\"].tolist()\n",
    "income_st_not_NY_NJ_mean_lv = income_st_not_NY_NJ_mean[\"user_income\"].tolist()\n",
    "\n",
    "# hacemos la prueba de Levine.\n",
    "lv_result = st.levene(income_st_NY_NJ_mean_lv, income_st_not_NY_NJ_mean_lv)\n",
    "\n",
    "print('valor p: ', lv_result.pvalue)  # extraemos el valor p\n",
    "\n",
    "if lv_result.pvalue < alpha:  # comparamos el valor p con el umbral\n",
    "    print(\"Rechazamos la hipótesis nula\")\n",
    "else:\n",
    "    print(\"No podemos rechazar la hipótesis nula\")"
   ]
  },
  {
   "cell_type": "markdown",
   "metadata": {},
   "source": [
    "Como no podemos rechazar la hipótesis de que las varianzas sean iguales, se hará una prueba T de student (con \"equal_var=True\").\n",
    "Para esto tenemos dos hipótesis:\n",
    "\n",
    "-Hipótesis nula (H0): No hay diferencia significativa entre las medias de los ingresos de ambos planes. \n",
    "\n",
    "-Hipótesis alternativa (H1): Hay una diferencia significativa entre las medias de los ingresos de ambos planes."
   ]
  },
  {
   "cell_type": "code",
   "execution_count": 51,
   "metadata": {
    "id": "Cqcj7wrZ0q1S"
   },
   "outputs": [
    {
     "name": "stdout",
     "output_type": "stream",
     "text": [
      "valor p:  [0.97740225]\n",
      "No podemos rechazar la hipótesis nula\n"
     ]
    }
   ],
   "source": [
    "# Realizamos la prueba estadística luego de elegir alpha:\n",
    "alpha = 0.05\n",
    "\n",
    "results = st.ttest_ind(income_st_NY_NJ_mean,\n",
    "                       income_st_not_NY_NJ_mean, equal_var=True)\n",
    "\n",
    "print('valor p: ', results.pvalue)  # extraer el valor p\n",
    "\n",
    "if results.pvalue < alpha:  # comparar el valor p con el umbral\n",
    "    print(\"Rechazamos la hipótesis nula\")\n",
    "else:\n",
    "    print(\"No podemos rechazar la hipótesis nula\")"
   ]
  },
  {
   "cell_type": "markdown",
   "metadata": {},
   "source": [
    "No podemos rechazar la hipótesis de que ambas poblaciones posean promedios de ingresos similares, con lo cual inferimos que al menos en el área NY-NJ no presenta diferencia en el uso de los planes y/o recursos (mensajes, minutos, GB) con respecto al resto de la población."
   ]
  },
  {
   "cell_type": "markdown",
   "metadata": {
    "id": "bbTR8UQO0q1T"
   },
   "source": [
    "## Conclusión general"
   ]
  },
  {
   "cell_type": "markdown",
   "metadata": {},
   "source": [
    "En este trabajo se buscó analizar las diferencias entre los planes \"surf\" y \"ultimate\" en los parámetros de mensajes, GB usados, llamadas (junto con el promedio de duración de las mismas) y los ingresos en dólares. \n",
    "\n",
    "No se observaron diferencias en el uso o la duración de las llamadas en los diferentes planes. Si se observó una mayor proporción de llamadas en el plan \"surf\", aunque esto puede estar explicado por que la mayoría de los usuarios presentan este plan (Alrededor del doble a comparación del plan \"ultimate\"). \n",
    "\n",
    "Se observaron ligeras diferencias en el comportamiento de los usuarios con respecto a los mensajes y GB, de acuerdo al plan. Se observó una  proporción aproximadamente 3 veces mayor de usuarios mandando mensajes en el plan \"surf\" y dos veces mayor en el consumo de GB a comparación del plan \"ultimate. Se observó un mayor sesgo por valores extremos tanto de mensajes como de GB del plan \"surf\". En el caso de los MB usados en el plan Surf a lo largo del año vemos una tendencia a un mayor uso de los mismos, hasta casi igualar el consumo por parte de los usuarios del plan Ultimate. En el caso de los mensajes, en ambos planes vemos una tendencia al aumento del uso de los mismos a lo largo del año.\n",
    "\n",
    "Se observan ciertas diferencias en los ingresos de acuerdo al plan que usan los usuarios. Los mayores ingresos vienen del plan \"surf\", aunque parecen estar relacionados a la cantidad de gente que los utiliza y a ciertos usuarios que generan valores extremos (por el cual se les cobra extra por los mensajes, minutos y gigabytes). Los ingresos por parte del plan Ultimate se mantienen uniformes a lo largo del año, a diferencia de los ingresos del plan Surf, que han crecido más de tres veces a lo largo del año. La tendencia parece indicar que los ingresos podrían seguir creciendo en el plan Surf. \n",
    "\n",
    "Al hacer la prueba estadísatica de la t de student para corroborar si los promedios de los ingresos son iguales entre si, encontramos que podemos rechazar esta hipotesis. Los promedios de ingresos entre planes poseen una diferencia significativa, estadisticamente hablando.\n",
    "\n",
    "Queriendo observar si dependiendo de un área especifica podría haber una diferencia entre el uso de un plan u otro y de esta forma de los ingresos, se hizó a prueba de t de student para corroborar si los promedios de los ingresos de la población del área NY-NJ, son similares con respecto al del resto de la población. Encontramos que no podemos rechazar la hipótesis de que ambas poblaciones poseen promedios de ingresos similares. "
   ]
  },
  {
   "cell_type": "code",
   "execution_count": null,
   "metadata": {},
   "outputs": [],
   "source": []
  }
 ],
 "metadata": {
  "ExecuteTimeLog": [
   {
    "duration": 828,
    "start_time": "2021-11-16T09:21:11.304Z"
   },
   {
    "duration": 893,
    "start_time": "2021-11-16T09:21:17.728Z"
   },
   {
    "duration": 1150,
    "start_time": "2021-11-16T09:21:29.568Z"
   },
   {
    "duration": 3,
    "start_time": "2021-11-16T09:24:14.495Z"
   },
   {
    "duration": 120,
    "start_time": "2021-11-16T09:24:46.630Z"
   },
   {
    "duration": 3,
    "start_time": "2021-11-16T09:28:27.882Z"
   },
   {
    "duration": 4,
    "start_time": "2021-11-16T09:29:54.281Z"
   },
   {
    "duration": 3,
    "start_time": "2021-11-16T09:30:45.936Z"
   },
   {
    "duration": 4,
    "start_time": "2021-11-16T09:31:06.300Z"
   },
   {
    "duration": 113,
    "start_time": "2021-11-16T09:31:37.208Z"
   },
   {
    "duration": 143,
    "start_time": "2021-11-16T09:31:48.656Z"
   },
   {
    "duration": 98,
    "start_time": "2021-11-16T09:31:55.678Z"
   },
   {
    "duration": 3,
    "start_time": "2021-11-16T09:32:08.535Z"
   },
   {
    "duration": 111,
    "start_time": "2021-11-16T09:32:10.120Z"
   },
   {
    "duration": 3,
    "start_time": "2021-11-16T09:32:15.732Z"
   },
   {
    "duration": 4,
    "start_time": "2021-11-16T09:32:29.423Z"
   },
   {
    "duration": 3,
    "start_time": "2021-11-16T10:03:03.074Z"
   },
   {
    "duration": 3,
    "start_time": "2021-11-16T10:10:01.288Z"
   },
   {
    "duration": 3,
    "start_time": "2021-11-16T10:10:46.923Z"
   },
   {
    "duration": 121,
    "start_time": "2021-11-16T10:37:46.494Z"
   },
   {
    "duration": 125,
    "start_time": "2021-11-16T10:38:20.632Z"
   },
   {
    "duration": 112,
    "start_time": "2021-11-16T10:46:53.001Z"
   },
   {
    "duration": 110,
    "start_time": "2021-11-16T10:48:25.775Z"
   },
   {
    "duration": 3,
    "start_time": "2021-11-16T10:50:18.720Z"
   },
   {
    "duration": 4,
    "start_time": "2021-11-16T10:50:37.649Z"
   },
   {
    "duration": 2,
    "start_time": "2021-11-16T10:50:51.884Z"
   },
   {
    "duration": 3,
    "start_time": "2021-11-16T10:51:56.237Z"
   },
   {
    "duration": 101,
    "start_time": "2021-11-16T10:53:13.791Z"
   },
   {
    "duration": 3,
    "start_time": "2021-11-16T10:55:59.186Z"
   },
   {
    "duration": 3,
    "start_time": "2021-11-16T10:56:10.751Z"
   },
   {
    "duration": 3,
    "start_time": "2021-11-16T10:56:49.038Z"
   },
   {
    "duration": 3,
    "start_time": "2021-11-16T10:56:49.174Z"
   },
   {
    "duration": 4,
    "start_time": "2021-11-16T10:56:49.414Z"
   },
   {
    "duration": 3,
    "start_time": "2021-11-16T10:56:49.680Z"
   },
   {
    "duration": 3,
    "start_time": "2021-11-16T10:56:50.370Z"
   },
   {
    "duration": 114,
    "start_time": "2021-11-16T10:59:34.518Z"
   },
   {
    "duration": 3,
    "start_time": "2021-11-16T11:01:41.201Z"
   },
   {
    "duration": 116,
    "start_time": "2021-11-16T11:01:48.754Z"
   },
   {
    "duration": 3,
    "start_time": "2021-11-16T11:02:16.685Z"
   },
   {
    "duration": 3,
    "start_time": "2021-11-16T11:02:19.479Z"
   },
   {
    "duration": 3,
    "start_time": "2021-11-16T11:02:47.067Z"
   },
   {
    "duration": 3,
    "start_time": "2021-11-16T11:02:49.353Z"
   },
   {
    "duration": 3,
    "start_time": "2021-11-16T11:03:07.835Z"
   },
   {
    "duration": 3,
    "start_time": "2021-11-16T11:03:07.953Z"
   },
   {
    "duration": 112,
    "start_time": "2021-11-16T11:07:52.072Z"
   },
   {
    "duration": 187,
    "start_time": "2021-11-16T11:09:23.468Z"
   },
   {
    "duration": 4,
    "start_time": "2021-11-16T11:10:01.455Z"
   },
   {
    "duration": 3,
    "start_time": "2021-11-16T11:10:05.069Z"
   },
   {
    "duration": 4,
    "start_time": "2021-11-16T11:10:13.376Z"
   },
   {
    "duration": 3,
    "start_time": "2021-11-16T11:10:14.434Z"
   },
   {
    "duration": 3,
    "start_time": "2021-11-16T11:10:22.853Z"
   },
   {
    "duration": 4,
    "start_time": "2021-11-16T11:27:29.279Z"
   },
   {
    "duration": 4,
    "start_time": "2021-11-16T11:29:08.919Z"
   },
   {
    "duration": 118,
    "start_time": "2021-11-16T11:29:46.703Z"
   },
   {
    "duration": 437,
    "start_time": "2021-11-16T11:36:02.181Z"
   },
   {
    "duration": 157,
    "start_time": "2021-11-16T11:36:14.388Z"
   },
   {
    "duration": 207,
    "start_time": "2021-11-16T11:47:15.898Z"
   },
   {
    "duration": 3,
    "start_time": "2021-11-16T11:53:52.092Z"
   },
   {
    "duration": 3,
    "start_time": "2021-11-16T11:53:52.236Z"
   },
   {
    "duration": 3,
    "start_time": "2021-11-16T11:59:12.005Z"
   },
   {
    "duration": 112,
    "start_time": "2021-11-16T12:00:33.446Z"
   },
   {
    "duration": 3,
    "start_time": "2021-11-16T12:02:14.453Z"
   },
   {
    "duration": 3,
    "start_time": "2021-11-16T12:02:39.512Z"
   },
   {
    "duration": 106,
    "start_time": "2021-11-16T12:03:03.460Z"
   },
   {
    "duration": 3,
    "start_time": "2021-11-17T20:37:21.139Z"
   },
   {
    "duration": 3,
    "start_time": "2021-11-17T20:37:22.229Z"
   },
   {
    "duration": 3,
    "start_time": "2021-11-17T20:38:38.806Z"
   },
   {
    "duration": 3,
    "start_time": "2021-11-17T20:38:41.958Z"
   },
   {
    "duration": 3,
    "start_time": "2021-11-17T20:43:46.551Z"
   },
   {
    "duration": 4,
    "start_time": "2021-11-17T20:58:21.835Z"
   },
   {
    "duration": 3,
    "start_time": "2021-11-17T20:59:21.872Z"
   },
   {
    "duration": 4,
    "start_time": "2021-11-17T20:59:45.352Z"
   },
   {
    "duration": 4,
    "start_time": "2021-11-17T20:59:49.646Z"
   },
   {
    "duration": 159,
    "start_time": "2021-11-17T21:02:26.949Z"
   },
   {
    "duration": 3,
    "start_time": "2021-11-17T21:03:53.461Z"
   },
   {
    "duration": 3,
    "start_time": "2021-11-17T21:03:53.694Z"
   },
   {
    "duration": 3,
    "start_time": "2021-11-17T21:05:28.145Z"
   },
   {
    "duration": 116,
    "start_time": "2021-11-17T21:05:57.787Z"
   },
   {
    "duration": 3,
    "start_time": "2021-11-17T21:06:37.993Z"
   },
   {
    "duration": 3,
    "start_time": "2021-11-17T21:06:38.261Z"
   },
   {
    "duration": 3,
    "start_time": "2021-11-17T21:11:54.358Z"
   },
   {
    "duration": 3,
    "start_time": "2021-11-17T21:12:43.846Z"
   },
   {
    "duration": 4,
    "start_time": "2021-11-17T21:13:08.773Z"
   },
   {
    "duration": 3,
    "start_time": "2021-11-17T21:14:44.441Z"
   },
   {
    "duration": 3,
    "start_time": "2021-11-17T21:15:42.059Z"
   },
   {
    "duration": 4,
    "start_time": "2021-11-17T21:15:51.995Z"
   },
   {
    "duration": 3,
    "start_time": "2021-11-17T21:15:53.923Z"
   },
   {
    "duration": 3,
    "start_time": "2021-11-17T21:15:55.282Z"
   },
   {
    "duration": 3,
    "start_time": "2021-11-17T21:16:28.492Z"
   },
   {
    "duration": 3,
    "start_time": "2021-11-17T21:16:32.603Z"
   },
   {
    "duration": 3,
    "start_time": "2021-11-17T21:17:06.941Z"
   },
   {
    "duration": 98,
    "start_time": "2021-11-17T21:18:05.733Z"
   },
   {
    "duration": 4,
    "start_time": "2021-11-17T21:21:35.255Z"
   },
   {
    "duration": 3,
    "start_time": "2021-11-17T21:21:37.804Z"
   },
   {
    "duration": 4,
    "start_time": "2021-11-17T21:23:06.071Z"
   },
   {
    "duration": 3,
    "start_time": "2021-11-17T21:23:24.799Z"
   },
   {
    "duration": 3,
    "start_time": "2021-11-17T21:23:32.591Z"
   },
   {
    "duration": 98,
    "start_time": "2021-11-17T21:28:31.559Z"
   },
   {
    "duration": 3,
    "start_time": "2021-11-17T21:28:45.448Z"
   },
   {
    "duration": 3,
    "start_time": "2021-11-17T21:29:17.303Z"
   },
   {
    "duration": 3,
    "start_time": "2021-11-17T21:29:29.617Z"
   },
   {
    "duration": 3,
    "start_time": "2021-11-17T21:29:32.681Z"
   },
   {
    "duration": 3,
    "start_time": "2021-11-17T21:36:11.474Z"
   },
   {
    "duration": 3,
    "start_time": "2021-11-17T21:36:14.791Z"
   },
   {
    "duration": 3,
    "start_time": "2021-11-17T21:36:53.943Z"
   },
   {
    "duration": 3,
    "start_time": "2021-11-17T21:36:56.165Z"
   },
   {
    "duration": 4,
    "start_time": "2021-11-17T21:37:16.590Z"
   },
   {
    "duration": 3,
    "start_time": "2021-11-17T21:37:22.702Z"
   },
   {
    "duration": 4,
    "start_time": "2021-11-17T21:38:03.479Z"
   },
   {
    "duration": 3,
    "start_time": "2021-11-17T21:38:08.601Z"
   },
   {
    "duration": 3,
    "start_time": "2021-11-17T21:38:12.928Z"
   },
   {
    "duration": 3,
    "start_time": "2021-11-17T21:38:48.896Z"
   },
   {
    "duration": 2,
    "start_time": "2021-11-17T21:38:49.171Z"
   },
   {
    "duration": 4,
    "start_time": "2021-11-17T21:39:57.889Z"
   },
   {
    "duration": 3,
    "start_time": "2021-11-17T21:39:58.057Z"
   },
   {
    "duration": 3,
    "start_time": "2021-11-17T21:41:20.108Z"
   },
   {
    "duration": 3,
    "start_time": "2021-11-17T21:41:20.629Z"
   },
   {
    "duration": 3,
    "start_time": "2021-11-17T21:42:49.136Z"
   },
   {
    "duration": 3,
    "start_time": "2021-11-17T21:43:15.137Z"
   },
   {
    "duration": 4,
    "start_time": "2021-11-17T21:43:16.766Z"
   },
   {
    "duration": 4,
    "start_time": "2021-11-17T21:43:31.711Z"
   },
   {
    "duration": 3,
    "start_time": "2021-11-17T21:43:36.312Z"
   },
   {
    "duration": 4,
    "start_time": "2021-11-17T21:45:08.825Z"
   },
   {
    "duration": 4,
    "start_time": "2021-11-17T21:45:10.119Z"
   },
   {
    "duration": 4,
    "start_time": "2021-11-17T21:45:13.748Z"
   },
   {
    "duration": 3,
    "start_time": "2021-11-17T21:45:22.219Z"
   },
   {
    "duration": 3,
    "start_time": "2021-11-17T21:45:33.412Z"
   },
   {
    "duration": 2,
    "start_time": "2021-11-17T21:46:01.885Z"
   },
   {
    "duration": 3,
    "start_time": "2021-11-17T21:46:03.628Z"
   },
   {
    "duration": 107,
    "start_time": "2021-11-17T21:47:32.512Z"
   },
   {
    "duration": 103,
    "start_time": "2021-11-17T21:50:36.243Z"
   },
   {
    "duration": 3,
    "start_time": "2021-11-18T06:28:31.440Z"
   },
   {
    "duration": 3,
    "start_time": "2021-11-18T06:29:00.168Z"
   },
   {
    "duration": 3,
    "start_time": "2021-11-18T06:31:27.008Z"
   },
   {
    "duration": 2,
    "start_time": "2021-11-18T06:35:34.288Z"
   },
   {
    "duration": 2,
    "start_time": "2021-11-18T06:38:04.527Z"
   },
   {
    "duration": 161,
    "start_time": "2025-01-22T22:51:47.545Z"
   },
   {
    "duration": 2593,
    "start_time": "2025-01-22T22:52:31.448Z"
   },
   {
    "duration": 803,
    "start_time": "2025-01-22T22:52:39.883Z"
   },
   {
    "duration": 209,
    "start_time": "2025-01-22T22:52:40.689Z"
   },
   {
    "duration": 9,
    "start_time": "2025-01-22T22:52:40.900Z"
   },
   {
    "duration": 9,
    "start_time": "2025-01-22T22:52:40.911Z"
   },
   {
    "duration": 8,
    "start_time": "2025-01-22T22:52:40.922Z"
   },
   {
    "duration": 10,
    "start_time": "2025-01-22T22:52:40.932Z"
   },
   {
    "duration": 8,
    "start_time": "2025-01-22T22:52:40.943Z"
   },
   {
    "duration": 49,
    "start_time": "2025-01-22T22:52:40.953Z"
   },
   {
    "duration": 28,
    "start_time": "2025-01-22T22:52:41.003Z"
   },
   {
    "duration": 20,
    "start_time": "2025-01-22T22:52:41.034Z"
   },
   {
    "duration": 39,
    "start_time": "2025-01-22T22:52:41.056Z"
   },
   {
    "duration": 50,
    "start_time": "2025-01-22T22:52:41.098Z"
   },
   {
    "duration": 50,
    "start_time": "2025-01-22T22:52:41.151Z"
   },
   {
    "duration": 26,
    "start_time": "2025-01-22T22:52:41.202Z"
   },
   {
    "duration": 11,
    "start_time": "2025-01-22T22:52:41.230Z"
   },
   {
    "duration": 8,
    "start_time": "2025-01-22T22:52:41.242Z"
   },
   {
    "duration": 55,
    "start_time": "2025-01-22T22:52:41.252Z"
   },
   {
    "duration": 19,
    "start_time": "2025-01-22T22:52:41.309Z"
   },
   {
    "duration": 13,
    "start_time": "2025-01-22T22:52:41.329Z"
   },
   {
    "duration": 50,
    "start_time": "2025-01-22T22:52:41.343Z"
   },
   {
    "duration": 63,
    "start_time": "2025-01-22T22:52:41.395Z"
   },
   {
    "duration": 39,
    "start_time": "2025-01-22T22:52:41.460Z"
   },
   {
    "duration": 7,
    "start_time": "2025-01-22T22:52:41.501Z"
   },
   {
    "duration": 20,
    "start_time": "2025-01-22T22:52:41.510Z"
   },
   {
    "duration": 17,
    "start_time": "2025-01-22T22:52:41.532Z"
   },
   {
    "duration": 43,
    "start_time": "2025-01-22T22:52:41.551Z"
   },
   {
    "duration": 17,
    "start_time": "2025-01-22T22:52:41.596Z"
   },
   {
    "duration": 26,
    "start_time": "2025-01-22T22:52:41.617Z"
   },
   {
    "duration": 57,
    "start_time": "2025-01-22T22:52:41.644Z"
   },
   {
    "duration": 2743,
    "start_time": "2025-01-22T22:52:41.703Z"
   },
   {
    "duration": 215,
    "start_time": "2025-01-22T22:52:44.448Z"
   },
   {
    "duration": 165,
    "start_time": "2025-01-22T22:52:44.666Z"
   },
   {
    "duration": 217,
    "start_time": "2025-01-22T22:52:44.832Z"
   },
   {
    "duration": 114,
    "start_time": "2025-01-22T22:52:45.051Z"
   },
   {
    "duration": 195,
    "start_time": "2025-01-22T22:52:45.167Z"
   },
   {
    "duration": 186,
    "start_time": "2025-01-22T22:52:45.364Z"
   },
   {
    "duration": 162,
    "start_time": "2025-01-22T22:52:45.552Z"
   },
   {
    "duration": 105,
    "start_time": "2025-01-22T22:52:45.716Z"
   },
   {
    "duration": 202,
    "start_time": "2025-01-22T22:52:45.823Z"
   },
   {
    "duration": 161,
    "start_time": "2025-01-22T22:52:46.027Z"
   },
   {
    "duration": 163,
    "start_time": "2025-01-22T22:52:46.190Z"
   },
   {
    "duration": 111,
    "start_time": "2025-01-22T22:52:46.356Z"
   },
   {
    "duration": 195,
    "start_time": "2025-01-22T22:52:46.470Z"
   },
   {
    "duration": 224,
    "start_time": "2025-01-22T22:52:46.667Z"
   },
   {
    "duration": 172,
    "start_time": "2025-01-22T22:52:46.893Z"
   },
   {
    "duration": 102,
    "start_time": "2025-01-22T22:52:47.067Z"
   },
   {
    "duration": 473,
    "start_time": "2025-01-22T22:52:47.170Z"
   },
   {
    "duration": 246,
    "start_time": "2025-01-22T22:52:47.645Z"
   },
   {
    "duration": 0,
    "start_time": "2025-01-22T22:52:47.894Z"
   },
   {
    "duration": 0,
    "start_time": "2025-01-22T22:52:47.895Z"
   },
   {
    "duration": 0,
    "start_time": "2025-01-22T22:52:47.896Z"
   },
   {
    "duration": 7,
    "start_time": "2025-01-22T22:53:46.070Z"
   },
   {
    "duration": 800,
    "start_time": "2025-01-22T22:54:50.862Z"
   },
   {
    "duration": 174,
    "start_time": "2025-01-22T22:54:51.664Z"
   },
   {
    "duration": 8,
    "start_time": "2025-01-22T22:54:51.840Z"
   },
   {
    "duration": 10,
    "start_time": "2025-01-22T22:54:51.851Z"
   },
   {
    "duration": 10,
    "start_time": "2025-01-22T22:54:51.862Z"
   },
   {
    "duration": 10,
    "start_time": "2025-01-22T22:54:51.887Z"
   },
   {
    "duration": 9,
    "start_time": "2025-01-22T22:54:51.899Z"
   },
   {
    "duration": 24,
    "start_time": "2025-01-22T22:54:51.909Z"
   },
   {
    "duration": 53,
    "start_time": "2025-01-22T22:54:51.935Z"
   },
   {
    "duration": 22,
    "start_time": "2025-01-22T22:54:51.991Z"
   },
   {
    "duration": 15,
    "start_time": "2025-01-22T22:54:52.015Z"
   },
   {
    "duration": 77,
    "start_time": "2025-01-22T22:54:52.032Z"
   },
   {
    "duration": 33,
    "start_time": "2025-01-22T22:54:52.112Z"
   },
   {
    "duration": 42,
    "start_time": "2025-01-22T22:54:52.147Z"
   },
   {
    "duration": 13,
    "start_time": "2025-01-22T22:54:52.190Z"
   },
   {
    "duration": 10,
    "start_time": "2025-01-22T22:54:52.204Z"
   },
   {
    "duration": 31,
    "start_time": "2025-01-22T22:54:52.215Z"
   },
   {
    "duration": 48,
    "start_time": "2025-01-22T22:54:52.247Z"
   },
   {
    "duration": 13,
    "start_time": "2025-01-22T22:54:52.296Z"
   },
   {
    "duration": 20,
    "start_time": "2025-01-22T22:54:52.312Z"
   },
   {
    "duration": 79,
    "start_time": "2025-01-22T22:54:52.334Z"
   },
   {
    "duration": 22,
    "start_time": "2025-01-22T22:54:52.415Z"
   },
   {
    "duration": 6,
    "start_time": "2025-01-22T22:54:52.439Z"
   },
   {
    "duration": 40,
    "start_time": "2025-01-22T22:54:52.447Z"
   },
   {
    "duration": 17,
    "start_time": "2025-01-22T22:54:52.489Z"
   },
   {
    "duration": 13,
    "start_time": "2025-01-22T22:54:52.508Z"
   },
   {
    "duration": 16,
    "start_time": "2025-01-22T22:54:52.522Z"
   },
   {
    "duration": 51,
    "start_time": "2025-01-22T22:54:52.542Z"
   },
   {
    "duration": 31,
    "start_time": "2025-01-22T22:54:52.594Z"
   },
   {
    "duration": 3156,
    "start_time": "2025-01-22T22:54:52.627Z"
   },
   {
    "duration": 210,
    "start_time": "2025-01-22T22:54:55.784Z"
   },
   {
    "duration": 169,
    "start_time": "2025-01-22T22:54:55.996Z"
   },
   {
    "duration": 215,
    "start_time": "2025-01-22T22:54:56.167Z"
   },
   {
    "duration": 112,
    "start_time": "2025-01-22T22:54:56.383Z"
   },
   {
    "duration": 205,
    "start_time": "2025-01-22T22:54:56.497Z"
   },
   {
    "duration": 178,
    "start_time": "2025-01-22T22:54:56.704Z"
   },
   {
    "duration": 155,
    "start_time": "2025-01-22T22:54:56.886Z"
   },
   {
    "duration": 114,
    "start_time": "2025-01-22T22:54:57.043Z"
   },
   {
    "duration": 194,
    "start_time": "2025-01-22T22:54:57.159Z"
   },
   {
    "duration": 156,
    "start_time": "2025-01-22T22:54:57.355Z"
   },
   {
    "duration": 167,
    "start_time": "2025-01-22T22:54:57.513Z"
   },
   {
    "duration": 102,
    "start_time": "2025-01-22T22:54:57.686Z"
   },
   {
    "duration": 202,
    "start_time": "2025-01-22T22:54:57.790Z"
   },
   {
    "duration": 226,
    "start_time": "2025-01-22T22:54:57.994Z"
   },
   {
    "duration": 165,
    "start_time": "2025-01-22T22:54:58.222Z"
   },
   {
    "duration": 104,
    "start_time": "2025-01-22T22:54:58.388Z"
   },
   {
    "duration": 441,
    "start_time": "2025-01-22T22:54:58.494Z"
   },
   {
    "duration": 8,
    "start_time": "2025-01-22T22:54:58.937Z"
   },
   {
    "duration": 4,
    "start_time": "2025-01-22T22:54:58.947Z"
   },
   {
    "duration": 14,
    "start_time": "2025-01-22T22:54:58.953Z"
   },
   {
    "duration": 4,
    "start_time": "2025-01-22T22:54:58.968Z"
   }
  ],
  "colab": {
   "provenance": []
  },
  "kernelspec": {
   "display_name": "Python 3 (ipykernel)",
   "language": "python",
   "name": "python3"
  },
  "language_info": {
   "codemirror_mode": {
    "name": "ipython",
    "version": 3
   },
   "file_extension": ".py",
   "mimetype": "text/x-python",
   "name": "python",
   "nbconvert_exporter": "python",
   "pygments_lexer": "ipython3",
   "version": "3.9.19"
  },
  "toc": {
   "base_numbering": 1,
   "nav_menu": {},
   "number_sections": true,
   "sideBar": true,
   "skip_h1_title": false,
   "title_cell": "Table of Contents",
   "title_sidebar": "Contents",
   "toc_cell": false,
   "toc_position": {
    "height": "calc(100% - 180px)",
    "left": "10px",
    "top": "150px",
    "width": "291.2px"
   },
   "toc_section_display": true,
   "toc_window_display": true
  }
 },
 "nbformat": 4,
 "nbformat_minor": 1
}
